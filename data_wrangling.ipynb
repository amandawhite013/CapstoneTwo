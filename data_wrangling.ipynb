{
 "cells": [
  {
   "cell_type": "code",
   "execution_count": 1,
   "metadata": {},
   "outputs": [],
   "source": [
    "url = 'https://www.kaggle.com/aaronschlegel/austin-animal-center-shelter-outcomes-and'"
   ]
  },
  {
   "cell_type": "code",
   "execution_count": 2,
   "metadata": {},
   "outputs": [],
   "source": [
    "import pandas as pd\n",
    "import datetime\n",
    "import seaborn as sns\n",
    "import matplotlib.pyplot as plt"
   ]
  },
  {
   "cell_type": "code",
   "execution_count": 3,
   "metadata": {},
   "outputs": [],
   "source": [
    "#Only using data from one large shelter so that adoption policies and strategies are the same \n",
    "austin_raw_data = pd.read_csv('raw_data/aac_intakes_outcomes.csv')"
   ]
  },
  {
   "cell_type": "markdown",
   "metadata": {},
   "source": [
    "# 1. Selecting columns and dogs as animal type"
   ]
  },
  {
   "cell_type": "code",
   "execution_count": 4,
   "metadata": {
    "scrolled": false
   },
   "outputs": [
    {
     "data": {
      "text/plain": [
       "Index(['age_upon_outcome', 'animal_id_outcome', 'date_of_birth',\n",
       "       'outcome_subtype', 'outcome_type', 'sex_upon_outcome',\n",
       "       'age_upon_outcome_(days)', 'age_upon_outcome_(years)',\n",
       "       'age_upon_outcome_age_group', 'outcome_datetime', 'outcome_month',\n",
       "       'outcome_year', 'outcome_monthyear', 'outcome_weekday', 'outcome_hour',\n",
       "       'outcome_number', 'dob_year', 'dob_month', 'dob_monthyear',\n",
       "       'age_upon_intake', 'animal_id_intake', 'animal_type', 'breed', 'color',\n",
       "       'found_location', 'intake_condition', 'intake_type', 'sex_upon_intake',\n",
       "       'count', 'age_upon_intake_(days)', 'age_upon_intake_(years)',\n",
       "       'age_upon_intake_age_group', 'intake_datetime', 'intake_month',\n",
       "       'intake_year', 'intake_monthyear', 'intake_weekday', 'intake_hour',\n",
       "       'intake_number', 'time_in_shelter', 'time_in_shelter_days'],\n",
       "      dtype='object')"
      ]
     },
     "execution_count": 4,
     "metadata": {},
     "output_type": "execute_result"
    }
   ],
   "source": [
    "austin_raw_data.columns\n"
   ]
  },
  {
   "cell_type": "code",
   "execution_count": 5,
   "metadata": {},
   "outputs": [
    {
     "data": {
      "text/plain": [
       "array(['Dog', 'Cat', 'Other', 'Bird'], dtype=object)"
      ]
     },
     "execution_count": 5,
     "metadata": {},
     "output_type": "execute_result"
    }
   ],
   "source": [
    "#how many are included?\n",
    "austin_raw_data['animal_type'].unique()"
   ]
  },
  {
   "cell_type": "code",
   "execution_count": 6,
   "metadata": {},
   "outputs": [
    {
     "data": {
      "text/html": [
       "<div>\n",
       "<style scoped>\n",
       "    .dataframe tbody tr th:only-of-type {\n",
       "        vertical-align: middle;\n",
       "    }\n",
       "\n",
       "    .dataframe tbody tr th {\n",
       "        vertical-align: top;\n",
       "    }\n",
       "\n",
       "    .dataframe thead th {\n",
       "        text-align: right;\n",
       "    }\n",
       "</style>\n",
       "<table border=\"1\" class=\"dataframe\">\n",
       "  <thead>\n",
       "    <tr style=\"text-align: right;\">\n",
       "      <th></th>\n",
       "      <th>age_upon_outcome</th>\n",
       "      <th>animal_id_outcome</th>\n",
       "      <th>date_of_birth</th>\n",
       "      <th>outcome_subtype</th>\n",
       "      <th>outcome_type</th>\n",
       "      <th>sex_upon_outcome</th>\n",
       "      <th>age_upon_outcome_(days)</th>\n",
       "      <th>age_upon_outcome_(years)</th>\n",
       "      <th>age_upon_outcome_age_group</th>\n",
       "      <th>outcome_datetime</th>\n",
       "      <th>...</th>\n",
       "      <th>age_upon_intake_age_group</th>\n",
       "      <th>intake_datetime</th>\n",
       "      <th>intake_month</th>\n",
       "      <th>intake_year</th>\n",
       "      <th>intake_monthyear</th>\n",
       "      <th>intake_weekday</th>\n",
       "      <th>intake_hour</th>\n",
       "      <th>intake_number</th>\n",
       "      <th>time_in_shelter</th>\n",
       "      <th>time_in_shelter_days</th>\n",
       "    </tr>\n",
       "  </thead>\n",
       "  <tbody>\n",
       "    <tr>\n",
       "      <th>0</th>\n",
       "      <td>10 years</td>\n",
       "      <td>A006100</td>\n",
       "      <td>2007-07-09 00:00:00</td>\n",
       "      <td>NaN</td>\n",
       "      <td>Return to Owner</td>\n",
       "      <td>Neutered Male</td>\n",
       "      <td>3650</td>\n",
       "      <td>10.0</td>\n",
       "      <td>(7.5, 10.0]</td>\n",
       "      <td>2017-12-07 14:07:00</td>\n",
       "      <td>...</td>\n",
       "      <td>(7.5, 10.0]</td>\n",
       "      <td>2017-12-07 00:00:00</td>\n",
       "      <td>12</td>\n",
       "      <td>2017</td>\n",
       "      <td>2017-12</td>\n",
       "      <td>Thursday</td>\n",
       "      <td>14</td>\n",
       "      <td>1.0</td>\n",
       "      <td>0 days 14:07:00.000000000</td>\n",
       "      <td>0.588194</td>\n",
       "    </tr>\n",
       "    <tr>\n",
       "      <th>1</th>\n",
       "      <td>7 years</td>\n",
       "      <td>A006100</td>\n",
       "      <td>2007-07-09 00:00:00</td>\n",
       "      <td>NaN</td>\n",
       "      <td>Return to Owner</td>\n",
       "      <td>Neutered Male</td>\n",
       "      <td>2555</td>\n",
       "      <td>7.0</td>\n",
       "      <td>(5.0, 7.5]</td>\n",
       "      <td>2014-12-20 16:35:00</td>\n",
       "      <td>...</td>\n",
       "      <td>(5.0, 7.5]</td>\n",
       "      <td>2014-12-19 10:21:00</td>\n",
       "      <td>12</td>\n",
       "      <td>2014</td>\n",
       "      <td>2014-12</td>\n",
       "      <td>Friday</td>\n",
       "      <td>10</td>\n",
       "      <td>2.0</td>\n",
       "      <td>1 days 06:14:00.000000000</td>\n",
       "      <td>1.259722</td>\n",
       "    </tr>\n",
       "    <tr>\n",
       "      <th>2</th>\n",
       "      <td>6 years</td>\n",
       "      <td>A006100</td>\n",
       "      <td>2007-07-09 00:00:00</td>\n",
       "      <td>NaN</td>\n",
       "      <td>Return to Owner</td>\n",
       "      <td>Neutered Male</td>\n",
       "      <td>2190</td>\n",
       "      <td>6.0</td>\n",
       "      <td>(5.0, 7.5]</td>\n",
       "      <td>2014-03-08 17:10:00</td>\n",
       "      <td>...</td>\n",
       "      <td>(5.0, 7.5]</td>\n",
       "      <td>2014-03-07 14:26:00</td>\n",
       "      <td>3</td>\n",
       "      <td>2014</td>\n",
       "      <td>2014-03</td>\n",
       "      <td>Friday</td>\n",
       "      <td>14</td>\n",
       "      <td>3.0</td>\n",
       "      <td>1 days 02:44:00.000000000</td>\n",
       "      <td>1.113889</td>\n",
       "    </tr>\n",
       "    <tr>\n",
       "      <th>3</th>\n",
       "      <td>10 years</td>\n",
       "      <td>A047759</td>\n",
       "      <td>2004-04-02 00:00:00</td>\n",
       "      <td>Partner</td>\n",
       "      <td>Transfer</td>\n",
       "      <td>Neutered Male</td>\n",
       "      <td>3650</td>\n",
       "      <td>10.0</td>\n",
       "      <td>(7.5, 10.0]</td>\n",
       "      <td>2014-04-07 15:12:00</td>\n",
       "      <td>...</td>\n",
       "      <td>(7.5, 10.0]</td>\n",
       "      <td>2014-04-02 15:55:00</td>\n",
       "      <td>4</td>\n",
       "      <td>2014</td>\n",
       "      <td>2014-04</td>\n",
       "      <td>Wednesday</td>\n",
       "      <td>15</td>\n",
       "      <td>1.0</td>\n",
       "      <td>4 days 23:17:00.000000000</td>\n",
       "      <td>4.970139</td>\n",
       "    </tr>\n",
       "    <tr>\n",
       "      <th>4</th>\n",
       "      <td>16 years</td>\n",
       "      <td>A134067</td>\n",
       "      <td>1997-10-16 00:00:00</td>\n",
       "      <td>NaN</td>\n",
       "      <td>Return to Owner</td>\n",
       "      <td>Neutered Male</td>\n",
       "      <td>5840</td>\n",
       "      <td>16.0</td>\n",
       "      <td>(15.0, 17.5]</td>\n",
       "      <td>2013-11-16 11:54:00</td>\n",
       "      <td>...</td>\n",
       "      <td>(15.0, 17.5]</td>\n",
       "      <td>2013-11-16 09:02:00</td>\n",
       "      <td>11</td>\n",
       "      <td>2013</td>\n",
       "      <td>2013-11</td>\n",
       "      <td>Saturday</td>\n",
       "      <td>9</td>\n",
       "      <td>1.0</td>\n",
       "      <td>0 days 02:52:00.000000000</td>\n",
       "      <td>0.119444</td>\n",
       "    </tr>\n",
       "  </tbody>\n",
       "</table>\n",
       "<p>5 rows × 41 columns</p>\n",
       "</div>"
      ],
      "text/plain": [
       "  age_upon_outcome animal_id_outcome        date_of_birth outcome_subtype  \\\n",
       "0         10 years           A006100  2007-07-09 00:00:00             NaN   \n",
       "1          7 years           A006100  2007-07-09 00:00:00             NaN   \n",
       "2          6 years           A006100  2007-07-09 00:00:00             NaN   \n",
       "3         10 years           A047759  2004-04-02 00:00:00         Partner   \n",
       "4         16 years           A134067  1997-10-16 00:00:00             NaN   \n",
       "\n",
       "      outcome_type sex_upon_outcome  age_upon_outcome_(days)  \\\n",
       "0  Return to Owner    Neutered Male                     3650   \n",
       "1  Return to Owner    Neutered Male                     2555   \n",
       "2  Return to Owner    Neutered Male                     2190   \n",
       "3         Transfer    Neutered Male                     3650   \n",
       "4  Return to Owner    Neutered Male                     5840   \n",
       "\n",
       "   age_upon_outcome_(years) age_upon_outcome_age_group     outcome_datetime  \\\n",
       "0                      10.0                (7.5, 10.0]  2017-12-07 14:07:00   \n",
       "1                       7.0                 (5.0, 7.5]  2014-12-20 16:35:00   \n",
       "2                       6.0                 (5.0, 7.5]  2014-03-08 17:10:00   \n",
       "3                      10.0                (7.5, 10.0]  2014-04-07 15:12:00   \n",
       "4                      16.0               (15.0, 17.5]  2013-11-16 11:54:00   \n",
       "\n",
       "   ...  age_upon_intake_age_group      intake_datetime intake_month  \\\n",
       "0  ...                (7.5, 10.0]  2017-12-07 00:00:00           12   \n",
       "1  ...                 (5.0, 7.5]  2014-12-19 10:21:00           12   \n",
       "2  ...                 (5.0, 7.5]  2014-03-07 14:26:00            3   \n",
       "3  ...                (7.5, 10.0]  2014-04-02 15:55:00            4   \n",
       "4  ...               (15.0, 17.5]  2013-11-16 09:02:00           11   \n",
       "\n",
       "  intake_year  intake_monthyear  intake_weekday  intake_hour  intake_number  \\\n",
       "0        2017           2017-12        Thursday           14            1.0   \n",
       "1        2014           2014-12          Friday           10            2.0   \n",
       "2        2014           2014-03          Friday           14            3.0   \n",
       "3        2014           2014-04       Wednesday           15            1.0   \n",
       "4        2013           2013-11        Saturday            9            1.0   \n",
       "\n",
       "             time_in_shelter time_in_shelter_days  \n",
       "0  0 days 14:07:00.000000000             0.588194  \n",
       "1  1 days 06:14:00.000000000             1.259722  \n",
       "2  1 days 02:44:00.000000000             1.113889  \n",
       "3  4 days 23:17:00.000000000             4.970139  \n",
       "4  0 days 02:52:00.000000000             0.119444  \n",
       "\n",
       "[5 rows x 41 columns]"
      ]
     },
     "execution_count": 6,
     "metadata": {},
     "output_type": "execute_result"
    }
   ],
   "source": [
    "#only select dogs\n",
    "austin_data = austin_raw_data[austin_raw_data['animal_type'] == 'Dog']\n",
    "austin_data.head()"
   ]
  },
  {
   "cell_type": "code",
   "execution_count": 7,
   "metadata": {},
   "outputs": [],
   "source": [
    "#drop redundant, irrelevant or columns missing many values \n",
    "new_columns = ['outcome_type', 'animal_id_intake',\n",
    "        'age_upon_outcome_(years)',\n",
    "       'outcome_datetime',\n",
    "       'outcome_monthyear', \n",
    "       'age_upon_intake',  'animal_type', 'breed', 'color',\n",
    "       'intake_condition', 'intake_type', 'sex_upon_intake', 'sex_upon_outcome',\n",
    "       'age_upon_intake_(years)',\n",
    "        'intake_datetime', \n",
    "        'intake_monthyear', \n",
    "       'intake_number', 'time_in_shelter_days'] "
   ]
  },
  {
   "cell_type": "code",
   "execution_count": 8,
   "metadata": {},
   "outputs": [
    {
     "data": {
      "text/html": [
       "<div>\n",
       "<style scoped>\n",
       "    .dataframe tbody tr th:only-of-type {\n",
       "        vertical-align: middle;\n",
       "    }\n",
       "\n",
       "    .dataframe tbody tr th {\n",
       "        vertical-align: top;\n",
       "    }\n",
       "\n",
       "    .dataframe thead th {\n",
       "        text-align: right;\n",
       "    }\n",
       "</style>\n",
       "<table border=\"1\" class=\"dataframe\">\n",
       "  <thead>\n",
       "    <tr style=\"text-align: right;\">\n",
       "      <th></th>\n",
       "      <th>outcome_type</th>\n",
       "      <th>animal_id_intake</th>\n",
       "      <th>age_upon_outcome_(years)</th>\n",
       "      <th>outcome_datetime</th>\n",
       "      <th>outcome_monthyear</th>\n",
       "      <th>age_upon_intake</th>\n",
       "      <th>animal_type</th>\n",
       "      <th>breed</th>\n",
       "      <th>color</th>\n",
       "      <th>intake_condition</th>\n",
       "      <th>intake_type</th>\n",
       "      <th>sex_upon_intake</th>\n",
       "      <th>sex_upon_outcome</th>\n",
       "      <th>age_upon_intake_(years)</th>\n",
       "      <th>intake_datetime</th>\n",
       "      <th>intake_monthyear</th>\n",
       "      <th>intake_number</th>\n",
       "      <th>time_in_shelter_days</th>\n",
       "    </tr>\n",
       "  </thead>\n",
       "  <tbody>\n",
       "    <tr>\n",
       "      <th>0</th>\n",
       "      <td>Return to Owner</td>\n",
       "      <td>A006100</td>\n",
       "      <td>10.0</td>\n",
       "      <td>2017-12-07 14:07:00</td>\n",
       "      <td>2017-12</td>\n",
       "      <td>10 years</td>\n",
       "      <td>Dog</td>\n",
       "      <td>Spinone Italiano Mix</td>\n",
       "      <td>Yellow/White</td>\n",
       "      <td>Normal</td>\n",
       "      <td>Stray</td>\n",
       "      <td>Neutered Male</td>\n",
       "      <td>Neutered Male</td>\n",
       "      <td>10.0</td>\n",
       "      <td>2017-12-07 00:00:00</td>\n",
       "      <td>2017-12</td>\n",
       "      <td>1.0</td>\n",
       "      <td>0.588194</td>\n",
       "    </tr>\n",
       "    <tr>\n",
       "      <th>1</th>\n",
       "      <td>Return to Owner</td>\n",
       "      <td>A006100</td>\n",
       "      <td>7.0</td>\n",
       "      <td>2014-12-20 16:35:00</td>\n",
       "      <td>2014-12</td>\n",
       "      <td>7 years</td>\n",
       "      <td>Dog</td>\n",
       "      <td>Spinone Italiano Mix</td>\n",
       "      <td>Yellow/White</td>\n",
       "      <td>Normal</td>\n",
       "      <td>Public Assist</td>\n",
       "      <td>Neutered Male</td>\n",
       "      <td>Neutered Male</td>\n",
       "      <td>7.0</td>\n",
       "      <td>2014-12-19 10:21:00</td>\n",
       "      <td>2014-12</td>\n",
       "      <td>2.0</td>\n",
       "      <td>1.259722</td>\n",
       "    </tr>\n",
       "    <tr>\n",
       "      <th>2</th>\n",
       "      <td>Return to Owner</td>\n",
       "      <td>A006100</td>\n",
       "      <td>6.0</td>\n",
       "      <td>2014-03-08 17:10:00</td>\n",
       "      <td>2014-03</td>\n",
       "      <td>6 years</td>\n",
       "      <td>Dog</td>\n",
       "      <td>Spinone Italiano Mix</td>\n",
       "      <td>Yellow/White</td>\n",
       "      <td>Normal</td>\n",
       "      <td>Public Assist</td>\n",
       "      <td>Neutered Male</td>\n",
       "      <td>Neutered Male</td>\n",
       "      <td>6.0</td>\n",
       "      <td>2014-03-07 14:26:00</td>\n",
       "      <td>2014-03</td>\n",
       "      <td>3.0</td>\n",
       "      <td>1.113889</td>\n",
       "    </tr>\n",
       "    <tr>\n",
       "      <th>3</th>\n",
       "      <td>Transfer</td>\n",
       "      <td>A047759</td>\n",
       "      <td>10.0</td>\n",
       "      <td>2014-04-07 15:12:00</td>\n",
       "      <td>2014-04</td>\n",
       "      <td>10 years</td>\n",
       "      <td>Dog</td>\n",
       "      <td>Dachshund</td>\n",
       "      <td>Tricolor</td>\n",
       "      <td>Normal</td>\n",
       "      <td>Owner Surrender</td>\n",
       "      <td>Neutered Male</td>\n",
       "      <td>Neutered Male</td>\n",
       "      <td>10.0</td>\n",
       "      <td>2014-04-02 15:55:00</td>\n",
       "      <td>2014-04</td>\n",
       "      <td>1.0</td>\n",
       "      <td>4.970139</td>\n",
       "    </tr>\n",
       "    <tr>\n",
       "      <th>4</th>\n",
       "      <td>Return to Owner</td>\n",
       "      <td>A134067</td>\n",
       "      <td>16.0</td>\n",
       "      <td>2013-11-16 11:54:00</td>\n",
       "      <td>2013-11</td>\n",
       "      <td>16 years</td>\n",
       "      <td>Dog</td>\n",
       "      <td>Shetland Sheepdog</td>\n",
       "      <td>Brown/White</td>\n",
       "      <td>Injured</td>\n",
       "      <td>Public Assist</td>\n",
       "      <td>Neutered Male</td>\n",
       "      <td>Neutered Male</td>\n",
       "      <td>16.0</td>\n",
       "      <td>2013-11-16 09:02:00</td>\n",
       "      <td>2013-11</td>\n",
       "      <td>1.0</td>\n",
       "      <td>0.119444</td>\n",
       "    </tr>\n",
       "  </tbody>\n",
       "</table>\n",
       "</div>"
      ],
      "text/plain": [
       "      outcome_type animal_id_intake  age_upon_outcome_(years)  \\\n",
       "0  Return to Owner          A006100                      10.0   \n",
       "1  Return to Owner          A006100                       7.0   \n",
       "2  Return to Owner          A006100                       6.0   \n",
       "3         Transfer          A047759                      10.0   \n",
       "4  Return to Owner          A134067                      16.0   \n",
       "\n",
       "      outcome_datetime outcome_monthyear age_upon_intake animal_type  \\\n",
       "0  2017-12-07 14:07:00           2017-12        10 years         Dog   \n",
       "1  2014-12-20 16:35:00           2014-12         7 years         Dog   \n",
       "2  2014-03-08 17:10:00           2014-03         6 years         Dog   \n",
       "3  2014-04-07 15:12:00           2014-04        10 years         Dog   \n",
       "4  2013-11-16 11:54:00           2013-11        16 years         Dog   \n",
       "\n",
       "                  breed         color intake_condition      intake_type  \\\n",
       "0  Spinone Italiano Mix  Yellow/White           Normal            Stray   \n",
       "1  Spinone Italiano Mix  Yellow/White           Normal    Public Assist   \n",
       "2  Spinone Italiano Mix  Yellow/White           Normal    Public Assist   \n",
       "3             Dachshund      Tricolor           Normal  Owner Surrender   \n",
       "4     Shetland Sheepdog   Brown/White          Injured    Public Assist   \n",
       "\n",
       "  sex_upon_intake sex_upon_outcome  age_upon_intake_(years)  \\\n",
       "0   Neutered Male    Neutered Male                     10.0   \n",
       "1   Neutered Male    Neutered Male                      7.0   \n",
       "2   Neutered Male    Neutered Male                      6.0   \n",
       "3   Neutered Male    Neutered Male                     10.0   \n",
       "4   Neutered Male    Neutered Male                     16.0   \n",
       "\n",
       "       intake_datetime intake_monthyear  intake_number  time_in_shelter_days  \n",
       "0  2017-12-07 00:00:00          2017-12            1.0              0.588194  \n",
       "1  2014-12-19 10:21:00          2014-12            2.0              1.259722  \n",
       "2  2014-03-07 14:26:00          2014-03            3.0              1.113889  \n",
       "3  2014-04-02 15:55:00          2014-04            1.0              4.970139  \n",
       "4  2013-11-16 09:02:00          2013-11            1.0              0.119444  "
      ]
     },
     "execution_count": 8,
     "metadata": {},
     "output_type": "execute_result"
    }
   ],
   "source": [
    "\n",
    "austin_data = austin_data.loc[:, new_columns]\n",
    "austin_data.head()\n"
   ]
  },
  {
   "cell_type": "code",
   "execution_count": 9,
   "metadata": {},
   "outputs": [
    {
     "data": {
      "text/plain": [
       "(45366, 18)"
      ]
     },
     "execution_count": 9,
     "metadata": {},
     "output_type": "execute_result"
    }
   ],
   "source": [
    "austin_data.shape"
   ]
  },
  {
   "cell_type": "markdown",
   "metadata": {},
   "source": [
    "# 2. Viewing and changing data types"
   ]
  },
  {
   "cell_type": "code",
   "execution_count": 10,
   "metadata": {},
   "outputs": [
    {
     "data": {
      "text/plain": [
       "outcome_type                 object\n",
       "animal_id_intake             object\n",
       "age_upon_outcome_(years)    float64\n",
       "outcome_datetime             object\n",
       "outcome_monthyear            object\n",
       "age_upon_intake              object\n",
       "animal_type                  object\n",
       "breed                        object\n",
       "color                        object\n",
       "intake_condition             object\n",
       "intake_type                  object\n",
       "sex_upon_intake              object\n",
       "sex_upon_outcome             object\n",
       "age_upon_intake_(years)     float64\n",
       "intake_datetime              object\n",
       "intake_monthyear             object\n",
       "intake_number               float64\n",
       "time_in_shelter_days        float64\n",
       "dtype: object"
      ]
     },
     "execution_count": 10,
     "metadata": {},
     "output_type": "execute_result"
    }
   ],
   "source": [
    "austin_data.dtypes"
   ]
  },
  {
   "cell_type": "code",
   "execution_count": 11,
   "metadata": {},
   "outputs": [
    {
     "data": {
      "text/plain": [
       "outcome_type                        object\n",
       "animal_id_intake                    object\n",
       "age_upon_outcome_(years)           float64\n",
       "outcome_datetime            datetime64[ns]\n",
       "outcome_monthyear                   object\n",
       "age_upon_intake                     object\n",
       "animal_type                         object\n",
       "breed                               object\n",
       "color                               object\n",
       "intake_condition                    object\n",
       "intake_type                         object\n",
       "sex_upon_intake                     object\n",
       "sex_upon_outcome                    object\n",
       "age_upon_intake_(years)            float64\n",
       "intake_datetime             datetime64[ns]\n",
       "intake_monthyear                    object\n",
       "intake_number                      float64\n",
       "time_in_shelter_days               float64\n",
       "dtype: object"
      ]
     },
     "execution_count": 11,
     "metadata": {},
     "output_type": "execute_result"
    }
   ],
   "source": [
    "#convert intake and outcome dates to datetime objects \n",
    "#time of year may play into number of adoptions\n",
    "austin_data[['outcome_datetime', 'intake_datetime']] = austin_data[['outcome_datetime', 'intake_datetime']].apply(pd.to_datetime, format = '%Y/%m/%d', errors = 'coerce')\n",
    "austin_data.dtypes"
   ]
  },
  {
   "cell_type": "markdown",
   "metadata": {},
   "source": [
    "# 3. Exploring "
   ]
  },
  {
   "cell_type": "code",
   "execution_count": 12,
   "metadata": {},
   "outputs": [
    {
     "data": {
      "text/plain": [
       "array(['Return to Owner', 'Transfer', 'Adoption', 'Euthanasia', 'Died',\n",
       "       'Rto-Adopt', 'Missing', 'Disposal', nan], dtype=object)"
      ]
     },
     "execution_count": 12,
     "metadata": {},
     "output_type": "execute_result"
    }
   ],
   "source": [
    "austin_data['outcome_type'].unique()"
   ]
  },
  {
   "cell_type": "code",
   "execution_count": null,
   "metadata": {},
   "outputs": [],
   "source": []
  },
  {
   "cell_type": "code",
   "execution_count": 13,
   "metadata": {},
   "outputs": [
    {
     "data": {
      "text/plain": [
       "13273"
      ]
     },
     "execution_count": 13,
     "metadata": {},
     "output_type": "execute_result"
    }
   ],
   "source": [
    "austin_data.outcome_type.loc[austin_data['outcome_type']== 'Return to Owner'].count()"
   ]
  },
  {
   "cell_type": "code",
   "execution_count": 14,
   "metadata": {},
   "outputs": [
    {
     "data": {
      "text/plain": [
       "1919"
      ]
     },
     "execution_count": 14,
     "metadata": {},
     "output_type": "execute_result"
    }
   ],
   "source": [
    "#a lot of unique breeds, maybe color will be a better way to group \n",
    "#How accurate is the breed? we cannot not know for sure what the dogs are, maybe this isn't as help as I thought\n",
    "\n",
    "austin_data['breed'].nunique()"
   ]
  },
  {
   "cell_type": "code",
   "execution_count": 15,
   "metadata": {},
   "outputs": [
    {
     "data": {
      "text/plain": [
       "breed\n",
       "American Bulldog/Boxer                    4\n",
       "American Bulldog/Chinese Sharpei          1\n",
       "American Bulldog/Dalmatian                1\n",
       "American Bulldog/English Bulldog          1\n",
       "American Bulldog/Great Pyrenees           1\n",
       "American Bulldog/Labrador Retriever       3\n",
       "American Bulldog/Mastiff                  3\n",
       "American Bulldog/Pit Bull                13\n",
       "American Bulldog/Pointer                  2\n",
       "American Eskimo                           7\n",
       "American Eskimo Mix                      20\n",
       "American Eskimo/Alaskan Husky             1\n",
       "American Eskimo/Australian Shepherd       1\n",
       "American Eskimo/Border Collie             2\n",
       "American Foxhound                         1\n",
       "American Foxhound Mix                    11\n",
       "American Foxhound/Labrador Retriever      1\n",
       "American Foxhound/Pointer                 1\n",
       "American Pit Bull Terrier                 8\n",
       "American Pit Bull Terrier Mix           135\n",
       "Name: animal_id_intake, dtype: int64"
      ]
     },
     "execution_count": 15,
     "metadata": {},
     "output_type": "execute_result"
    }
   ],
   "source": [
    "#the majority are followed by 'mix' \n",
    "austin_data.groupby('breed')['animal_id_intake'].nunique()[40:60]"
   ]
  },
  {
   "cell_type": "code",
   "execution_count": 63,
   "metadata": {
    "scrolled": true
   },
   "outputs": [
    {
     "data": {
      "text/plain": [
       "color\n",
       "Black/White            4398\n",
       "Black                  2208\n",
       "White                  2074\n",
       "Tan/White              2073\n",
       "Brown/White            2064\n",
       "Tan                    1759\n",
       "Tricolor               1718\n",
       "Brown                  1631\n",
       "Black/Tan              1588\n",
       "White/Black            1328\n",
       "White/Brown            1286\n",
       "Black/Brown            1274\n",
       "Brown Brindle/White    1103\n",
       "Blue/White             1050\n",
       "White/Tan               995\n",
       "Brown/Black             912\n",
       "Red                     794\n",
       "Red/White               731\n",
       "Brown Brindle           636\n",
       "Tan/Black               533\n",
       "Chocolate/White         497\n",
       "Yellow                  435\n",
       "Sable                   380\n",
       "Cream                   362\n",
       "Buff                    343\n",
       "Chocolate               328\n",
       "White/Brown Brindle     250\n",
       "Fawn/White              245\n",
       "Blue                    220\n",
       "Brown/Tan               207\n",
       "Sable/White             195\n",
       "Gray/White              191\n",
       "Blue Merle              178\n",
       "Fawn                    158\n",
       "Black Brindle/White     156\n",
       "Gray                    151\n",
       "White/Red               146\n",
       "Chocolate/Tan           145\n",
       "Red/Black               143\n",
       "Black/Tricolor          131\n",
       "White/Blue              125\n",
       "White/Gray              124\n",
       "White/Tricolor          122\n",
       "Cream/White             118\n",
       "Black/Gray              116\n",
       "Gold                    107\n",
       "Black/Brown Brindle      97\n",
       "Yellow/White             96\n",
       "Blue Merle/White         92\n",
       "Buff/White               92\n",
       "Brown Merle              84\n",
       "White/Chocolate          77\n",
       "White/Cream              77\n",
       "Tan/Brown                76\n",
       "Black Brindle            68\n",
       "Red/Tan                  67\n",
       "Blue/Tan                 67\n",
       "White/Buff               64\n",
       "Brown Merle/White        58\n",
       "Red Tick                 56\n",
       "Name: animal_id_intake, dtype: int64"
      ]
     },
     "execution_count": 63,
     "metadata": {},
     "output_type": "execute_result"
    }
   ],
   "source": [
    "#Color needs to be grouped to reduced amount of unique values\n",
    "austin_data.groupby('color')['animal_id_intake'].nunique().sort_values(ascending=False).head(60)"
   ]
  },
  {
   "cell_type": "code",
   "execution_count": 17,
   "metadata": {},
   "outputs": [
    {
     "data": {
      "text/plain": [
       "5.064583333333333"
      ]
     },
     "execution_count": 17,
     "metadata": {},
     "output_type": "execute_result"
    }
   ],
   "source": [
    "austin_data['time_in_shelter_days'].sort_values(ascending =False).head(20)\n",
    "austin_data['time_in_shelter_days'].median()"
   ]
  },
  {
   "cell_type": "markdown",
   "metadata": {},
   "source": [
    "# 4. Null values"
   ]
  },
  {
   "cell_type": "code",
   "execution_count": 18,
   "metadata": {},
   "outputs": [
    {
     "data": {
      "text/plain": [
       "Index(['outcome_type', 'sex_upon_intake', 'sex_upon_outcome'], dtype='object')"
      ]
     },
     "execution_count": 18,
     "metadata": {},
     "output_type": "execute_result"
    }
   ],
   "source": [
    "#finding null values\n",
    "austin_data.columns[austin_data.isna().any()]"
   ]
  },
  {
   "cell_type": "code",
   "execution_count": 19,
   "metadata": {},
   "outputs": [
    {
     "data": {
      "text/html": [
       "<div>\n",
       "<style scoped>\n",
       "    .dataframe tbody tr th:only-of-type {\n",
       "        vertical-align: middle;\n",
       "    }\n",
       "\n",
       "    .dataframe tbody tr th {\n",
       "        vertical-align: top;\n",
       "    }\n",
       "\n",
       "    .dataframe thead th {\n",
       "        text-align: right;\n",
       "    }\n",
       "</style>\n",
       "<table border=\"1\" class=\"dataframe\">\n",
       "  <thead>\n",
       "    <tr style=\"text-align: right;\">\n",
       "      <th></th>\n",
       "      <th>outcome_type</th>\n",
       "      <th>animal_id_intake</th>\n",
       "      <th>age_upon_outcome_(years)</th>\n",
       "      <th>outcome_datetime</th>\n",
       "      <th>outcome_monthyear</th>\n",
       "      <th>age_upon_intake</th>\n",
       "      <th>animal_type</th>\n",
       "      <th>breed</th>\n",
       "      <th>color</th>\n",
       "      <th>intake_condition</th>\n",
       "      <th>intake_type</th>\n",
       "      <th>sex_upon_intake</th>\n",
       "      <th>sex_upon_outcome</th>\n",
       "      <th>age_upon_intake_(years)</th>\n",
       "      <th>intake_datetime</th>\n",
       "      <th>intake_monthyear</th>\n",
       "      <th>intake_number</th>\n",
       "      <th>time_in_shelter_days</th>\n",
       "    </tr>\n",
       "  </thead>\n",
       "  <tbody>\n",
       "    <tr>\n",
       "      <th>44097</th>\n",
       "      <td>NaN</td>\n",
       "      <td>A718046</td>\n",
       "      <td>10.000000</td>\n",
       "      <td>2016-03-26 14:22:00</td>\n",
       "      <td>2016-03</td>\n",
       "      <td>10 years</td>\n",
       "      <td>Dog</td>\n",
       "      <td>Chihuahua Longhair Mix</td>\n",
       "      <td>Cream</td>\n",
       "      <td>Normal</td>\n",
       "      <td>Public Assist</td>\n",
       "      <td>Neutered Male</td>\n",
       "      <td>Neutered Male</td>\n",
       "      <td>10.000000</td>\n",
       "      <td>2016-03-26 00:00:00</td>\n",
       "      <td>2016-03</td>\n",
       "      <td>1.0</td>\n",
       "      <td>0.598611</td>\n",
       "    </tr>\n",
       "    <tr>\n",
       "      <th>59034</th>\n",
       "      <td>NaN</td>\n",
       "      <td>A737930</td>\n",
       "      <td>0.821918</td>\n",
       "      <td>2016-11-17 10:59:00</td>\n",
       "      <td>2016-11</td>\n",
       "      <td>10 months</td>\n",
       "      <td>Dog</td>\n",
       "      <td>Pit Bull Mix</td>\n",
       "      <td>Fawn/White</td>\n",
       "      <td>Normal</td>\n",
       "      <td>Public Assist</td>\n",
       "      <td>Intact Male</td>\n",
       "      <td>Intact Male</td>\n",
       "      <td>0.821918</td>\n",
       "      <td>2016-11-09 15:01:00</td>\n",
       "      <td>2016-11</td>\n",
       "      <td>2.0</td>\n",
       "      <td>7.831944</td>\n",
       "    </tr>\n",
       "  </tbody>\n",
       "</table>\n",
       "</div>"
      ],
      "text/plain": [
       "      outcome_type animal_id_intake  age_upon_outcome_(years)  \\\n",
       "44097          NaN          A718046                 10.000000   \n",
       "59034          NaN          A737930                  0.821918   \n",
       "\n",
       "         outcome_datetime outcome_monthyear age_upon_intake animal_type  \\\n",
       "44097 2016-03-26 14:22:00           2016-03        10 years         Dog   \n",
       "59034 2016-11-17 10:59:00           2016-11       10 months         Dog   \n",
       "\n",
       "                        breed       color intake_condition    intake_type  \\\n",
       "44097  Chihuahua Longhair Mix       Cream           Normal  Public Assist   \n",
       "59034            Pit Bull Mix  Fawn/White           Normal  Public Assist   \n",
       "\n",
       "      sex_upon_intake sex_upon_outcome  age_upon_intake_(years)  \\\n",
       "44097   Neutered Male    Neutered Male                10.000000   \n",
       "59034     Intact Male      Intact Male                 0.821918   \n",
       "\n",
       "          intake_datetime intake_monthyear  intake_number  \\\n",
       "44097 2016-03-26 00:00:00          2016-03            1.0   \n",
       "59034 2016-11-09 15:01:00          2016-11            2.0   \n",
       "\n",
       "       time_in_shelter_days  \n",
       "44097              0.598611  \n",
       "59034              7.831944  "
      ]
     },
     "execution_count": 19,
     "metadata": {},
     "output_type": "execute_result"
    }
   ],
   "source": [
    "#dropping these becasue without the outcome the dog information is not much use \n",
    "austin_data[austin_data['outcome_type'].isna()]"
   ]
  },
  {
   "cell_type": "code",
   "execution_count": 20,
   "metadata": {
    "scrolled": true
   },
   "outputs": [
    {
     "data": {
      "text/html": [
       "<div>\n",
       "<style scoped>\n",
       "    .dataframe tbody tr th:only-of-type {\n",
       "        vertical-align: middle;\n",
       "    }\n",
       "\n",
       "    .dataframe tbody tr th {\n",
       "        vertical-align: top;\n",
       "    }\n",
       "\n",
       "    .dataframe thead th {\n",
       "        text-align: right;\n",
       "    }\n",
       "</style>\n",
       "<table border=\"1\" class=\"dataframe\">\n",
       "  <thead>\n",
       "    <tr style=\"text-align: right;\">\n",
       "      <th></th>\n",
       "      <th>outcome_type</th>\n",
       "      <th>animal_id_intake</th>\n",
       "      <th>age_upon_outcome_(years)</th>\n",
       "      <th>outcome_datetime</th>\n",
       "      <th>outcome_monthyear</th>\n",
       "      <th>age_upon_intake</th>\n",
       "      <th>animal_type</th>\n",
       "      <th>breed</th>\n",
       "      <th>color</th>\n",
       "      <th>intake_condition</th>\n",
       "      <th>intake_type</th>\n",
       "      <th>sex_upon_intake</th>\n",
       "      <th>sex_upon_outcome</th>\n",
       "      <th>age_upon_intake_(years)</th>\n",
       "      <th>intake_datetime</th>\n",
       "      <th>intake_monthyear</th>\n",
       "      <th>intake_number</th>\n",
       "      <th>time_in_shelter_days</th>\n",
       "    </tr>\n",
       "  </thead>\n",
       "  <tbody>\n",
       "    <tr>\n",
       "      <th>6523</th>\n",
       "      <td>Return to Owner</td>\n",
       "      <td>A667395</td>\n",
       "      <td>7.0</td>\n",
       "      <td>2013-11-27 16:11:00</td>\n",
       "      <td>2013-11</td>\n",
       "      <td>7 years</td>\n",
       "      <td>Dog</td>\n",
       "      <td>Dachshund</td>\n",
       "      <td>Brown Merle</td>\n",
       "      <td>Normal</td>\n",
       "      <td>Owner Surrender</td>\n",
       "      <td>NaN</td>\n",
       "      <td>NaN</td>\n",
       "      <td>7.0</td>\n",
       "      <td>2013-11-17 13:15:00</td>\n",
       "      <td>2013-11</td>\n",
       "      <td>1.0</td>\n",
       "      <td>10.122222</td>\n",
       "    </tr>\n",
       "  </tbody>\n",
       "</table>\n",
       "</div>"
      ],
      "text/plain": [
       "         outcome_type animal_id_intake  age_upon_outcome_(years)  \\\n",
       "6523  Return to Owner          A667395                       7.0   \n",
       "\n",
       "        outcome_datetime outcome_monthyear age_upon_intake animal_type  \\\n",
       "6523 2013-11-27 16:11:00           2013-11         7 years         Dog   \n",
       "\n",
       "          breed        color intake_condition      intake_type  \\\n",
       "6523  Dachshund  Brown Merle           Normal  Owner Surrender   \n",
       "\n",
       "     sex_upon_intake sex_upon_outcome  age_upon_intake_(years)  \\\n",
       "6523             NaN              NaN                      7.0   \n",
       "\n",
       "         intake_datetime intake_monthyear  intake_number  time_in_shelter_days  \n",
       "6523 2013-11-17 13:15:00          2013-11            1.0             10.122222  "
      ]
     },
     "execution_count": 20,
     "metadata": {},
     "output_type": "execute_result"
    }
   ],
   "source": [
    "#dropping this beacuse its only one and is an owner surrender and then returned to owner\n",
    "austin_data[austin_data['sex_upon_outcome'].isna()]"
   ]
  },
  {
   "cell_type": "code",
   "execution_count": 21,
   "metadata": {},
   "outputs": [
    {
     "data": {
      "text/html": [
       "<div>\n",
       "<style scoped>\n",
       "    .dataframe tbody tr th:only-of-type {\n",
       "        vertical-align: middle;\n",
       "    }\n",
       "\n",
       "    .dataframe tbody tr th {\n",
       "        vertical-align: top;\n",
       "    }\n",
       "\n",
       "    .dataframe thead th {\n",
       "        text-align: right;\n",
       "    }\n",
       "</style>\n",
       "<table border=\"1\" class=\"dataframe\">\n",
       "  <thead>\n",
       "    <tr style=\"text-align: right;\">\n",
       "      <th></th>\n",
       "      <th>outcome_type</th>\n",
       "      <th>animal_id_intake</th>\n",
       "      <th>age_upon_outcome_(years)</th>\n",
       "      <th>outcome_datetime</th>\n",
       "      <th>outcome_monthyear</th>\n",
       "      <th>age_upon_intake</th>\n",
       "      <th>animal_type</th>\n",
       "      <th>breed</th>\n",
       "      <th>color</th>\n",
       "      <th>intake_condition</th>\n",
       "      <th>intake_type</th>\n",
       "      <th>sex_upon_intake</th>\n",
       "      <th>sex_upon_outcome</th>\n",
       "      <th>age_upon_intake_(years)</th>\n",
       "      <th>intake_datetime</th>\n",
       "      <th>intake_monthyear</th>\n",
       "      <th>intake_number</th>\n",
       "      <th>time_in_shelter_days</th>\n",
       "    </tr>\n",
       "  </thead>\n",
       "  <tbody>\n",
       "    <tr>\n",
       "      <th>0</th>\n",
       "      <td>Return to Owner</td>\n",
       "      <td>A006100</td>\n",
       "      <td>10.0</td>\n",
       "      <td>2017-12-07 14:07:00</td>\n",
       "      <td>2017-12</td>\n",
       "      <td>10 years</td>\n",
       "      <td>Dog</td>\n",
       "      <td>Spinone Italiano Mix</td>\n",
       "      <td>Yellow/White</td>\n",
       "      <td>Normal</td>\n",
       "      <td>Stray</td>\n",
       "      <td>Neutered Male</td>\n",
       "      <td>Neutered Male</td>\n",
       "      <td>10.0</td>\n",
       "      <td>2017-12-07 00:00:00</td>\n",
       "      <td>2017-12</td>\n",
       "      <td>1.0</td>\n",
       "      <td>0.588194</td>\n",
       "    </tr>\n",
       "    <tr>\n",
       "      <th>1</th>\n",
       "      <td>Return to Owner</td>\n",
       "      <td>A006100</td>\n",
       "      <td>7.0</td>\n",
       "      <td>2014-12-20 16:35:00</td>\n",
       "      <td>2014-12</td>\n",
       "      <td>7 years</td>\n",
       "      <td>Dog</td>\n",
       "      <td>Spinone Italiano Mix</td>\n",
       "      <td>Yellow/White</td>\n",
       "      <td>Normal</td>\n",
       "      <td>Public Assist</td>\n",
       "      <td>Neutered Male</td>\n",
       "      <td>Neutered Male</td>\n",
       "      <td>7.0</td>\n",
       "      <td>2014-12-19 10:21:00</td>\n",
       "      <td>2014-12</td>\n",
       "      <td>2.0</td>\n",
       "      <td>1.259722</td>\n",
       "    </tr>\n",
       "    <tr>\n",
       "      <th>2</th>\n",
       "      <td>Return to Owner</td>\n",
       "      <td>A006100</td>\n",
       "      <td>6.0</td>\n",
       "      <td>2014-03-08 17:10:00</td>\n",
       "      <td>2014-03</td>\n",
       "      <td>6 years</td>\n",
       "      <td>Dog</td>\n",
       "      <td>Spinone Italiano Mix</td>\n",
       "      <td>Yellow/White</td>\n",
       "      <td>Normal</td>\n",
       "      <td>Public Assist</td>\n",
       "      <td>Neutered Male</td>\n",
       "      <td>Neutered Male</td>\n",
       "      <td>6.0</td>\n",
       "      <td>2014-03-07 14:26:00</td>\n",
       "      <td>2014-03</td>\n",
       "      <td>3.0</td>\n",
       "      <td>1.113889</td>\n",
       "    </tr>\n",
       "    <tr>\n",
       "      <th>3</th>\n",
       "      <td>Transfer</td>\n",
       "      <td>A047759</td>\n",
       "      <td>10.0</td>\n",
       "      <td>2014-04-07 15:12:00</td>\n",
       "      <td>2014-04</td>\n",
       "      <td>10 years</td>\n",
       "      <td>Dog</td>\n",
       "      <td>Dachshund</td>\n",
       "      <td>Tricolor</td>\n",
       "      <td>Normal</td>\n",
       "      <td>Owner Surrender</td>\n",
       "      <td>Neutered Male</td>\n",
       "      <td>Neutered Male</td>\n",
       "      <td>10.0</td>\n",
       "      <td>2014-04-02 15:55:00</td>\n",
       "      <td>2014-04</td>\n",
       "      <td>1.0</td>\n",
       "      <td>4.970139</td>\n",
       "    </tr>\n",
       "    <tr>\n",
       "      <th>4</th>\n",
       "      <td>Return to Owner</td>\n",
       "      <td>A134067</td>\n",
       "      <td>16.0</td>\n",
       "      <td>2013-11-16 11:54:00</td>\n",
       "      <td>2013-11</td>\n",
       "      <td>16 years</td>\n",
       "      <td>Dog</td>\n",
       "      <td>Shetland Sheepdog</td>\n",
       "      <td>Brown/White</td>\n",
       "      <td>Injured</td>\n",
       "      <td>Public Assist</td>\n",
       "      <td>Neutered Male</td>\n",
       "      <td>Neutered Male</td>\n",
       "      <td>16.0</td>\n",
       "      <td>2013-11-16 09:02:00</td>\n",
       "      <td>2013-11</td>\n",
       "      <td>1.0</td>\n",
       "      <td>0.119444</td>\n",
       "    </tr>\n",
       "  </tbody>\n",
       "</table>\n",
       "</div>"
      ],
      "text/plain": [
       "      outcome_type animal_id_intake  age_upon_outcome_(years)  \\\n",
       "0  Return to Owner          A006100                      10.0   \n",
       "1  Return to Owner          A006100                       7.0   \n",
       "2  Return to Owner          A006100                       6.0   \n",
       "3         Transfer          A047759                      10.0   \n",
       "4  Return to Owner          A134067                      16.0   \n",
       "\n",
       "     outcome_datetime outcome_monthyear age_upon_intake animal_type  \\\n",
       "0 2017-12-07 14:07:00           2017-12        10 years         Dog   \n",
       "1 2014-12-20 16:35:00           2014-12         7 years         Dog   \n",
       "2 2014-03-08 17:10:00           2014-03         6 years         Dog   \n",
       "3 2014-04-07 15:12:00           2014-04        10 years         Dog   \n",
       "4 2013-11-16 11:54:00           2013-11        16 years         Dog   \n",
       "\n",
       "                  breed         color intake_condition      intake_type  \\\n",
       "0  Spinone Italiano Mix  Yellow/White           Normal            Stray   \n",
       "1  Spinone Italiano Mix  Yellow/White           Normal    Public Assist   \n",
       "2  Spinone Italiano Mix  Yellow/White           Normal    Public Assist   \n",
       "3             Dachshund      Tricolor           Normal  Owner Surrender   \n",
       "4     Shetland Sheepdog   Brown/White          Injured    Public Assist   \n",
       "\n",
       "  sex_upon_intake sex_upon_outcome  age_upon_intake_(years)  \\\n",
       "0   Neutered Male    Neutered Male                     10.0   \n",
       "1   Neutered Male    Neutered Male                      7.0   \n",
       "2   Neutered Male    Neutered Male                      6.0   \n",
       "3   Neutered Male    Neutered Male                     10.0   \n",
       "4   Neutered Male    Neutered Male                     16.0   \n",
       "\n",
       "      intake_datetime intake_monthyear  intake_number  time_in_shelter_days  \n",
       "0 2017-12-07 00:00:00          2017-12            1.0              0.588194  \n",
       "1 2014-12-19 10:21:00          2014-12            2.0              1.259722  \n",
       "2 2014-03-07 14:26:00          2014-03            3.0              1.113889  \n",
       "3 2014-04-02 15:55:00          2014-04            1.0              4.970139  \n",
       "4 2013-11-16 09:02:00          2013-11            1.0              0.119444  "
      ]
     },
     "execution_count": 21,
     "metadata": {},
     "output_type": "execute_result"
    }
   ],
   "source": [
    "#new dataframe with dropped columns and no null values\n",
    "df = austin_data[austin_data[['outcome_type', 'sex_upon_outcome', 'sex_upon_intake']].notnull().all(1)]\n",
    "df.head()"
   ]
  },
  {
   "cell_type": "code",
   "execution_count": 57,
   "metadata": {},
   "outputs": [
    {
     "data": {
      "image/png": "[encoded data removed]",
      "text/plain": [
       "<Figure size 432x288 with 1 Axes>"
      ]
     },
     "metadata": {
      "needs_background": "light"
     },
     "output_type": "display_data"
    },
    {
     "data": {
      "text/plain": [
       "<Figure size 576x288 with 0 Axes>"
      ]
     },
     "metadata": {},
     "output_type": "display_data"
    }
   ],
   "source": [
    "_ = sns.histplot( x=  df['outcome_type'], stat = 'density')\n",
    "plt.figure(figsize=(8, 4))\n",
    "plt.show()\n",
    "#what to do about transfered animals? Do they count as unadopted since it's a no kill shelter? "
   ]
  },
  {
   "cell_type": "code",
   "execution_count": null,
   "metadata": {},
   "outputs": [],
   "source": []
  },
  {
   "cell_type": "code",
   "execution_count": 52,
   "metadata": {},
   "outputs": [
    {
     "data": {
      "image/png": "[encoded data removed]",
      "text/plain": [
       "<Figure size 432x288 with 1 Axes>"
      ]
     },
     "metadata": {
      "needs_background": "light"
     },
     "output_type": "display_data"
    }
   ],
   "source": [
    "data = df[df['outcome_type'] == 'Adoption'] ['time_in_shelter_days']\n",
    "plt.hist(data,density =True )\n",
    "plt.show()"
   ]
  },
  {
   "cell_type": "code",
   "execution_count": null,
   "metadata": {},
   "outputs": [],
   "source": [
    "df.to_csv('wrangled_data')"
   ]
  },
  {
   "cell_type": "code",
   "execution_count": null,
   "metadata": {},
   "outputs": [],
   "source": []
  }
 ],
 "metadata": {
  "kernelspec": {
   "display_name": "Python 3",
   "language": "python",
   "name": "python3"
  },
  "language_info": {
   "codemirror_mode": {
    "name": "ipython",
    "version": 3
   },
   "file_extension": ".py",
   "mimetype": "text/x-python",
   "name": "python",
   "nbconvert_exporter": "python",
   "pygments_lexer": "ipython3",
   "version": "3.8.3"
  }
 },
 "nbformat": 4,
 "nbformat_minor": 4
}
