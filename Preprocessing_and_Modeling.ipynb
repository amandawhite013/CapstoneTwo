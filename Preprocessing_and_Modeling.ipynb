{
 "cells": [
  {
   "cell_type": "markdown",
   "metadata": {},
   "source": [
    "# Preprocessing\n"
   ]
  },
  {
   "cell_type": "code",
   "execution_count": 1,
   "metadata": {},
   "outputs": [],
   "source": [
    "import pandas as pd\n",
    "import numpy as np\n",
    "from sklearn.model_selection import train_test_split\n",
    "import matplotlib.pyplot as plt\n",
    "import seaborn as sns"
   ]
  },
  {
   "cell_type": "code",
   "execution_count": 2,
   "metadata": {},
   "outputs": [
    {
     "data": {
      "text/plain": [
       "(23298, 58)"
      ]
     },
     "execution_count": 2,
     "metadata": {},
     "output_type": "execute_result"
    }
   ],
   "source": [
    "df = pd.read_csv('dog_adoption2')\n",
    "df.shape"
   ]
  },
  {
   "cell_type": "markdown",
   "metadata": {},
   "source": [
    "Dropping Transfered dogs to capture how long it take for a dog to get adopted. Transfers are likely based on how busy the shelter is and not dependent on a dog's characteristics. "
   ]
  },
  {
   "cell_type": "code",
   "execution_count": 3,
   "metadata": {
    "scrolled": true
   },
   "outputs": [
    {
     "data": {
      "text/html": [
       "<div>\n",
       "<style scoped>\n",
       "    .dataframe tbody tr th:only-of-type {\n",
       "        vertical-align: middle;\n",
       "    }\n",
       "\n",
       "    .dataframe tbody tr th {\n",
       "        vertical-align: top;\n",
       "    }\n",
       "\n",
       "    .dataframe thead th {\n",
       "        text-align: right;\n",
       "    }\n",
       "</style>\n",
       "<table border=\"1\" class=\"dataframe\">\n",
       "  <thead>\n",
       "    <tr style=\"text-align: right;\">\n",
       "      <th></th>\n",
       "      <th>Unnamed: 0</th>\n",
       "      <th>outcome_type</th>\n",
       "      <th>age_upon_outcome_(years)</th>\n",
       "      <th>outcome_datetime</th>\n",
       "      <th>outcome_monthyear</th>\n",
       "      <th>animal_type</th>\n",
       "      <th>intake_condition</th>\n",
       "      <th>intake_type</th>\n",
       "      <th>sex_upon_outcome</th>\n",
       "      <th>age_upon_intake_(years)</th>\n",
       "      <th>...</th>\n",
       "      <th>color_Brown</th>\n",
       "      <th>color_Brown Brindle</th>\n",
       "      <th>color_Buff</th>\n",
       "      <th>color_Gray</th>\n",
       "      <th>color_Red</th>\n",
       "      <th>color_Sable</th>\n",
       "      <th>color_Tan</th>\n",
       "      <th>color_Tricolor</th>\n",
       "      <th>color_White</th>\n",
       "      <th>color_Yellow</th>\n",
       "    </tr>\n",
       "  </thead>\n",
       "  <tbody>\n",
       "    <tr>\n",
       "      <th>1</th>\n",
       "      <td>12</td>\n",
       "      <td>Adoption</td>\n",
       "      <td>16</td>\n",
       "      <td>2013-11-22 09:44:00</td>\n",
       "      <td>2013-11</td>\n",
       "      <td>Dog</td>\n",
       "      <td>Normal</td>\n",
       "      <td>Owner Surrender</td>\n",
       "      <td>Neutered Male</td>\n",
       "      <td>16</td>\n",
       "      <td>...</td>\n",
       "      <td>0</td>\n",
       "      <td>0</td>\n",
       "      <td>0</td>\n",
       "      <td>0</td>\n",
       "      <td>0</td>\n",
       "      <td>0</td>\n",
       "      <td>0</td>\n",
       "      <td>0</td>\n",
       "      <td>0</td>\n",
       "      <td>0</td>\n",
       "    </tr>\n",
       "    <tr>\n",
       "      <th>2</th>\n",
       "      <td>14</td>\n",
       "      <td>Adoption</td>\n",
       "      <td>17</td>\n",
       "      <td>2016-10-07 12:34:00</td>\n",
       "      <td>2016-10</td>\n",
       "      <td>Dog</td>\n",
       "      <td>Aged</td>\n",
       "      <td>Public Assist</td>\n",
       "      <td>Neutered Male</td>\n",
       "      <td>17</td>\n",
       "      <td>...</td>\n",
       "      <td>0</td>\n",
       "      <td>0</td>\n",
       "      <td>0</td>\n",
       "      <td>0</td>\n",
       "      <td>0</td>\n",
       "      <td>0</td>\n",
       "      <td>1</td>\n",
       "      <td>0</td>\n",
       "      <td>0</td>\n",
       "      <td>0</td>\n",
       "    </tr>\n",
       "    <tr>\n",
       "      <th>3</th>\n",
       "      <td>22</td>\n",
       "      <td>Adoption</td>\n",
       "      <td>15</td>\n",
       "      <td>2015-10-29 15:00:00</td>\n",
       "      <td>2015-10</td>\n",
       "      <td>Dog</td>\n",
       "      <td>Normal</td>\n",
       "      <td>Stray</td>\n",
       "      <td>Neutered Male</td>\n",
       "      <td>15</td>\n",
       "      <td>...</td>\n",
       "      <td>0</td>\n",
       "      <td>0</td>\n",
       "      <td>0</td>\n",
       "      <td>0</td>\n",
       "      <td>0</td>\n",
       "      <td>1</td>\n",
       "      <td>0</td>\n",
       "      <td>0</td>\n",
       "      <td>0</td>\n",
       "      <td>0</td>\n",
       "    </tr>\n",
       "    <tr>\n",
       "      <th>6</th>\n",
       "      <td>32</td>\n",
       "      <td>Adoption</td>\n",
       "      <td>15</td>\n",
       "      <td>2016-11-15 10:37:00</td>\n",
       "      <td>2016-11</td>\n",
       "      <td>Dog</td>\n",
       "      <td>Normal</td>\n",
       "      <td>Stray</td>\n",
       "      <td>Spayed Female</td>\n",
       "      <td>15</td>\n",
       "      <td>...</td>\n",
       "      <td>0</td>\n",
       "      <td>0</td>\n",
       "      <td>0</td>\n",
       "      <td>0</td>\n",
       "      <td>0</td>\n",
       "      <td>0</td>\n",
       "      <td>0</td>\n",
       "      <td>0</td>\n",
       "      <td>0</td>\n",
       "      <td>0</td>\n",
       "    </tr>\n",
       "    <tr>\n",
       "      <th>7</th>\n",
       "      <td>48</td>\n",
       "      <td>Adoption</td>\n",
       "      <td>11</td>\n",
       "      <td>2013-11-16 12:24:00</td>\n",
       "      <td>2013-11</td>\n",
       "      <td>Dog</td>\n",
       "      <td>Normal</td>\n",
       "      <td>Stray</td>\n",
       "      <td>Spayed Female</td>\n",
       "      <td>11</td>\n",
       "      <td>...</td>\n",
       "      <td>0</td>\n",
       "      <td>0</td>\n",
       "      <td>0</td>\n",
       "      <td>0</td>\n",
       "      <td>0</td>\n",
       "      <td>0</td>\n",
       "      <td>0</td>\n",
       "      <td>1</td>\n",
       "      <td>0</td>\n",
       "      <td>0</td>\n",
       "    </tr>\n",
       "  </tbody>\n",
       "</table>\n",
       "<p>5 rows × 58 columns</p>\n",
       "</div>"
      ],
      "text/plain": [
       "   Unnamed: 0 outcome_type  age_upon_outcome_(years)     outcome_datetime  \\\n",
       "1          12     Adoption                        16  2013-11-22 09:44:00   \n",
       "2          14     Adoption                        17  2016-10-07 12:34:00   \n",
       "3          22     Adoption                        15  2015-10-29 15:00:00   \n",
       "6          32     Adoption                        15  2016-11-15 10:37:00   \n",
       "7          48     Adoption                        11  2013-11-16 12:24:00   \n",
       "\n",
       "  outcome_monthyear animal_type intake_condition      intake_type  \\\n",
       "1           2013-11         Dog           Normal  Owner Surrender   \n",
       "2           2016-10         Dog             Aged    Public Assist   \n",
       "3           2015-10         Dog           Normal            Stray   \n",
       "6           2016-11         Dog           Normal            Stray   \n",
       "7           2013-11         Dog           Normal            Stray   \n",
       "\n",
       "  sex_upon_outcome  age_upon_intake_(years)  ... color_Brown  \\\n",
       "1    Neutered Male                       16  ...           0   \n",
       "2    Neutered Male                       17  ...           0   \n",
       "3    Neutered Male                       15  ...           0   \n",
       "6    Spayed Female                       15  ...           0   \n",
       "7    Spayed Female                       11  ...           0   \n",
       "\n",
       "  color_Brown Brindle  color_Buff  color_Gray  color_Red  color_Sable  \\\n",
       "1                   0           0           0          0            0   \n",
       "2                   0           0           0          0            0   \n",
       "3                   0           0           0          0            1   \n",
       "6                   0           0           0          0            0   \n",
       "7                   0           0           0          0            0   \n",
       "\n",
       "   color_Tan  color_Tricolor  color_White  color_Yellow  \n",
       "1          0               0            0             0  \n",
       "2          1               0            0             0  \n",
       "3          0               0            0             0  \n",
       "6          0               0            0             0  \n",
       "7          0               1            0             0  \n",
       "\n",
       "[5 rows x 58 columns]"
      ]
     },
     "execution_count": 3,
     "metadata": {},
     "output_type": "execute_result"
    }
   ],
   "source": [
    "df = df[df['outcome_type']=='Adoption']\n",
    "df.head()"
   ]
  },
  {
   "cell_type": "code",
   "execution_count": 4,
   "metadata": {},
   "outputs": [],
   "source": [
    "#don't need the int columns anymore\n",
    "df = df.drop(['intake_cond_int','intake_type_int'], axis=1)"
   ]
  },
  {
   "cell_type": "code",
   "execution_count": 5,
   "metadata": {},
   "outputs": [
    {
     "name": "stdout",
     "output_type": "stream",
     "text": [
      "Normal      14969\n",
      "Injured       457\n",
      "Nursing       197\n",
      "Sick          182\n",
      "Aged           44\n",
      "Other          26\n",
      "Pregnant       13\n",
      "Feral           2\n",
      "Name: intake_condition, dtype: int64\n",
      "Stray                 11657\n",
      "Owner Surrender        3912\n",
      "Public Assist           317\n",
      "Euthanasia Request        4\n",
      "Name: intake_type, dtype: int64\n"
     ]
    }
   ],
   "source": [
    "#intake condition and type might add a little noise since it's not equally distributed \n",
    "print(df['intake_condition'].value_counts())\n",
    "print(df['intake_type'].value_counts())"
   ]
  },
  {
   "cell_type": "code",
   "execution_count": 6,
   "metadata": {},
   "outputs": [],
   "source": [
    "#creating dummy variables for the remaining categorical variables\n",
    "df = pd.get_dummies(df, columns=['intake_condition', 'intake_type', 'sex_upon_outcome'], prefix=['intake_cond', 'intake_type', 'gender'])\n"
   ]
  },
  {
   "cell_type": "code",
   "execution_count": 7,
   "metadata": {},
   "outputs": [
    {
     "data": {
      "text/plain": [
       "array([[<matplotlib.axes._subplots.AxesSubplot object at 0x7f2c1f9fac70>]],\n",
       "      dtype=object)"
      ]
     },
     "execution_count": 7,
     "metadata": {},
     "output_type": "execute_result"
    },
    {
     "data": {
      "image/png": "[encoded data removed]",
      "text/plain": [
       "<Figure size 432x288 with 1 Axes>"
      ]
     },
     "metadata": {
      "needs_background": "light"
     },
     "output_type": "display_data"
    }
   ],
   "source": [
    "\n",
    "df[['age_upon_outcome_(years)']].hist(bins=20)\n"
   ]
  },
  {
   "cell_type": "code",
   "execution_count": 8,
   "metadata": {},
   "outputs": [
    {
     "data": {
      "text/plain": [
       "array([16, 17, 15, 11, 12, 13,  9, 10,  7,  8, 14,  6,  5,  4,  3,  2,  1,\n",
       "        0, 18])"
      ]
     },
     "execution_count": 8,
     "metadata": {},
     "output_type": "execute_result"
    }
   ],
   "source": [
    "df['age_upon_outcome_(years)'].unique()"
   ]
  },
  {
   "cell_type": "code",
   "execution_count": 9,
   "metadata": {},
   "outputs": [],
   "source": [
    "#changing time_in_shelter_days to int\n",
    "df['time_in_shelter_days'] = df['time_in_shelter_days'].astype(int)"
   ]
  },
  {
   "cell_type": "code",
   "execution_count": 10,
   "metadata": {},
   "outputs": [
    {
     "data": {
      "text/plain": [
       "<matplotlib.axes._subplots.AxesSubplot at 0x7f2c1eb34c10>"
      ]
     },
     "execution_count": 10,
     "metadata": {},
     "output_type": "execute_result"
    },
    {
     "data": {
      "image/png": "[encoded data removed]",
      "text/plain": [
       "<Figure size 1080x504 with 3 Axes>"
      ]
     },
     "metadata": {
      "needs_background": "light"
     },
     "output_type": "display_data"
    }
   ],
   "source": [
    "# histograms of time in shleter\n",
    "time_most = df[df.loc[:,'time_in_shelter_days'] >=200 ]\n",
    "time20 = df[df.loc[:,'time_in_shelter_days']<= 20 ]\n",
    "time_mid = df[(df.loc[:, 'time_in_shelter_days']> 20) & (df.loc[:, 'time_in_shelter_days']<200)]\n",
    "\n",
    "\n",
    "fig, axes = plt.subplots(nrows=1, ncols=3, figsize = (15,7))\n",
    "time20['time_in_shelter_days'].plot(ax=axes[0], kind='hist', bins=20)\n",
    "time_mid['time_in_shelter_days'].plot(ax=axes[1], kind='hist', bins=25)\n",
    "time_most['time_in_shelter_days'].plot(ax=axes[2], kind='hist', bins=25)\n"
   ]
  },
  {
   "cell_type": "code",
   "execution_count": 11,
   "metadata": {},
   "outputs": [
    {
     "name": "stdout",
     "output_type": "stream",
     "text": [
      "Percentiles of time in shelter. \n",
      " 10th:3.0, 50th: 7.0, 90th: 61.0\n"
     ]
    }
   ],
   "source": [
    "#most dogs spend less than a week in the shelter\n",
    "print('Percentiles of time in shelter. \\n 10th:{}, 50th: {}, 90th: {}'.format(df['time_in_shelter_days'].quantile(q=.10),\n",
    "        df['time_in_shelter_days'].quantile(q=.50), df['time_in_shelter_days'].quantile(q=.90)))"
   ]
  },
  {
   "cell_type": "code",
   "execution_count": 12,
   "metadata": {},
   "outputs": [],
   "source": [
    "#creating bins based on quantiles\n",
    "labels = ['< 4 days', '4-5 days', '5-10 days', '10-31 days', '31-1268 days']\n",
    "df['time_in_shelter_binned'] = pd.qcut(df['time_in_shelter_days'], 5, labels=labels)"
   ]
  },
  {
   "cell_type": "code",
   "execution_count": 13,
   "metadata": {
    "scrolled": true
   },
   "outputs": [
    {
     "data": {
      "text/plain": [
       "4-5 days        1666\n",
       "10-31 days      3048\n",
       "5-10 days       3098\n",
       "31-1268 days    3154\n",
       "< 4 days        4924\n",
       "Name: time_in_shelter_binned, dtype: int64"
      ]
     },
     "execution_count": 13,
     "metadata": {},
     "output_type": "execute_result"
    }
   ],
   "source": [
    "df['time_in_shelter_binned'].value_counts().sort_values()"
   ]
  },
  {
   "cell_type": "code",
   "execution_count": 14,
   "metadata": {},
   "outputs": [
    {
     "data": {
      "text/html": [
       "<div>\n",
       "<style scoped>\n",
       "    .dataframe tbody tr th:only-of-type {\n",
       "        vertical-align: middle;\n",
       "    }\n",
       "\n",
       "    .dataframe tbody tr th {\n",
       "        vertical-align: top;\n",
       "    }\n",
       "\n",
       "    .dataframe thead th {\n",
       "        text-align: right;\n",
       "    }\n",
       "</style>\n",
       "<table border=\"1\" class=\"dataframe\">\n",
       "  <thead>\n",
       "    <tr style=\"text-align: right;\">\n",
       "      <th></th>\n",
       "      <th>Unnamed: 0</th>\n",
       "      <th>outcome_type</th>\n",
       "      <th>age_upon_outcome_(years)</th>\n",
       "      <th>outcome_datetime</th>\n",
       "      <th>outcome_monthyear</th>\n",
       "      <th>animal_type</th>\n",
       "      <th>age_upon_intake_(years)</th>\n",
       "      <th>intake_datetime</th>\n",
       "      <th>intake_monthyear</th>\n",
       "      <th>time_in_shelter_days</th>\n",
       "      <th>...</th>\n",
       "      <th>intake_type_Euthanasia Request</th>\n",
       "      <th>intake_type_Owner Surrender</th>\n",
       "      <th>intake_type_Public Assist</th>\n",
       "      <th>intake_type_Stray</th>\n",
       "      <th>gender_Intact Female</th>\n",
       "      <th>gender_Intact Male</th>\n",
       "      <th>gender_Neutered Male</th>\n",
       "      <th>gender_Spayed Female</th>\n",
       "      <th>time_in_shelter_binned</th>\n",
       "      <th>time_binned_int</th>\n",
       "    </tr>\n",
       "  </thead>\n",
       "  <tbody>\n",
       "    <tr>\n",
       "      <th>1</th>\n",
       "      <td>12</td>\n",
       "      <td>Adoption</td>\n",
       "      <td>16</td>\n",
       "      <td>2013-11-22 09:44:00</td>\n",
       "      <td>2013-11</td>\n",
       "      <td>Dog</td>\n",
       "      <td>16</td>\n",
       "      <td>2013-10-03 15:47:00</td>\n",
       "      <td>2013-10</td>\n",
       "      <td>49</td>\n",
       "      <td>...</td>\n",
       "      <td>0</td>\n",
       "      <td>1</td>\n",
       "      <td>0</td>\n",
       "      <td>0</td>\n",
       "      <td>0</td>\n",
       "      <td>0</td>\n",
       "      <td>1</td>\n",
       "      <td>0</td>\n",
       "      <td>31-1268 days</td>\n",
       "      <td>0</td>\n",
       "    </tr>\n",
       "    <tr>\n",
       "      <th>2</th>\n",
       "      <td>14</td>\n",
       "      <td>Adoption</td>\n",
       "      <td>17</td>\n",
       "      <td>2016-10-07 12:34:00</td>\n",
       "      <td>2016-10</td>\n",
       "      <td>Dog</td>\n",
       "      <td>17</td>\n",
       "      <td>2016-09-28 12:05:00</td>\n",
       "      <td>2016-09</td>\n",
       "      <td>9</td>\n",
       "      <td>...</td>\n",
       "      <td>0</td>\n",
       "      <td>0</td>\n",
       "      <td>1</td>\n",
       "      <td>0</td>\n",
       "      <td>0</td>\n",
       "      <td>0</td>\n",
       "      <td>1</td>\n",
       "      <td>0</td>\n",
       "      <td>5-10 days</td>\n",
       "      <td>1</td>\n",
       "    </tr>\n",
       "    <tr>\n",
       "      <th>3</th>\n",
       "      <td>22</td>\n",
       "      <td>Adoption</td>\n",
       "      <td>15</td>\n",
       "      <td>2015-10-29 15:00:00</td>\n",
       "      <td>2015-10</td>\n",
       "      <td>Dog</td>\n",
       "      <td>15</td>\n",
       "      <td>2015-10-06 12:29:00</td>\n",
       "      <td>2015-10</td>\n",
       "      <td>23</td>\n",
       "      <td>...</td>\n",
       "      <td>0</td>\n",
       "      <td>0</td>\n",
       "      <td>0</td>\n",
       "      <td>1</td>\n",
       "      <td>0</td>\n",
       "      <td>0</td>\n",
       "      <td>1</td>\n",
       "      <td>0</td>\n",
       "      <td>10-31 days</td>\n",
       "      <td>2</td>\n",
       "    </tr>\n",
       "    <tr>\n",
       "      <th>6</th>\n",
       "      <td>32</td>\n",
       "      <td>Adoption</td>\n",
       "      <td>15</td>\n",
       "      <td>2016-11-15 10:37:00</td>\n",
       "      <td>2016-11</td>\n",
       "      <td>Dog</td>\n",
       "      <td>15</td>\n",
       "      <td>2016-08-17 14:05:00</td>\n",
       "      <td>2016-08</td>\n",
       "      <td>89</td>\n",
       "      <td>...</td>\n",
       "      <td>0</td>\n",
       "      <td>0</td>\n",
       "      <td>0</td>\n",
       "      <td>1</td>\n",
       "      <td>0</td>\n",
       "      <td>0</td>\n",
       "      <td>0</td>\n",
       "      <td>1</td>\n",
       "      <td>31-1268 days</td>\n",
       "      <td>0</td>\n",
       "    </tr>\n",
       "    <tr>\n",
       "      <th>7</th>\n",
       "      <td>48</td>\n",
       "      <td>Adoption</td>\n",
       "      <td>11</td>\n",
       "      <td>2013-11-16 12:24:00</td>\n",
       "      <td>2013-11</td>\n",
       "      <td>Dog</td>\n",
       "      <td>11</td>\n",
       "      <td>2013-11-13 18:16:00</td>\n",
       "      <td>2013-11</td>\n",
       "      <td>2</td>\n",
       "      <td>...</td>\n",
       "      <td>0</td>\n",
       "      <td>0</td>\n",
       "      <td>0</td>\n",
       "      <td>1</td>\n",
       "      <td>0</td>\n",
       "      <td>0</td>\n",
       "      <td>0</td>\n",
       "      <td>1</td>\n",
       "      <td>&lt; 4 days</td>\n",
       "      <td>3</td>\n",
       "    </tr>\n",
       "  </tbody>\n",
       "</table>\n",
       "<p>5 rows × 71 columns</p>\n",
       "</div>"
      ],
      "text/plain": [
       "   Unnamed: 0 outcome_type  age_upon_outcome_(years)     outcome_datetime  \\\n",
       "1          12     Adoption                        16  2013-11-22 09:44:00   \n",
       "2          14     Adoption                        17  2016-10-07 12:34:00   \n",
       "3          22     Adoption                        15  2015-10-29 15:00:00   \n",
       "6          32     Adoption                        15  2016-11-15 10:37:00   \n",
       "7          48     Adoption                        11  2013-11-16 12:24:00   \n",
       "\n",
       "  outcome_monthyear animal_type  age_upon_intake_(years)      intake_datetime  \\\n",
       "1           2013-11         Dog                       16  2013-10-03 15:47:00   \n",
       "2           2016-10         Dog                       17  2016-09-28 12:05:00   \n",
       "3           2015-10         Dog                       15  2015-10-06 12:29:00   \n",
       "6           2016-11         Dog                       15  2016-08-17 14:05:00   \n",
       "7           2013-11         Dog                       11  2013-11-13 18:16:00   \n",
       "\n",
       "  intake_monthyear  time_in_shelter_days  ...  intake_type_Euthanasia Request  \\\n",
       "1          2013-10                    49  ...                               0   \n",
       "2          2016-09                     9  ...                               0   \n",
       "3          2015-10                    23  ...                               0   \n",
       "6          2016-08                    89  ...                               0   \n",
       "7          2013-11                     2  ...                               0   \n",
       "\n",
       "   intake_type_Owner Surrender  intake_type_Public Assist  intake_type_Stray  \\\n",
       "1                            1                          0                  0   \n",
       "2                            0                          1                  0   \n",
       "3                            0                          0                  1   \n",
       "6                            0                          0                  1   \n",
       "7                            0                          0                  1   \n",
       "\n",
       "   gender_Intact Female  gender_Intact Male  gender_Neutered Male  \\\n",
       "1                     0                   0                     1   \n",
       "2                     0                   0                     1   \n",
       "3                     0                   0                     1   \n",
       "6                     0                   0                     0   \n",
       "7                     0                   0                     0   \n",
       "\n",
       "   gender_Spayed Female  time_in_shelter_binned  time_binned_int  \n",
       "1                     0            31-1268 days                0  \n",
       "2                     0               5-10 days                1  \n",
       "3                     0              10-31 days                2  \n",
       "6                     1            31-1268 days                0  \n",
       "7                     1                < 4 days                3  \n",
       "\n",
       "[5 rows x 71 columns]"
      ]
     },
     "execution_count": 14,
     "metadata": {},
     "output_type": "execute_result"
    }
   ],
   "source": [
    "#convert binned time in shelter to int (0-4) for modeling purposes\n",
    "def create_dict(items): #creates dict {bin:num}\n",
    "        return {v: i for i, v in enumerate(items, 0)}\n",
    "time_binned_int = df['time_in_shelter_binned'].unique().tolist()\n",
    "time = create_dict(time_binned_int)\n",
    "df['time_binned_int']=df['time_in_shelter_binned'].map(create_dict(time))\n",
    "df.head()"
   ]
  },
  {
   "cell_type": "code",
   "execution_count": 15,
   "metadata": {},
   "outputs": [],
   "source": [
    "#columns to be used as x, y will only be time_in_shelter_binned\n",
    "l = list(df.columns)\n",
    "c = df.columns[df.columns.str.startswith(('breed', 'color', 'gender', 'intake_type_', 'intake_cond_'))].to_list()\n",
    "columns=['age_upon_outcome_(years)']+ c \n",
    "columns\n",
    "x_df = df[columns]"
   ]
  },
  {
   "cell_type": "code",
   "execution_count": null,
   "metadata": {},
   "outputs": [],
   "source": []
  },
  {
   "cell_type": "code",
   "execution_count": 16,
   "metadata": {},
   "outputs": [
    {
     "data": {
      "text/html": [
       "<div>\n",
       "<style scoped>\n",
       "    .dataframe tbody tr th:only-of-type {\n",
       "        vertical-align: middle;\n",
       "    }\n",
       "\n",
       "    .dataframe tbody tr th {\n",
       "        vertical-align: top;\n",
       "    }\n",
       "\n",
       "    .dataframe thead th {\n",
       "        text-align: right;\n",
       "    }\n",
       "</style>\n",
       "<table border=\"1\" class=\"dataframe\">\n",
       "  <thead>\n",
       "    <tr style=\"text-align: right;\">\n",
       "      <th></th>\n",
       "      <th>age_upon_outcome_(years)</th>\n",
       "      <th>breed_Anatol Shepherd</th>\n",
       "      <th>breed_Australian Cattle Dog</th>\n",
       "      <th>breed_Australian Kelpie</th>\n",
       "      <th>breed_Australian Shepherd</th>\n",
       "      <th>breed_Beagle</th>\n",
       "      <th>breed_Border Collie</th>\n",
       "      <th>breed_Boxer</th>\n",
       "      <th>breed_Cairn Terrier</th>\n",
       "      <th>breed_Catahoula</th>\n",
       "      <th>...</th>\n",
       "      <th>intake_cond_Pregnant</th>\n",
       "      <th>intake_cond_Sick</th>\n",
       "      <th>intake_type_Euthanasia Request</th>\n",
       "      <th>intake_type_Owner Surrender</th>\n",
       "      <th>intake_type_Public Assist</th>\n",
       "      <th>intake_type_Stray</th>\n",
       "      <th>gender_Intact Female</th>\n",
       "      <th>gender_Intact Male</th>\n",
       "      <th>gender_Neutered Male</th>\n",
       "      <th>gender_Spayed Female</th>\n",
       "    </tr>\n",
       "  </thead>\n",
       "  <tbody>\n",
       "    <tr>\n",
       "      <th>1</th>\n",
       "      <td>16</td>\n",
       "      <td>0</td>\n",
       "      <td>0</td>\n",
       "      <td>0</td>\n",
       "      <td>0</td>\n",
       "      <td>0</td>\n",
       "      <td>0</td>\n",
       "      <td>0</td>\n",
       "      <td>0</td>\n",
       "      <td>0</td>\n",
       "      <td>...</td>\n",
       "      <td>0</td>\n",
       "      <td>0</td>\n",
       "      <td>0</td>\n",
       "      <td>1</td>\n",
       "      <td>0</td>\n",
       "      <td>0</td>\n",
       "      <td>0</td>\n",
       "      <td>0</td>\n",
       "      <td>1</td>\n",
       "      <td>0</td>\n",
       "    </tr>\n",
       "    <tr>\n",
       "      <th>2</th>\n",
       "      <td>17</td>\n",
       "      <td>0</td>\n",
       "      <td>0</td>\n",
       "      <td>0</td>\n",
       "      <td>0</td>\n",
       "      <td>0</td>\n",
       "      <td>0</td>\n",
       "      <td>0</td>\n",
       "      <td>0</td>\n",
       "      <td>0</td>\n",
       "      <td>...</td>\n",
       "      <td>0</td>\n",
       "      <td>0</td>\n",
       "      <td>0</td>\n",
       "      <td>0</td>\n",
       "      <td>1</td>\n",
       "      <td>0</td>\n",
       "      <td>0</td>\n",
       "      <td>0</td>\n",
       "      <td>1</td>\n",
       "      <td>0</td>\n",
       "    </tr>\n",
       "    <tr>\n",
       "      <th>3</th>\n",
       "      <td>15</td>\n",
       "      <td>0</td>\n",
       "      <td>0</td>\n",
       "      <td>0</td>\n",
       "      <td>0</td>\n",
       "      <td>0</td>\n",
       "      <td>0</td>\n",
       "      <td>0</td>\n",
       "      <td>0</td>\n",
       "      <td>0</td>\n",
       "      <td>...</td>\n",
       "      <td>0</td>\n",
       "      <td>0</td>\n",
       "      <td>0</td>\n",
       "      <td>0</td>\n",
       "      <td>0</td>\n",
       "      <td>1</td>\n",
       "      <td>0</td>\n",
       "      <td>0</td>\n",
       "      <td>1</td>\n",
       "      <td>0</td>\n",
       "    </tr>\n",
       "    <tr>\n",
       "      <th>6</th>\n",
       "      <td>15</td>\n",
       "      <td>0</td>\n",
       "      <td>0</td>\n",
       "      <td>0</td>\n",
       "      <td>0</td>\n",
       "      <td>0</td>\n",
       "      <td>0</td>\n",
       "      <td>0</td>\n",
       "      <td>0</td>\n",
       "      <td>0</td>\n",
       "      <td>...</td>\n",
       "      <td>0</td>\n",
       "      <td>0</td>\n",
       "      <td>0</td>\n",
       "      <td>0</td>\n",
       "      <td>0</td>\n",
       "      <td>1</td>\n",
       "      <td>0</td>\n",
       "      <td>0</td>\n",
       "      <td>0</td>\n",
       "      <td>1</td>\n",
       "    </tr>\n",
       "    <tr>\n",
       "      <th>7</th>\n",
       "      <td>11</td>\n",
       "      <td>0</td>\n",
       "      <td>0</td>\n",
       "      <td>0</td>\n",
       "      <td>0</td>\n",
       "      <td>0</td>\n",
       "      <td>0</td>\n",
       "      <td>0</td>\n",
       "      <td>0</td>\n",
       "      <td>0</td>\n",
       "      <td>...</td>\n",
       "      <td>0</td>\n",
       "      <td>0</td>\n",
       "      <td>0</td>\n",
       "      <td>0</td>\n",
       "      <td>0</td>\n",
       "      <td>1</td>\n",
       "      <td>0</td>\n",
       "      <td>0</td>\n",
       "      <td>0</td>\n",
       "      <td>1</td>\n",
       "    </tr>\n",
       "  </tbody>\n",
       "</table>\n",
       "<p>5 rows × 56 columns</p>\n",
       "</div>"
      ],
      "text/plain": [
       "   age_upon_outcome_(years)  breed_Anatol Shepherd  \\\n",
       "1                        16                      0   \n",
       "2                        17                      0   \n",
       "3                        15                      0   \n",
       "6                        15                      0   \n",
       "7                        11                      0   \n",
       "\n",
       "   breed_Australian Cattle Dog  breed_Australian Kelpie  \\\n",
       "1                            0                        0   \n",
       "2                            0                        0   \n",
       "3                            0                        0   \n",
       "6                            0                        0   \n",
       "7                            0                        0   \n",
       "\n",
       "   breed_Australian Shepherd  breed_Beagle  breed_Border Collie  breed_Boxer  \\\n",
       "1                          0             0                    0            0   \n",
       "2                          0             0                    0            0   \n",
       "3                          0             0                    0            0   \n",
       "6                          0             0                    0            0   \n",
       "7                          0             0                    0            0   \n",
       "\n",
       "   breed_Cairn Terrier  breed_Catahoula  ...  intake_cond_Pregnant  \\\n",
       "1                    0                0  ...                     0   \n",
       "2                    0                0  ...                     0   \n",
       "3                    0                0  ...                     0   \n",
       "6                    0                0  ...                     0   \n",
       "7                    0                0  ...                     0   \n",
       "\n",
       "   intake_cond_Sick  intake_type_Euthanasia Request  \\\n",
       "1                 0                               0   \n",
       "2                 0                               0   \n",
       "3                 0                               0   \n",
       "6                 0                               0   \n",
       "7                 0                               0   \n",
       "\n",
       "   intake_type_Owner Surrender  intake_type_Public Assist  intake_type_Stray  \\\n",
       "1                            1                          0                  0   \n",
       "2                            0                          1                  0   \n",
       "3                            0                          0                  1   \n",
       "6                            0                          0                  1   \n",
       "7                            0                          0                  1   \n",
       "\n",
       "   gender_Intact Female  gender_Intact Male  gender_Neutered Male  \\\n",
       "1                     0                   0                     1   \n",
       "2                     0                   0                     1   \n",
       "3                     0                   0                     1   \n",
       "6                     0                   0                     0   \n",
       "7                     0                   0                     0   \n",
       "\n",
       "   gender_Spayed Female  \n",
       "1                     0  \n",
       "2                     0  \n",
       "3                     0  \n",
       "6                     1  \n",
       "7                     1  \n",
       "\n",
       "[5 rows x 56 columns]"
      ]
     },
     "execution_count": 16,
     "metadata": {},
     "output_type": "execute_result"
    }
   ],
   "source": [
    "x = x_df\n",
    "y = df[['time_in_shelter_binned']]\n",
    "x.head()"
   ]
  },
  {
   "cell_type": "markdown",
   "metadata": {},
   "source": [
    "Split into train and test data"
   ]
  },
  {
   "cell_type": "code",
   "execution_count": 17,
   "metadata": {},
   "outputs": [],
   "source": [
    "x_train, x_test, y_train, y_test = train_test_split(x, y, test_size =.3, random_state=42)"
   ]
  },
  {
   "cell_type": "markdown",
   "metadata": {},
   "source": [
    "# Modeling\n",
    " KNN and Random Forest"
   ]
  },
  {
   "cell_type": "code",
   "execution_count": 18,
   "metadata": {},
   "outputs": [],
   "source": [
    "#KNN\n",
    "from sklearn.neighbors import KNeighborsClassifier\n",
    "import warnings\n",
    "from sklearn.exceptions import DataConversionWarning\n",
    "warnings.filterwarnings(action='ignore', category=DataConversionWarning)\n",
    "\n",
    "train_scores = []\n",
    "test_scores = []\n",
    "\n",
    "for i in range(1, 10):\n",
    "    knn = KNeighborsClassifier(i)\n",
    "    knn.fit(x_train, y_train)\n",
    "    \n",
    "    train_scores.append(knn.score(x_train, y_train))\n",
    "    test_scores.append(knn.score(x_test, y_test))"
   ]
  },
  {
   "cell_type": "code",
   "execution_count": 19,
   "metadata": {},
   "outputs": [
    {
     "name": "stdout",
     "output_type": "stream",
     "text": [
      "train: [0.5296, 0.4484, 0.4652, 0.4703, 0.4717, 0.4667, 0.4602, 0.4572, 0.4617]\n",
      "test: [0.3082, 0.278, 0.3109, 0.3256, 0.3266, 0.3327, 0.3382, 0.3455, 0.3493]\n"
     ]
    }
   ],
   "source": [
    "print('train:',[round(x, 4) for x in train_scores])\n",
    "print('test:',[round(x, 4) for x in test_scores])\n"
   ]
  },
  {
   "cell_type": "code",
   "execution_count": 20,
   "metadata": {},
   "outputs": [
    {
     "data": {
      "text/plain": [
       "0.3771764212292847"
      ]
     },
     "execution_count": 20,
     "metadata": {},
     "output_type": "execute_result"
    }
   ],
   "source": [
    "#Random Forest gini\n",
    "from sklearn.ensemble import RandomForestClassifier\n",
    "from sklearn import metrics\n",
    "clf = RandomForestClassifier(criterion='gini' ,random_state=1)\n",
    "\n",
    "clf.fit(x_train, y_train)\n",
    "y_pred = clf.predict(x_test)\n",
    "\n",
    "metrics.accuracy_score(y_test, y_pred)\n",
    "\n",
    "\n"
   ]
  },
  {
   "cell_type": "code",
   "execution_count": 21,
   "metadata": {},
   "outputs": [
    {
     "data": {
      "text/plain": [
       "<matplotlib.axes._subplots.AxesSubplot at 0x7f2c1e32aa90>"
      ]
     },
     "execution_count": 21,
     "metadata": {},
     "output_type": "execute_result"
    },
    {
     "data": {
      "image/png": "[encoded data removed]",
      "text/plain": [
       "<Figure size 720x864 with 1 Axes>"
      ]
     },
     "metadata": {
      "needs_background": "light"
     },
     "output_type": "display_data"
    }
   ],
   "source": [
    "feature_imp = clf.feature_importances_\n",
    "f = pd.Series(feature_imp,index=x_df.columns).sort_values(ascending=False)\n",
    "\n",
    "plt.figure(figsize=(10, 12))\n",
    "sns.barplot(x=f, y=f.index)"
   ]
  },
  {
   "cell_type": "markdown",
   "metadata": {},
   "source": [
    "Looks like age is the most important factor, gender is likely so high up because the majority of dogs are spayed femals and neutered males. Intake condition may be adding noise. "
   ]
  },
  {
   "cell_type": "code",
   "execution_count": 22,
   "metadata": {},
   "outputs": [
    {
     "data": {
      "text/plain": [
       "0.3826305852737571"
      ]
     },
     "execution_count": 22,
     "metadata": {},
     "output_type": "execute_result"
    }
   ],
   "source": [
    "#Random Forest entropy\n",
    "e_clf = RandomForestClassifier(criterion='entropy', random_state=1)\n",
    "e_clf = e_clf.fit(x_train, y_train)\n",
    "\n",
    "y_pred = e_clf.predict(x_test)\n",
    "metrics.accuracy_score(y_test, y_pred)\n"
   ]
  },
  {
   "cell_type": "code",
   "execution_count": 60,
   "metadata": {},
   "outputs": [],
   "source": [
    "#rerunning random forest without certain varables \n",
    "#creating new train and test sets\n",
    "#remving color improves the model the most\n",
    "c = df.columns[df.columns.str.startswith(( 'breed','gender', 'intake_cond_', 'intake_type_'))].to_list()\n",
    "columns=['age_upon_outcome_(years)']+ c \n",
    "columns\n",
    "x2_df = df[columns]\n",
    "\n",
    "x2 = x2_df\n",
    "y2 = df[['time_in_shelter_binned']]\n",
    "\n",
    "\n",
    "x2_train, x2_test, y2_train, y2_test = train_test_split(x2, y2, test_size =.3, random_state=42)"
   ]
  },
  {
   "cell_type": "code",
   "execution_count": 61,
   "metadata": {},
   "outputs": [
    {
     "data": {
      "text/plain": [
       "0.4052863436123348"
      ]
     },
     "execution_count": 61,
     "metadata": {},
     "output_type": "execute_result"
    }
   ],
   "source": [
    "e_clf2 = RandomForestClassifier(criterion='entropy', random_state=1)\n",
    "e_clf2 = e_clf2.fit(x2_train, y2_train)\n",
    "\n",
    "y2_pred = e_clf2.predict(x2_test)\n",
    "metrics.accuracy_score(y2_test, y2_pred)\n"
   ]
  },
  {
   "cell_type": "code",
   "execution_count": 57,
   "metadata": {},
   "outputs": [
    {
     "data": {
      "text/plain": [
       "<matplotlib.axes._subplots.AxesSubplot at 0x7f2c1c51a460>"
      ]
     },
     "execution_count": 57,
     "metadata": {},
     "output_type": "execute_result"
    },
    {
     "data": {
      "image/png": "[encoded data removed]",
      "text/plain": [
       "<Figure size 720x864 with 1 Axes>"
      ]
     },
     "metadata": {
      "needs_background": "light"
     },
     "output_type": "display_data"
    }
   ],
   "source": [
    "feature_imp = e_clf2.feature_importances_\n",
    "f2 = pd.Series(feature_imp,index=x2_df.columns).sort_values(ascending=False)\n",
    "\n",
    "plt.figure(figsize=(10, 12))\n",
    "sns.barplot(x=f2, y=f2.index)"
   ]
  },
  {
   "cell_type": "code",
   "execution_count": null,
   "metadata": {},
   "outputs": [],
   "source": []
  }
 ],
 "metadata": {
  "kernelspec": {
   "display_name": "Python 3",
   "language": "python",
   "name": "python3"
  },
  "language_info": {
   "codemirror_mode": {
    "name": "ipython",
    "version": 3
   },
   "file_extension": ".py",
   "mimetype": "text/x-python",
   "name": "python",
   "nbconvert_exporter": "python",
   "pygments_lexer": "ipython3",
   "version": "3.8.3"
  }
 },
 "nbformat": 4,
 "nbformat_minor": 4
}
