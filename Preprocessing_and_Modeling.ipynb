{
 "cells": [
  {
   "cell_type": "markdown",
   "metadata": {},
   "source": [
    "# Preprocessing\n"
   ]
  },
  {
   "cell_type": "code",
   "execution_count": 1,
   "metadata": {},
   "outputs": [],
   "source": [
    "import pandas as pd\n",
    "import numpy as np\n",
    "from sklearn.model_selection import train_test_split\n",
    "import matplotlib.pyplot as plt\n",
    "import seaborn as sns"
   ]
  },
  {
   "cell_type": "code",
   "execution_count": 2,
   "metadata": {},
   "outputs": [
    {
     "data": {
      "text/plain": [
       "(16008, 58)"
      ]
     },
     "execution_count": 2,
     "metadata": {},
     "output_type": "execute_result"
    }
   ],
   "source": [
    "df = pd.read_csv('dog_adoption2')\n",
    "df.shape"
   ]
  },
  {
   "cell_type": "code",
   "execution_count": 3,
   "metadata": {
    "scrolled": true
   },
   "outputs": [
    {
     "data": {
      "text/plain": [
       "array(['Adoption'], dtype=object)"
      ]
     },
     "execution_count": 3,
     "metadata": {},
     "output_type": "execute_result"
    }
   ],
   "source": [
    "df['outcome_type'].unique()\n"
   ]
  },
  {
   "cell_type": "code",
   "execution_count": 4,
   "metadata": {},
   "outputs": [
    {
     "data": {
      "text/html": [
       "<div>\n",
       "<style scoped>\n",
       "    .dataframe tbody tr th:only-of-type {\n",
       "        vertical-align: middle;\n",
       "    }\n",
       "\n",
       "    .dataframe tbody tr th {\n",
       "        vertical-align: top;\n",
       "    }\n",
       "\n",
       "    .dataframe thead th {\n",
       "        text-align: right;\n",
       "    }\n",
       "</style>\n",
       "<table border=\"1\" class=\"dataframe\">\n",
       "  <thead>\n",
       "    <tr style=\"text-align: right;\">\n",
       "      <th></th>\n",
       "      <th>Unnamed: 0</th>\n",
       "      <th>outcome_type</th>\n",
       "      <th>animal_id_intake</th>\n",
       "      <th>age_upon_outcome_(years)</th>\n",
       "      <th>outcome_datetime</th>\n",
       "      <th>outcome_monthyear</th>\n",
       "      <th>animal_type</th>\n",
       "      <th>intake_condition</th>\n",
       "      <th>intake_type</th>\n",
       "      <th>sex_upon_outcome</th>\n",
       "      <th>...</th>\n",
       "      <th>color_Brown</th>\n",
       "      <th>color_Brown Brindle</th>\n",
       "      <th>color_Buff</th>\n",
       "      <th>color_Gray</th>\n",
       "      <th>color_Red</th>\n",
       "      <th>color_Sable</th>\n",
       "      <th>color_Tan</th>\n",
       "      <th>color_Tricolor</th>\n",
       "      <th>color_White</th>\n",
       "      <th>color_Yellow</th>\n",
       "    </tr>\n",
       "  </thead>\n",
       "  <tbody>\n",
       "    <tr>\n",
       "      <th>0</th>\n",
       "      <td>12</td>\n",
       "      <td>Adoption</td>\n",
       "      <td>A200922</td>\n",
       "      <td>16.0</td>\n",
       "      <td>2013-11-22 09:44:00</td>\n",
       "      <td>2013-11</td>\n",
       "      <td>Dog</td>\n",
       "      <td>Normal</td>\n",
       "      <td>Owner Surrender</td>\n",
       "      <td>Neutered Male</td>\n",
       "      <td>...</td>\n",
       "      <td>0</td>\n",
       "      <td>0</td>\n",
       "      <td>0</td>\n",
       "      <td>0</td>\n",
       "      <td>0</td>\n",
       "      <td>0</td>\n",
       "      <td>0</td>\n",
       "      <td>0</td>\n",
       "      <td>0</td>\n",
       "      <td>0</td>\n",
       "    </tr>\n",
       "    <tr>\n",
       "      <th>1</th>\n",
       "      <td>14</td>\n",
       "      <td>Adoption</td>\n",
       "      <td>A210457</td>\n",
       "      <td>17.0</td>\n",
       "      <td>2016-10-07 12:34:00</td>\n",
       "      <td>2016-10</td>\n",
       "      <td>Dog</td>\n",
       "      <td>Aged</td>\n",
       "      <td>Public Assist</td>\n",
       "      <td>Neutered Male</td>\n",
       "      <td>...</td>\n",
       "      <td>0</td>\n",
       "      <td>0</td>\n",
       "      <td>0</td>\n",
       "      <td>0</td>\n",
       "      <td>0</td>\n",
       "      <td>0</td>\n",
       "      <td>1</td>\n",
       "      <td>0</td>\n",
       "      <td>0</td>\n",
       "      <td>0</td>\n",
       "    </tr>\n",
       "    <tr>\n",
       "      <th>2</th>\n",
       "      <td>22</td>\n",
       "      <td>Adoption</td>\n",
       "      <td>A226069</td>\n",
       "      <td>15.0</td>\n",
       "      <td>2015-10-29 15:00:00</td>\n",
       "      <td>2015-10</td>\n",
       "      <td>Dog</td>\n",
       "      <td>Normal</td>\n",
       "      <td>Stray</td>\n",
       "      <td>Neutered Male</td>\n",
       "      <td>...</td>\n",
       "      <td>0</td>\n",
       "      <td>0</td>\n",
       "      <td>0</td>\n",
       "      <td>0</td>\n",
       "      <td>0</td>\n",
       "      <td>1</td>\n",
       "      <td>0</td>\n",
       "      <td>0</td>\n",
       "      <td>0</td>\n",
       "      <td>0</td>\n",
       "    </tr>\n",
       "    <tr>\n",
       "      <th>3</th>\n",
       "      <td>32</td>\n",
       "      <td>Adoption</td>\n",
       "      <td>A249087</td>\n",
       "      <td>15.0</td>\n",
       "      <td>2016-11-15 10:37:00</td>\n",
       "      <td>2016-11</td>\n",
       "      <td>Dog</td>\n",
       "      <td>Normal</td>\n",
       "      <td>Stray</td>\n",
       "      <td>Spayed Female</td>\n",
       "      <td>...</td>\n",
       "      <td>0</td>\n",
       "      <td>0</td>\n",
       "      <td>0</td>\n",
       "      <td>0</td>\n",
       "      <td>0</td>\n",
       "      <td>0</td>\n",
       "      <td>0</td>\n",
       "      <td>0</td>\n",
       "      <td>0</td>\n",
       "      <td>0</td>\n",
       "    </tr>\n",
       "    <tr>\n",
       "      <th>4</th>\n",
       "      <td>48</td>\n",
       "      <td>Adoption</td>\n",
       "      <td>A274546</td>\n",
       "      <td>11.0</td>\n",
       "      <td>2013-11-16 12:24:00</td>\n",
       "      <td>2013-11</td>\n",
       "      <td>Dog</td>\n",
       "      <td>Normal</td>\n",
       "      <td>Stray</td>\n",
       "      <td>Spayed Female</td>\n",
       "      <td>...</td>\n",
       "      <td>0</td>\n",
       "      <td>0</td>\n",
       "      <td>0</td>\n",
       "      <td>0</td>\n",
       "      <td>0</td>\n",
       "      <td>0</td>\n",
       "      <td>0</td>\n",
       "      <td>1</td>\n",
       "      <td>0</td>\n",
       "      <td>0</td>\n",
       "    </tr>\n",
       "  </tbody>\n",
       "</table>\n",
       "<p>5 rows × 58 columns</p>\n",
       "</div>"
      ],
      "text/plain": [
       "   Unnamed: 0 outcome_type animal_id_intake  age_upon_outcome_(years)  \\\n",
       "0          12     Adoption          A200922                      16.0   \n",
       "1          14     Adoption          A210457                      17.0   \n",
       "2          22     Adoption          A226069                      15.0   \n",
       "3          32     Adoption          A249087                      15.0   \n",
       "4          48     Adoption          A274546                      11.0   \n",
       "\n",
       "      outcome_datetime outcome_monthyear animal_type intake_condition  \\\n",
       "0  2013-11-22 09:44:00           2013-11         Dog           Normal   \n",
       "1  2016-10-07 12:34:00           2016-10         Dog             Aged   \n",
       "2  2015-10-29 15:00:00           2015-10         Dog           Normal   \n",
       "3  2016-11-15 10:37:00           2016-11         Dog           Normal   \n",
       "4  2013-11-16 12:24:00           2013-11         Dog           Normal   \n",
       "\n",
       "       intake_type sex_upon_outcome  ...  color_Brown color_Brown Brindle  \\\n",
       "0  Owner Surrender    Neutered Male  ...            0                   0   \n",
       "1    Public Assist    Neutered Male  ...            0                   0   \n",
       "2            Stray    Neutered Male  ...            0                   0   \n",
       "3            Stray    Spayed Female  ...            0                   0   \n",
       "4            Stray    Spayed Female  ...            0                   0   \n",
       "\n",
       "  color_Buff  color_Gray  color_Red  color_Sable  color_Tan  color_Tricolor  \\\n",
       "0          0           0          0            0          0               0   \n",
       "1          0           0          0            0          1               0   \n",
       "2          0           0          0            1          0               0   \n",
       "3          0           0          0            0          0               0   \n",
       "4          0           0          0            0          0               1   \n",
       "\n",
       "   color_White  color_Yellow  \n",
       "0            0             0  \n",
       "1            0             0  \n",
       "2            0             0  \n",
       "3            0             0  \n",
       "4            0             0  \n",
       "\n",
       "[5 rows x 58 columns]"
      ]
     },
     "execution_count": 4,
     "metadata": {},
     "output_type": "execute_result"
    }
   ],
   "source": [
    "df.head()"
   ]
  },
  {
   "cell_type": "code",
   "execution_count": 5,
   "metadata": {},
   "outputs": [
    {
     "name": "stdout",
     "output_type": "stream",
     "text": [
      "Normal      15089\n",
      "Injured       457\n",
      "Nursing       194\n",
      "Sick          183\n",
      "Aged           44\n",
      "Other          27\n",
      "Pregnant       12\n",
      "Feral           2\n",
      "Name: intake_condition, dtype: int64\n",
      "Stray                 11745\n",
      "Owner Surrender        3942\n",
      "Public Assist           317\n",
      "Euthanasia Request        4\n",
      "Name: intake_type, dtype: int64\n"
     ]
    }
   ],
   "source": [
    "#intake condition and type might add a little noise since it's not equally distributed \n",
    "print(df['intake_condition'].value_counts())\n",
    "print(df['intake_type'].value_counts())"
   ]
  },
  {
   "cell_type": "code",
   "execution_count": 6,
   "metadata": {},
   "outputs": [],
   "source": [
    "#creating dummy variables for the remaining categorical variables\n",
    "df = pd.get_dummies(df, columns=['intake_condition', 'intake_type', 'sex_upon_outcome'], prefix=['intake_cond', 'intake_type', 'gender'])\n"
   ]
  },
  {
   "cell_type": "code",
   "execution_count": 7,
   "metadata": {},
   "outputs": [
    {
     "data": {
      "text/plain": [
       "<matplotlib.axes._subplots.AxesSubplot at 0x7f499d1d1b50>"
      ]
     },
     "execution_count": 7,
     "metadata": {},
     "output_type": "execute_result"
    },
    {
     "data": {
      "image/png": "[encoded data removed]",
      "text/plain": [
       "<Figure size 432x288 with 1 Axes>"
      ]
     },
     "metadata": {
      "needs_background": "light"
     },
     "output_type": "display_data"
    }
   ],
   "source": [
    "\n",
    "df['age_upon_outcome_(years)'].hist(bins=20)\n"
   ]
  },
  {
   "cell_type": "code",
   "execution_count": 8,
   "metadata": {},
   "outputs": [
    {
     "data": {
      "text/plain": [
       "array([16. , 17. , 15. , 11. , 12. , 13. ,  9. , 10. ,  7. ,  8. , 14. ,\n",
       "        6. ,  5. ,  4. ,  3. ,  2. ,  1. ,  0.8,  0.9,  0.5,  0.7,  0.4,\n",
       "        0.6,  0.2,  0.3,  0.1,  0. , 18. ])"
      ]
     },
     "execution_count": 8,
     "metadata": {},
     "output_type": "execute_result"
    }
   ],
   "source": [
    "df['age_upon_outcome_(years)'].unique()"
   ]
  },
  {
   "cell_type": "code",
   "execution_count": 9,
   "metadata": {},
   "outputs": [],
   "source": [
    "#changing time_in_shelter_days to int\n",
    "df['time_in_shelter_days'] = df['time_in_shelter_days'].astype(int)"
   ]
  },
  {
   "cell_type": "code",
   "execution_count": 10,
   "metadata": {},
   "outputs": [
    {
     "data": {
      "text/plain": [
       "<matplotlib.axes._subplots.AxesSubplot at 0x7f499d7251f0>"
      ]
     },
     "execution_count": 10,
     "metadata": {},
     "output_type": "execute_result"
    },
    {
     "data": {
      "image/png": "[encoded data removed]",
      "text/plain": [
       "<Figure size 1080x504 with 3 Axes>"
      ]
     },
     "metadata": {
      "needs_background": "light"
     },
     "output_type": "display_data"
    }
   ],
   "source": [
    "# histograms of time in shleter\n",
    "time_most = df[df.loc[:,'time_in_shelter_days'] >=200 ]\n",
    "time20 = df[df.loc[:,'time_in_shelter_days']<= 20 ]\n",
    "time_mid = df[(df.loc[:, 'time_in_shelter_days']> 20) & (df.loc[:, 'time_in_shelter_days']<200)]\n",
    "\n",
    "\n",
    "fig, axes = plt.subplots(nrows=1, ncols=3, figsize = (15,7))\n",
    "time20['time_in_shelter_days'].plot(ax=axes[0], kind='hist', bins=20)\n",
    "time_mid['time_in_shelter_days'].plot(ax=axes[1], kind='hist', bins=25)\n",
    "time_most['time_in_shelter_days'].plot(ax=axes[2], kind='hist', bins=25)\n"
   ]
  },
  {
   "cell_type": "code",
   "execution_count": 11,
   "metadata": {},
   "outputs": [
    {
     "name": "stdout",
     "output_type": "stream",
     "text": [
      "Percentiles of time in shelter. \n",
      " 10th:3.0, 50th: 7.0, 90th: 61.0\n"
     ]
    }
   ],
   "source": [
    "#most dogs spend less than a week in the shelter\n",
    "print('Percentiles of time in shelter. \\n 10th:{}, 50th: {}, 90th: {}'.format(df['time_in_shelter_days'].quantile(q=.10),\n",
    "        df['time_in_shelter_days'].quantile(q=.50), df['time_in_shelter_days'].quantile(q=.90)))"
   ]
  },
  {
   "cell_type": "code",
   "execution_count": 12,
   "metadata": {},
   "outputs": [],
   "source": [
    "#creating bins based on quantiles\n",
    "labels = ['< 4 days', '4-7 days', '7-23 days', '<23 days']\n",
    "df['time_in_shelter_binned'] = pd.qcut(df['time_in_shelter_days'], 4, labels=labels)"
   ]
  },
  {
   "cell_type": "code",
   "execution_count": 13,
   "metadata": {
    "scrolled": true
   },
   "outputs": [
    {
     "data": {
      "text/plain": [
       "4-7 days     3419\n",
       "7-23 days    3726\n",
       "<23 days     3912\n",
       "< 4 days     4951\n",
       "Name: time_in_shelter_binned, dtype: int64"
      ]
     },
     "execution_count": 13,
     "metadata": {},
     "output_type": "execute_result"
    }
   ],
   "source": [
    "df['time_in_shelter_binned'].value_counts().sort_values()"
   ]
  },
  {
   "cell_type": "code",
   "execution_count": 14,
   "metadata": {},
   "outputs": [
    {
     "data": {
      "text/html": [
       "<div>\n",
       "<style scoped>\n",
       "    .dataframe tbody tr th:only-of-type {\n",
       "        vertical-align: middle;\n",
       "    }\n",
       "\n",
       "    .dataframe tbody tr th {\n",
       "        vertical-align: top;\n",
       "    }\n",
       "\n",
       "    .dataframe thead th {\n",
       "        text-align: right;\n",
       "    }\n",
       "</style>\n",
       "<table border=\"1\" class=\"dataframe\">\n",
       "  <thead>\n",
       "    <tr style=\"text-align: right;\">\n",
       "      <th></th>\n",
       "      <th>Unnamed: 0</th>\n",
       "      <th>outcome_type</th>\n",
       "      <th>animal_id_intake</th>\n",
       "      <th>age_upon_outcome_(years)</th>\n",
       "      <th>outcome_datetime</th>\n",
       "      <th>outcome_monthyear</th>\n",
       "      <th>animal_type</th>\n",
       "      <th>age_upon_intake_(years)</th>\n",
       "      <th>intake_datetime</th>\n",
       "      <th>intake_monthyear</th>\n",
       "      <th>...</th>\n",
       "      <th>intake_type_Euthanasia Request</th>\n",
       "      <th>intake_type_Owner Surrender</th>\n",
       "      <th>intake_type_Public Assist</th>\n",
       "      <th>intake_type_Stray</th>\n",
       "      <th>gender_Intact Female</th>\n",
       "      <th>gender_Intact Male</th>\n",
       "      <th>gender_Neutered Male</th>\n",
       "      <th>gender_Spayed Female</th>\n",
       "      <th>time_in_shelter_binned</th>\n",
       "      <th>time_binned_int</th>\n",
       "    </tr>\n",
       "  </thead>\n",
       "  <tbody>\n",
       "    <tr>\n",
       "      <th>0</th>\n",
       "      <td>12</td>\n",
       "      <td>Adoption</td>\n",
       "      <td>A200922</td>\n",
       "      <td>16.0</td>\n",
       "      <td>2013-11-22 09:44:00</td>\n",
       "      <td>2013-11</td>\n",
       "      <td>Dog</td>\n",
       "      <td>16.0</td>\n",
       "      <td>2013-10-03 15:47:00</td>\n",
       "      <td>2013-10</td>\n",
       "      <td>...</td>\n",
       "      <td>0</td>\n",
       "      <td>1</td>\n",
       "      <td>0</td>\n",
       "      <td>0</td>\n",
       "      <td>0</td>\n",
       "      <td>0</td>\n",
       "      <td>1</td>\n",
       "      <td>0</td>\n",
       "      <td>&lt;23 days</td>\n",
       "      <td>0</td>\n",
       "    </tr>\n",
       "    <tr>\n",
       "      <th>1</th>\n",
       "      <td>14</td>\n",
       "      <td>Adoption</td>\n",
       "      <td>A210457</td>\n",
       "      <td>17.0</td>\n",
       "      <td>2016-10-07 12:34:00</td>\n",
       "      <td>2016-10</td>\n",
       "      <td>Dog</td>\n",
       "      <td>17.0</td>\n",
       "      <td>2016-09-28 12:05:00</td>\n",
       "      <td>2016-09</td>\n",
       "      <td>...</td>\n",
       "      <td>0</td>\n",
       "      <td>0</td>\n",
       "      <td>1</td>\n",
       "      <td>0</td>\n",
       "      <td>0</td>\n",
       "      <td>0</td>\n",
       "      <td>1</td>\n",
       "      <td>0</td>\n",
       "      <td>7-23 days</td>\n",
       "      <td>1</td>\n",
       "    </tr>\n",
       "    <tr>\n",
       "      <th>2</th>\n",
       "      <td>22</td>\n",
       "      <td>Adoption</td>\n",
       "      <td>A226069</td>\n",
       "      <td>15.0</td>\n",
       "      <td>2015-10-29 15:00:00</td>\n",
       "      <td>2015-10</td>\n",
       "      <td>Dog</td>\n",
       "      <td>15.0</td>\n",
       "      <td>2015-10-06 12:29:00</td>\n",
       "      <td>2015-10</td>\n",
       "      <td>...</td>\n",
       "      <td>0</td>\n",
       "      <td>0</td>\n",
       "      <td>0</td>\n",
       "      <td>1</td>\n",
       "      <td>0</td>\n",
       "      <td>0</td>\n",
       "      <td>1</td>\n",
       "      <td>0</td>\n",
       "      <td>7-23 days</td>\n",
       "      <td>1</td>\n",
       "    </tr>\n",
       "    <tr>\n",
       "      <th>3</th>\n",
       "      <td>32</td>\n",
       "      <td>Adoption</td>\n",
       "      <td>A249087</td>\n",
       "      <td>15.0</td>\n",
       "      <td>2016-11-15 10:37:00</td>\n",
       "      <td>2016-11</td>\n",
       "      <td>Dog</td>\n",
       "      <td>15.0</td>\n",
       "      <td>2016-08-17 14:05:00</td>\n",
       "      <td>2016-08</td>\n",
       "      <td>...</td>\n",
       "      <td>0</td>\n",
       "      <td>0</td>\n",
       "      <td>0</td>\n",
       "      <td>1</td>\n",
       "      <td>0</td>\n",
       "      <td>0</td>\n",
       "      <td>0</td>\n",
       "      <td>1</td>\n",
       "      <td>&lt;23 days</td>\n",
       "      <td>0</td>\n",
       "    </tr>\n",
       "    <tr>\n",
       "      <th>4</th>\n",
       "      <td>48</td>\n",
       "      <td>Adoption</td>\n",
       "      <td>A274546</td>\n",
       "      <td>11.0</td>\n",
       "      <td>2013-11-16 12:24:00</td>\n",
       "      <td>2013-11</td>\n",
       "      <td>Dog</td>\n",
       "      <td>11.0</td>\n",
       "      <td>2013-11-13 18:16:00</td>\n",
       "      <td>2013-11</td>\n",
       "      <td>...</td>\n",
       "      <td>0</td>\n",
       "      <td>0</td>\n",
       "      <td>0</td>\n",
       "      <td>1</td>\n",
       "      <td>0</td>\n",
       "      <td>0</td>\n",
       "      <td>0</td>\n",
       "      <td>1</td>\n",
       "      <td>&lt; 4 days</td>\n",
       "      <td>2</td>\n",
       "    </tr>\n",
       "  </tbody>\n",
       "</table>\n",
       "<p>5 rows × 73 columns</p>\n",
       "</div>"
      ],
      "text/plain": [
       "   Unnamed: 0 outcome_type animal_id_intake  age_upon_outcome_(years)  \\\n",
       "0          12     Adoption          A200922                      16.0   \n",
       "1          14     Adoption          A210457                      17.0   \n",
       "2          22     Adoption          A226069                      15.0   \n",
       "3          32     Adoption          A249087                      15.0   \n",
       "4          48     Adoption          A274546                      11.0   \n",
       "\n",
       "      outcome_datetime outcome_monthyear animal_type  age_upon_intake_(years)  \\\n",
       "0  2013-11-22 09:44:00           2013-11         Dog                     16.0   \n",
       "1  2016-10-07 12:34:00           2016-10         Dog                     17.0   \n",
       "2  2015-10-29 15:00:00           2015-10         Dog                     15.0   \n",
       "3  2016-11-15 10:37:00           2016-11         Dog                     15.0   \n",
       "4  2013-11-16 12:24:00           2013-11         Dog                     11.0   \n",
       "\n",
       "       intake_datetime intake_monthyear  ...  intake_type_Euthanasia Request  \\\n",
       "0  2013-10-03 15:47:00          2013-10  ...                               0   \n",
       "1  2016-09-28 12:05:00          2016-09  ...                               0   \n",
       "2  2015-10-06 12:29:00          2015-10  ...                               0   \n",
       "3  2016-08-17 14:05:00          2016-08  ...                               0   \n",
       "4  2013-11-13 18:16:00          2013-11  ...                               0   \n",
       "\n",
       "   intake_type_Owner Surrender  intake_type_Public Assist  intake_type_Stray  \\\n",
       "0                            1                          0                  0   \n",
       "1                            0                          1                  0   \n",
       "2                            0                          0                  1   \n",
       "3                            0                          0                  1   \n",
       "4                            0                          0                  1   \n",
       "\n",
       "   gender_Intact Female  gender_Intact Male  gender_Neutered Male  \\\n",
       "0                     0                   0                     1   \n",
       "1                     0                   0                     1   \n",
       "2                     0                   0                     1   \n",
       "3                     0                   0                     0   \n",
       "4                     0                   0                     0   \n",
       "\n",
       "   gender_Spayed Female  time_in_shelter_binned  time_binned_int  \n",
       "0                     0                <23 days                0  \n",
       "1                     0               7-23 days                1  \n",
       "2                     0               7-23 days                1  \n",
       "3                     1                <23 days                0  \n",
       "4                     1                < 4 days                2  \n",
       "\n",
       "[5 rows x 73 columns]"
      ]
     },
     "execution_count": 14,
     "metadata": {},
     "output_type": "execute_result"
    }
   ],
   "source": [
    "#convert binned time in shelter to int (0-3) for modeling purposes\n",
    "def create_dict(items): #creates dict {bin:num}\n",
    "        return {v: i for i, v in enumerate(items, 0)}\n",
    "time_binned_int = df['time_in_shelter_binned'].unique().tolist()\n",
    "time = create_dict(time_binned_int)\n",
    "df['time_binned_int']=df['time_in_shelter_binned'].map(create_dict(time))\n",
    "df.head()"
   ]
  },
  {
   "cell_type": "code",
   "execution_count": 15,
   "metadata": {},
   "outputs": [],
   "source": [
    "#columns to be used as x, y will only be time_in_shelter_binned\n",
    "l = list(df.columns)\n",
    "c = df.columns[df.columns.str.startswith(('breed', 'color', 'gender', 'intake_type_', 'intake_cond_'))].to_list()\n",
    "columns=['age_upon_outcome_(years)']+ c \n",
    "\n",
    "x_df = df[columns]"
   ]
  },
  {
   "cell_type": "code",
   "execution_count": null,
   "metadata": {},
   "outputs": [],
   "source": []
  },
  {
   "cell_type": "code",
   "execution_count": 16,
   "metadata": {},
   "outputs": [
    {
     "data": {
      "text/html": [
       "<div>\n",
       "<style scoped>\n",
       "    .dataframe tbody tr th:only-of-type {\n",
       "        vertical-align: middle;\n",
       "    }\n",
       "\n",
       "    .dataframe tbody tr th {\n",
       "        vertical-align: top;\n",
       "    }\n",
       "\n",
       "    .dataframe thead th {\n",
       "        text-align: right;\n",
       "    }\n",
       "</style>\n",
       "<table border=\"1\" class=\"dataframe\">\n",
       "  <thead>\n",
       "    <tr style=\"text-align: right;\">\n",
       "      <th></th>\n",
       "      <th>age_upon_outcome_(years)</th>\n",
       "      <th>intake_cond_int</th>\n",
       "      <th>intake_type_int</th>\n",
       "      <th>breed_Anatol Shepherd</th>\n",
       "      <th>breed_Australian Cattle Dog</th>\n",
       "      <th>breed_Australian Kelpie</th>\n",
       "      <th>breed_Australian Shepherd</th>\n",
       "      <th>breed_Beagle</th>\n",
       "      <th>breed_Black Mouth Cur</th>\n",
       "      <th>breed_Border Collie</th>\n",
       "      <th>...</th>\n",
       "      <th>intake_cond_Pregnant</th>\n",
       "      <th>intake_cond_Sick</th>\n",
       "      <th>intake_type_Euthanasia Request</th>\n",
       "      <th>intake_type_Owner Surrender</th>\n",
       "      <th>intake_type_Public Assist</th>\n",
       "      <th>intake_type_Stray</th>\n",
       "      <th>gender_Intact Female</th>\n",
       "      <th>gender_Intact Male</th>\n",
       "      <th>gender_Neutered Male</th>\n",
       "      <th>gender_Spayed Female</th>\n",
       "    </tr>\n",
       "  </thead>\n",
       "  <tbody>\n",
       "    <tr>\n",
       "      <th>0</th>\n",
       "      <td>16.0</td>\n",
       "      <td>0</td>\n",
       "      <td>0</td>\n",
       "      <td>0</td>\n",
       "      <td>0</td>\n",
       "      <td>0</td>\n",
       "      <td>0</td>\n",
       "      <td>0</td>\n",
       "      <td>0</td>\n",
       "      <td>0</td>\n",
       "      <td>...</td>\n",
       "      <td>0</td>\n",
       "      <td>0</td>\n",
       "      <td>0</td>\n",
       "      <td>1</td>\n",
       "      <td>0</td>\n",
       "      <td>0</td>\n",
       "      <td>0</td>\n",
       "      <td>0</td>\n",
       "      <td>1</td>\n",
       "      <td>0</td>\n",
       "    </tr>\n",
       "    <tr>\n",
       "      <th>1</th>\n",
       "      <td>17.0</td>\n",
       "      <td>1</td>\n",
       "      <td>1</td>\n",
       "      <td>0</td>\n",
       "      <td>0</td>\n",
       "      <td>0</td>\n",
       "      <td>0</td>\n",
       "      <td>0</td>\n",
       "      <td>0</td>\n",
       "      <td>0</td>\n",
       "      <td>...</td>\n",
       "      <td>0</td>\n",
       "      <td>0</td>\n",
       "      <td>0</td>\n",
       "      <td>0</td>\n",
       "      <td>1</td>\n",
       "      <td>0</td>\n",
       "      <td>0</td>\n",
       "      <td>0</td>\n",
       "      <td>1</td>\n",
       "      <td>0</td>\n",
       "    </tr>\n",
       "    <tr>\n",
       "      <th>2</th>\n",
       "      <td>15.0</td>\n",
       "      <td>0</td>\n",
       "      <td>2</td>\n",
       "      <td>0</td>\n",
       "      <td>0</td>\n",
       "      <td>0</td>\n",
       "      <td>0</td>\n",
       "      <td>0</td>\n",
       "      <td>0</td>\n",
       "      <td>0</td>\n",
       "      <td>...</td>\n",
       "      <td>0</td>\n",
       "      <td>0</td>\n",
       "      <td>0</td>\n",
       "      <td>0</td>\n",
       "      <td>0</td>\n",
       "      <td>1</td>\n",
       "      <td>0</td>\n",
       "      <td>0</td>\n",
       "      <td>1</td>\n",
       "      <td>0</td>\n",
       "    </tr>\n",
       "    <tr>\n",
       "      <th>3</th>\n",
       "      <td>15.0</td>\n",
       "      <td>0</td>\n",
       "      <td>2</td>\n",
       "      <td>0</td>\n",
       "      <td>0</td>\n",
       "      <td>0</td>\n",
       "      <td>0</td>\n",
       "      <td>0</td>\n",
       "      <td>0</td>\n",
       "      <td>0</td>\n",
       "      <td>...</td>\n",
       "      <td>0</td>\n",
       "      <td>0</td>\n",
       "      <td>0</td>\n",
       "      <td>0</td>\n",
       "      <td>0</td>\n",
       "      <td>1</td>\n",
       "      <td>0</td>\n",
       "      <td>0</td>\n",
       "      <td>0</td>\n",
       "      <td>1</td>\n",
       "    </tr>\n",
       "    <tr>\n",
       "      <th>4</th>\n",
       "      <td>11.0</td>\n",
       "      <td>0</td>\n",
       "      <td>2</td>\n",
       "      <td>0</td>\n",
       "      <td>0</td>\n",
       "      <td>0</td>\n",
       "      <td>0</td>\n",
       "      <td>0</td>\n",
       "      <td>0</td>\n",
       "      <td>0</td>\n",
       "      <td>...</td>\n",
       "      <td>0</td>\n",
       "      <td>0</td>\n",
       "      <td>0</td>\n",
       "      <td>0</td>\n",
       "      <td>0</td>\n",
       "      <td>1</td>\n",
       "      <td>0</td>\n",
       "      <td>0</td>\n",
       "      <td>0</td>\n",
       "      <td>1</td>\n",
       "    </tr>\n",
       "  </tbody>\n",
       "</table>\n",
       "<p>5 rows × 58 columns</p>\n",
       "</div>"
      ],
      "text/plain": [
       "   age_upon_outcome_(years)  intake_cond_int  intake_type_int  \\\n",
       "0                      16.0                0                0   \n",
       "1                      17.0                1                1   \n",
       "2                      15.0                0                2   \n",
       "3                      15.0                0                2   \n",
       "4                      11.0                0                2   \n",
       "\n",
       "   breed_Anatol Shepherd  breed_Australian Cattle Dog  \\\n",
       "0                      0                            0   \n",
       "1                      0                            0   \n",
       "2                      0                            0   \n",
       "3                      0                            0   \n",
       "4                      0                            0   \n",
       "\n",
       "   breed_Australian Kelpie  breed_Australian Shepherd  breed_Beagle  \\\n",
       "0                        0                          0             0   \n",
       "1                        0                          0             0   \n",
       "2                        0                          0             0   \n",
       "3                        0                          0             0   \n",
       "4                        0                          0             0   \n",
       "\n",
       "   breed_Black Mouth Cur  breed_Border Collie  ...  intake_cond_Pregnant  \\\n",
       "0                      0                    0  ...                     0   \n",
       "1                      0                    0  ...                     0   \n",
       "2                      0                    0  ...                     0   \n",
       "3                      0                    0  ...                     0   \n",
       "4                      0                    0  ...                     0   \n",
       "\n",
       "   intake_cond_Sick  intake_type_Euthanasia Request  \\\n",
       "0                 0                               0   \n",
       "1                 0                               0   \n",
       "2                 0                               0   \n",
       "3                 0                               0   \n",
       "4                 0                               0   \n",
       "\n",
       "   intake_type_Owner Surrender  intake_type_Public Assist  intake_type_Stray  \\\n",
       "0                            1                          0                  0   \n",
       "1                            0                          1                  0   \n",
       "2                            0                          0                  1   \n",
       "3                            0                          0                  1   \n",
       "4                            0                          0                  1   \n",
       "\n",
       "   gender_Intact Female  gender_Intact Male  gender_Neutered Male  \\\n",
       "0                     0                   0                     1   \n",
       "1                     0                   0                     1   \n",
       "2                     0                   0                     1   \n",
       "3                     0                   0                     0   \n",
       "4                     0                   0                     0   \n",
       "\n",
       "   gender_Spayed Female  \n",
       "0                     0  \n",
       "1                     0  \n",
       "2                     0  \n",
       "3                     1  \n",
       "4                     1  \n",
       "\n",
       "[5 rows x 58 columns]"
      ]
     },
     "execution_count": 16,
     "metadata": {},
     "output_type": "execute_result"
    }
   ],
   "source": [
    "x = x_df\n",
    "y = df[['time_in_shelter_binned']]\n",
    "x.head()"
   ]
  },
  {
   "cell_type": "code",
   "execution_count": 17,
   "metadata": {},
   "outputs": [
    {
     "data": {
      "text/plain": [
       "pandas.core.frame.DataFrame"
      ]
     },
     "execution_count": 17,
     "metadata": {},
     "output_type": "execute_result"
    }
   ],
   "source": [
    "type(y)"
   ]
  },
  {
   "cell_type": "markdown",
   "metadata": {},
   "source": [
    "Split into train and test data"
   ]
  },
  {
   "cell_type": "code",
   "execution_count": 18,
   "metadata": {},
   "outputs": [],
   "source": [
    "x_train, x_test, y_train, y_test = train_test_split(x, y, test_size =.3, random_state=1)"
   ]
  },
  {
   "cell_type": "markdown",
   "metadata": {},
   "source": [
    "# Modeling\n",
    " KNN and Random Forest"
   ]
  },
  {
   "cell_type": "code",
   "execution_count": 19,
   "metadata": {},
   "outputs": [],
   "source": [
    "#KNN\n",
    "from sklearn.neighbors import KNeighborsClassifier\n",
    "import warnings\n",
    "from sklearn.exceptions import DataConversionWarning\n",
    "warnings.filterwarnings(action='ignore', category=DataConversionWarning)\n",
    "from sklearn.metrics import confusion_matrix\n",
    "\n",
    "train_scores = []\n",
    "test_scores = []\n",
    "\n",
    "for i in range(1, 10):  \n",
    "    knn = KNeighborsClassifier(i)\n",
    "    knn.fit(x_train, y_train)\n",
    "    \n",
    "    train_scores.append(knn.score(x_train, y_train))\n",
    "    test_scores.append(knn.score(x_test, y_test))"
   ]
  },
  {
   "cell_type": "code",
   "execution_count": 20,
   "metadata": {},
   "outputs": [
    {
     "name": "stdout",
     "output_type": "stream",
     "text": [
      "train: [0.6364, 0.5432, 0.5606, 0.5517, 0.542, 0.5332, 0.5288, 0.5251, 0.5238]\n",
      "test: [0.3771, 0.3456, 0.3852, 0.3783, 0.3966, 0.3977, 0.4022, 0.4006, 0.4018]\n"
     ]
    }
   ],
   "source": [
    "print('train:',[round(x, 4) for x in train_scores])\n",
    "print('test:',[round(x, 4) for x in test_scores])\n"
   ]
  },
  {
   "cell_type": "code",
   "execution_count": 23,
   "metadata": {
    "scrolled": false
   },
   "outputs": [
    {
     "name": "stderr",
     "output_type": "stream",
     "text": [
      "/home/amanda/anaconda3/lib/python3.8/site-packages/seaborn/_decorators.py:36: FutureWarning: Pass the following variables as keyword args: x, y. From version 0.12, the only valid positional argument will be `data`, and passing other arguments without an explicit keyword will result in an error or misinterpretation.\n",
      "  warnings.warn(\n",
      "/home/amanda/anaconda3/lib/python3.8/site-packages/seaborn/_decorators.py:36: FutureWarning: Pass the following variables as keyword args: x, y. From version 0.12, the only valid positional argument will be `data`, and passing other arguments without an explicit keyword will result in an error or misinterpretation.\n",
      "  warnings.warn(\n"
     ]
    },
    {
     "data": {
      "image/png": "[encoded data removed]",
      "text/plain": [
       "<Figure size 864x360 with 1 Axes>"
      ]
     },
     "metadata": {
      "needs_background": "light"
     },
     "output_type": "display_data"
    }
   ],
   "source": [
    "plt.figure(figsize=(12,5))\n",
    "plt.xlabel('K')\n",
    "plt.ylabel('Score')\n",
    "p = sns.lineplot(range(1,10),train_scores,marker='*',label='Train Score')\n",
    "p = sns.lineplot(range(1,10),test_scores,marker='o',label='Test Score')"
   ]
  },
  {
   "cell_type": "code",
   "execution_count": 22,
   "metadata": {},
   "outputs": [
    {
     "data": {
      "text/plain": [
       "GridSearchCV(cv=5, estimator=KNeighborsClassifier(),\n",
       "             param_grid={'n_neighbors': array([ 1,  2,  3,  4,  5,  6,  7,  8,  9, 10, 11, 12, 13, 14, 15, 16, 17,\n",
       "       18, 19, 20, 21, 22, 23, 24, 25, 26, 27, 28, 29, 30, 31, 32, 33, 34,\n",
       "       35, 36, 37, 38, 39, 40, 41, 42, 43, 44, 45, 46, 47, 48, 49, 50, 51,\n",
       "       52, 53, 54, 55, 56, 57, 58, 59, 60, 61, 62, 63, 64, 65, 66, 67, 68,\n",
       "       69, 70, 71, 72, 73, 74, 75, 76, 77, 78, 79, 80, 81, 82, 83, 84, 85,\n",
       "       86, 87, 88, 89, 90, 91, 92, 93, 94, 95, 96, 97, 98, 99]),\n",
       "                         'weights': ['uniform', 'distance']})"
      ]
     },
     "execution_count": 22,
     "metadata": {},
     "output_type": "execute_result"
    }
   ],
   "source": [
    "#Grid search to find better k\n",
    "from sklearn.model_selection import GridSearchCV\n",
    "param_grid = {'n_neighbors':np.arange(1,100), \n",
    "              'weights':['uniform', 'distance']}\n",
    "\n",
    "knn = KNeighborsClassifier()\n",
    "\n",
    "knn_cv= GridSearchCV(knn,param_grid,cv=5)\n",
    "knn_cv.fit(x_train,y_train)\n"
   ]
  },
  {
   "cell_type": "code",
   "execution_count": 24,
   "metadata": {},
   "outputs": [
    {
     "name": "stdout",
     "output_type": "stream",
     "text": [
      "Best Score:0.4374832663989291\n",
      "Best Parameters: {'n_neighbors': 78, 'weights': 'uniform'}\n"
     ]
    }
   ],
   "source": [
    "print(\"Best Score:\" + str(knn_cv.best_score_))\n",
    "print(\"Best Parameters: \" + str(knn_cv.best_params_))"
   ]
  },
  {
   "cell_type": "code",
   "execution_count": 25,
   "metadata": {},
   "outputs": [
    {
     "data": {
      "text/plain": [
       "array([[230, 160, 509, 150],\n",
       "       [152, 218, 361, 372],\n",
       "       [190, 145, 977, 161],\n",
       "       [ 86, 190, 257, 645]])"
      ]
     },
     "execution_count": 25,
     "metadata": {},
     "output_type": "execute_result"
    }
   ],
   "source": [
    "#score with confusion maxtrix\n",
    "knn= KNeighborsClassifier(n_neighbors=78)\n",
    "knn.fit(x_train, y_train)\n",
    "knn.score(x_test, y_test)\n",
    "\n",
    "y_pred = knn.predict(x_test)\n",
    "confusion_matrix(y_test, y_pred)"
   ]
  },
  {
   "cell_type": "code",
   "execution_count": 26,
   "metadata": {},
   "outputs": [
    {
     "data": {
      "text/plain": [
       "<sklearn.metrics._plot.confusion_matrix.ConfusionMatrixDisplay at 0x7f499c5152e0>"
      ]
     },
     "execution_count": 26,
     "metadata": {},
     "output_type": "execute_result"
    },
    {
     "data": {
      "image/png": "[encoded data removed]",
      "text/plain": [
       "<Figure size 432x288 with 2 Axes>"
      ]
     },
     "metadata": {
      "needs_background": "light"
     },
     "output_type": "display_data"
    }
   ],
   "source": [
    "from sklearn.metrics import plot_confusion_matrix\n",
    "plot_confusion_matrix(knn, x_test, y_test)"
   ]
  },
  {
   "cell_type": "markdown",
   "metadata": {},
   "source": [
    "### Random Forest"
   ]
  },
  {
   "cell_type": "code",
   "execution_count": 27,
   "metadata": {},
   "outputs": [
    {
     "data": {
      "text/plain": [
       "0.42390172808661253"
      ]
     },
     "execution_count": 27,
     "metadata": {},
     "output_type": "execute_result"
    }
   ],
   "source": [
    "#Random Forest gini\n",
    "from sklearn.ensemble import RandomForestClassifier\n",
    "from sklearn import metrics\n",
    "clf = RandomForestClassifier(criterion='gini' ,random_state=1)\n",
    "\n",
    "clf.fit(x_train, y_train)\n",
    "y_pred = clf.predict(x_test)\n",
    "\n",
    "metrics.accuracy_score(y_test, y_pred)\n"
   ]
  },
  {
   "cell_type": "code",
   "execution_count": 28,
   "metadata": {},
   "outputs": [
    {
     "data": {
      "text/plain": [
       "<sklearn.metrics._plot.confusion_matrix.ConfusionMatrixDisplay at 0x7f499c43a190>"
      ]
     },
     "execution_count": 28,
     "metadata": {},
     "output_type": "execute_result"
    },
    {
     "data": {
      "image/png": "[encoded data removed]",
      "text/plain": [
       "<Figure size 432x288 with 2 Axes>"
      ]
     },
     "metadata": {
      "needs_background": "light"
     },
     "output_type": "display_data"
    }
   ],
   "source": [
    "plot_confusion_matrix(clf, x_test, y_test)"
   ]
  },
  {
   "cell_type": "code",
   "execution_count": 29,
   "metadata": {},
   "outputs": [
    {
     "data": {
      "text/plain": [
       "<matplotlib.axes._subplots.AxesSubplot at 0x7f499bbe8ac0>"
      ]
     },
     "execution_count": 29,
     "metadata": {},
     "output_type": "execute_result"
    },
    {
     "data": {
      "image/png": "[encoded data removed]",
      "text/plain": [
       "<Figure size 720x864 with 1 Axes>"
      ]
     },
     "metadata": {
      "needs_background": "light"
     },
     "output_type": "display_data"
    }
   ],
   "source": [
    "feature_imp = clf.feature_importances_\n",
    "f = pd.Series(feature_imp,index=x_df.columns).sort_values(ascending=False)\n",
    "\n",
    "plt.figure(figsize=(10, 12))\n",
    "sns.barplot(x=f, y=f.index)"
   ]
  },
  {
   "cell_type": "markdown",
   "metadata": {},
   "source": []
  },
  {
   "cell_type": "code",
   "execution_count": 30,
   "metadata": {},
   "outputs": [
    {
     "data": {
      "text/plain": [
       "0.42494274411825944"
      ]
     },
     "execution_count": 30,
     "metadata": {},
     "output_type": "execute_result"
    }
   ],
   "source": [
    "#Random Forest entropy\n",
    "e_clf = RandomForestClassifier(criterion='entropy', random_state=1)\n",
    "e_clf = e_clf.fit(x_train, y_train)\n",
    "\n",
    "y_pred = e_clf.predict(x_test)\n",
    "metrics.accuracy_score(y_test, y_pred)\n"
   ]
  },
  {
   "cell_type": "code",
   "execution_count": 31,
   "metadata": {},
   "outputs": [
    {
     "data": {
      "text/plain": [
       "<sklearn.metrics._plot.confusion_matrix.ConfusionMatrixDisplay at 0x7f499ba0a880>"
      ]
     },
     "execution_count": 31,
     "metadata": {},
     "output_type": "execute_result"
    },
    {
     "data": {
      "image/png": "[encoded data removed]",
      "text/plain": [
       "<Figure size 432x288 with 2 Axes>"
      ]
     },
     "metadata": {
      "needs_background": "light"
     },
     "output_type": "display_data"
    }
   ],
   "source": [
    "plot_confusion_matrix(e_clf, x_test, y_test)"
   ]
  },
  {
   "cell_type": "markdown",
   "metadata": {},
   "source": [
    "## Random Forest without the color column"
   ]
  },
  {
   "cell_type": "code",
   "execution_count": 32,
   "metadata": {},
   "outputs": [],
   "source": [
    "#rerunning random forest without certain varables \n",
    "#creating new train and test sets\n",
    "#removing color improves the model the most\n",
    "c = df.columns[df.columns.str.startswith(( 'breed','gender', 'intake_cond_', 'intake_type_'))].to_list()\n",
    "columns=['age_upon_outcome_(years)']+ c \n",
    "columns\n",
    "x2_df = df[columns]\n",
    "\n",
    "x2 = x2_df\n",
    "y2 = df[['time_in_shelter_binned']]\n",
    "\n",
    "\n",
    "x2_train, x2_test, y2_train, y2_test = train_test_split(x2, y2, test_size =.3, random_state=42)"
   ]
  },
  {
   "cell_type": "code",
   "execution_count": 33,
   "metadata": {},
   "outputs": [
    {
     "data": {
      "text/plain": [
       "0.4436810326879034"
      ]
     },
     "execution_count": 33,
     "metadata": {},
     "output_type": "execute_result"
    }
   ],
   "source": [
    "e_clf2 = RandomForestClassifier(criterion = 'entropy', random_state=1) #entropy performs slightly better\n",
    "e_clf2 = e_clf2.fit(x2_train, y2_train)\n",
    "\n",
    "y2_pred = e_clf2.predict(x2_test)\n",
    "metrics.accuracy_score(y2_test, y2_pred)\n"
   ]
  },
  {
   "cell_type": "code",
   "execution_count": 34,
   "metadata": {
    "scrolled": true
   },
   "outputs": [
    {
     "data": {
      "text/plain": [
       "<sklearn.metrics._plot.confusion_matrix.ConfusionMatrixDisplay at 0x7f499b9a8430>"
      ]
     },
     "execution_count": 34,
     "metadata": {},
     "output_type": "execute_result"
    },
    {
     "data": {
      "image/png": "[encoded data removed]",
      "text/plain": [
       "<Figure size 432x288 with 2 Axes>"
      ]
     },
     "metadata": {
      "needs_background": "light"
     },
     "output_type": "display_data"
    }
   ],
   "source": [
    "plot_confusion_matrix(e_clf2, x2_test, y2_test)"
   ]
  },
  {
   "cell_type": "markdown",
   "metadata": {},
   "source": [
    "### Hyperparameter tuning and running"
   ]
  },
  {
   "cell_type": "code",
   "execution_count": 41,
   "metadata": {},
   "outputs": [],
   "source": [
    "param_grid = {'n_estimators':np.arange(1,100), \n",
    "              'max_features' : ['auto', 'sqrt'],\n",
    "              'max_depth' : np.arange(1,8),\n",
    "              'criterion' : ['gini', 'entropy'],\n",
    "              'bootstrap' : [True, False]}\n",
    "\n",
    "rf_clf = RandomForestClassifier(random_state=1)\n",
    "\n",
    "rf_grid = GridSearchCV(estimator=rf_clf, param_grid=param_grid, cv=5)"
   ]
  },
  {
   "cell_type": "code",
   "execution_count": 42,
   "metadata": {},
   "outputs": [
    {
     "data": {
      "text/plain": [
       "{'bootstrap': True,\n",
       " 'criterion': 'gini',\n",
       " 'max_depth': 7,\n",
       " 'max_features': 'auto',\n",
       " 'n_estimators': 56}"
      ]
     },
     "execution_count": 42,
     "metadata": {},
     "output_type": "execute_result"
    }
   ],
   "source": [
    "rf_grid.fit(x_train, y_train)\n",
    "\n",
    "rf_grid.best_params_\n"
   ]
  },
  {
   "cell_type": "code",
   "execution_count": 43,
   "metadata": {},
   "outputs": [
    {
     "name": "stdout",
     "output_type": "stream",
     "text": [
      "train:  0.45827755466309683\n",
      "test : 0.44034978138663333\n"
     ]
    }
   ],
   "source": [
    "print('train: ' , rf_grid.score(x_train, y_train))\n",
    "print('test :', rf_grid.score(x_test, y_test))"
   ]
  },
  {
   "cell_type": "code",
   "execution_count": 44,
   "metadata": {},
   "outputs": [
    {
     "data": {
      "text/plain": [
       "0.41994586716635435"
      ]
     },
     "execution_count": 44,
     "metadata": {},
     "output_type": "execute_result"
    }
   ],
   "source": [
    "#RF with tuned hyperparameters and all columns\n",
    "clf = RandomForestClassifier(criterion='entropy', random_state=1, max_depth=6, n_estimators=32, bootstrap=True, max_features='auto')\n",
    "\n",
    "clf.fit(x_train, y_train)\n",
    "y_pred = clf.predict(x_test)\n",
    "\n",
    "metrics.accuracy_score(y_test, y_pred)\n"
   ]
  },
  {
   "cell_type": "code",
   "execution_count": 45,
   "metadata": {},
   "outputs": [
    {
     "data": {
      "text/plain": [
       "<sklearn.metrics._plot.confusion_matrix.ConfusionMatrixDisplay at 0x7f49989f3250>"
      ]
     },
     "execution_count": 45,
     "metadata": {},
     "output_type": "execute_result"
    },
    {
     "data": {
      "image/png": "[encoded data removed]",
      "text/plain": [
       "<Figure size 432x288 with 2 Axes>"
      ]
     },
     "metadata": {
      "needs_background": "light"
     },
     "output_type": "display_data"
    }
   ],
   "source": [
    "plot_confusion_matrix(clf, x_test, y_test)"
   ]
  },
  {
   "cell_type": "markdown",
   "metadata": {},
   "source": [
    "This doesn't look great. It's mostly predicting less than four days "
   ]
  },
  {
   "cell_type": "code",
   "execution_count": null,
   "metadata": {},
   "outputs": [],
   "source": []
  },
  {
   "cell_type": "markdown",
   "metadata": {},
   "source": [
    "### RF with non dummy variables"
   ]
  },
  {
   "cell_type": "code",
   "execution_count": null,
   "metadata": {},
   "outputs": [],
   "source": []
  },
  {
   "cell_type": "code",
   "execution_count": 46,
   "metadata": {},
   "outputs": [],
   "source": [
    "#running with encoded, non dummied variables\n",
    "\n",
    "col = ['age_upon_outcome_(years)','intake_cond_int', 'intake_type_int', 'sex_upon_outcome_int', 'new_breed_int',\n",
    "       'new_color_int']\n",
    "x3_df = df[col]\n",
    "\n",
    "x3 = x3_df\n",
    "y3 = df[['time_in_shelter_binned']]\n",
    "\n",
    "\n",
    "x3_train, x3_test, y3_train, y3_test = train_test_split(x3, y3, test_size =.3, random_state=42)"
   ]
  },
  {
   "cell_type": "code",
   "execution_count": 47,
   "metadata": {},
   "outputs": [
    {
     "data": {
      "text/plain": [
       "0.4243181344992713"
      ]
     },
     "execution_count": 47,
     "metadata": {},
     "output_type": "execute_result"
    }
   ],
   "source": [
    "e_clf3 = RandomForestClassifier(criterion='gini', random_state=1)\n",
    "e_clf3 = e_clf3.fit(x3_train, y3_train)\n",
    "\n",
    "y3_pred = e_clf3.predict(x3_test)\n",
    "metrics.accuracy_score(y3_test, y3_pred)\n"
   ]
  },
  {
   "cell_type": "code",
   "execution_count": 48,
   "metadata": {
    "scrolled": true
   },
   "outputs": [
    {
     "data": {
      "text/plain": [
       "<sklearn.metrics._plot.confusion_matrix.ConfusionMatrixDisplay at 0x7f499a0ce520>"
      ]
     },
     "execution_count": 48,
     "metadata": {},
     "output_type": "execute_result"
    },
    {
     "data": {
      "image/png": "[encoded data removed]",
      "text/plain": [
       "<Figure size 432x288 with 2 Axes>"
      ]
     },
     "metadata": {
      "needs_background": "light"
     },
     "output_type": "display_data"
    }
   ],
   "source": [
    "plot_confusion_matrix(e_clf3, x3_test, y3_test)"
   ]
  },
  {
   "cell_type": "markdown",
   "metadata": {},
   "source": [
    "The non-dummy variables seems to even out the confusion matrix a bit. There are fewer dogs predicted to be at the shelter under 4 days."
   ]
  },
  {
   "cell_type": "markdown",
   "metadata": {},
   "source": [
    "### Logistic Regression"
   ]
  },
  {
   "cell_type": "code",
   "execution_count": 49,
   "metadata": {},
   "outputs": [
    {
     "name": "stdout",
     "output_type": "stream",
     "text": [
      "(16008, 58) (16008, 1)\n"
     ]
    }
   ],
   "source": [
    "#encoding categories for logistic regression\n",
    "from sklearn import preprocessing\n",
    "le = preprocessing.LabelEncoder()\n",
    "\n",
    "x = x_df\n",
    "y = df[['time_in_shelter_binned']]\n",
    "y = le.fit_transform(y).reshape(-1, 1)\n",
    "print(x.shape, y.shape)\n",
    "\n",
    "x_train, x_test, y_train, y_test = train_test_split(x, y, test_size =.3, random_state=1) #resplit with encoded y"
   ]
  },
  {
   "cell_type": "code",
   "execution_count": 50,
   "metadata": {},
   "outputs": [
    {
     "name": "stderr",
     "output_type": "stream",
     "text": [
      "/home/amanda/anaconda3/lib/python3.8/site-packages/sklearn/linear_model/_logistic.py:762: ConvergenceWarning: lbfgs failed to converge (status=1):\n",
      "STOP: TOTAL NO. of ITERATIONS REACHED LIMIT.\n",
      "\n",
      "Increase the number of iterations (max_iter) or scale the data as shown in:\n",
      "    https://scikit-learn.org/stable/modules/preprocessing.html\n",
      "Please also refer to the documentation for alternative solver options:\n",
      "    https://scikit-learn.org/stable/modules/linear_model.html#logistic-regression\n",
      "  n_iter_i = _check_optimize_result(\n"
     ]
    },
    {
     "data": {
      "text/plain": [
       "0.43576931084738707"
      ]
     },
     "execution_count": 50,
     "metadata": {},
     "output_type": "execute_result"
    }
   ],
   "source": [
    "from sklearn.linear_model import LogisticRegression\n",
    "lg = LogisticRegression(random_state=1, multi_class='multinomial')\n",
    "lg = lg.fit(x_train, y_train)\n",
    "\n",
    "y_pred = lg.predict(x_test)\n",
    "lg.score(x_test, y_test)"
   ]
  },
  {
   "cell_type": "code",
   "execution_count": 51,
   "metadata": {},
   "outputs": [
    {
     "data": {
      "text/plain": [
       "<sklearn.metrics._plot.confusion_matrix.ConfusionMatrixDisplay at 0x7f499bc3edc0>"
      ]
     },
     "execution_count": 51,
     "metadata": {},
     "output_type": "execute_result"
    },
    {
     "data": {
      "image/png": "[encoded data removed]",
      "text/plain": [
       "<Figure size 432x288 with 2 Axes>"
      ]
     },
     "metadata": {
      "needs_background": "light"
     },
     "output_type": "display_data"
    }
   ],
   "source": [
    "plot_confusion_matrix(lg, x_test, y_test)"
   ]
  },
  {
   "cell_type": "markdown",
   "metadata": {},
   "source": [
    "## Conclusions\n",
    "Random forest exluding color seems to produce the most accurate and balanced model (the model isn't just guessing <4 for most dogs). Hyperparameter tuning did increase the accuracy score, but created a more unbalanced confusion matrix. Overall KNN performed slightly worse than random forest no matter which features were included, and logistic regression was compareable to rf, but still very unbalanced. "
   ]
  }
 ],
 "metadata": {
  "kernelspec": {
   "display_name": "Python 3",
   "language": "python",
   "name": "python3"
  },
  "language_info": {
   "codemirror_mode": {
    "name": "ipython",
    "version": 3
   },
   "file_extension": ".py",
   "mimetype": "text/x-python",
   "name": "python",
   "nbconvert_exporter": "python",
   "pygments_lexer": "ipython3",
   "version": "3.8.3"
  }
 },
 "nbformat": 4,
 "nbformat_minor": 4
}
