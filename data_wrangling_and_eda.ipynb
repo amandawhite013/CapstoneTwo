{
 "cells": [
  {
   "cell_type": "code",
   "execution_count": 1,
   "metadata": {},
   "outputs": [],
   "source": [
    "# https://www.kaggle.com/aaronschlegel/austin-animal-center-shelter-outcomes-and"
   ]
  },
  {
   "cell_type": "code",
   "execution_count": 2,
   "metadata": {},
   "outputs": [],
   "source": [
    "import pandas as pd\n",
    "import datetime\n",
    "import seaborn as sns\n",
    "import matplotlib.pyplot as plt"
   ]
  },
  {
   "cell_type": "code",
   "execution_count": 3,
   "metadata": {},
   "outputs": [],
   "source": [
    "#Only using data from one large shelter so that adoption policies and strategies are the same \n",
    "austin_raw_data = pd.read_csv('raw_data/aac_intakes_outcomes.csv')"
   ]
  },
  {
   "cell_type": "markdown",
   "metadata": {},
   "source": [
    "# 1. Selecting columns and dogs as animal type"
   ]
  },
  {
   "cell_type": "code",
   "execution_count": 4,
   "metadata": {
    "scrolled": false
   },
   "outputs": [
    {
     "data": {
      "text/plain": [
       "Index(['age_upon_outcome', 'animal_id_outcome', 'date_of_birth',\n",
       "       'outcome_subtype', 'outcome_type', 'sex_upon_outcome',\n",
       "       'age_upon_outcome_(days)', 'age_upon_outcome_(years)',\n",
       "       'age_upon_outcome_age_group', 'outcome_datetime', 'outcome_month',\n",
       "       'outcome_year', 'outcome_monthyear', 'outcome_weekday', 'outcome_hour',\n",
       "       'outcome_number', 'dob_year', 'dob_month', 'dob_monthyear',\n",
       "       'age_upon_intake', 'animal_id_intake', 'animal_type', 'breed', 'color',\n",
       "       'found_location', 'intake_condition', 'intake_type', 'sex_upon_intake',\n",
       "       'count', 'age_upon_intake_(days)', 'age_upon_intake_(years)',\n",
       "       'age_upon_intake_age_group', 'intake_datetime', 'intake_month',\n",
       "       'intake_year', 'intake_monthyear', 'intake_weekday', 'intake_hour',\n",
       "       'intake_number', 'time_in_shelter', 'time_in_shelter_days'],\n",
       "      dtype='object')"
      ]
     },
     "execution_count": 4,
     "metadata": {},
     "output_type": "execute_result"
    }
   ],
   "source": [
    "austin_raw_data.columns"
   ]
  },
  {
   "cell_type": "code",
   "execution_count": null,
   "metadata": {},
   "outputs": [],
   "source": []
  },
  {
   "cell_type": "code",
   "execution_count": 5,
   "metadata": {},
   "outputs": [
    {
     "data": {
      "text/plain": [
       "array(['Dog', 'Cat', 'Other', 'Bird'], dtype=object)"
      ]
     },
     "execution_count": 5,
     "metadata": {},
     "output_type": "execute_result"
    }
   ],
   "source": [
    "#how many animal types are included?\n",
    "austin_raw_data['animal_type'].unique()"
   ]
  },
  {
   "cell_type": "code",
   "execution_count": 6,
   "metadata": {},
   "outputs": [
    {
     "data": {
      "text/html": [
       "<div>\n",
       "<style scoped>\n",
       "    .dataframe tbody tr th:only-of-type {\n",
       "        vertical-align: middle;\n",
       "    }\n",
       "\n",
       "    .dataframe tbody tr th {\n",
       "        vertical-align: top;\n",
       "    }\n",
       "\n",
       "    .dataframe thead th {\n",
       "        text-align: right;\n",
       "    }\n",
       "</style>\n",
       "<table border=\"1\" class=\"dataframe\">\n",
       "  <thead>\n",
       "    <tr style=\"text-align: right;\">\n",
       "      <th></th>\n",
       "      <th>age_upon_outcome</th>\n",
       "      <th>animal_id_outcome</th>\n",
       "      <th>date_of_birth</th>\n",
       "      <th>outcome_subtype</th>\n",
       "      <th>outcome_type</th>\n",
       "      <th>sex_upon_outcome</th>\n",
       "      <th>age_upon_outcome_(days)</th>\n",
       "      <th>age_upon_outcome_(years)</th>\n",
       "      <th>age_upon_outcome_age_group</th>\n",
       "      <th>outcome_datetime</th>\n",
       "      <th>...</th>\n",
       "      <th>age_upon_intake_age_group</th>\n",
       "      <th>intake_datetime</th>\n",
       "      <th>intake_month</th>\n",
       "      <th>intake_year</th>\n",
       "      <th>intake_monthyear</th>\n",
       "      <th>intake_weekday</th>\n",
       "      <th>intake_hour</th>\n",
       "      <th>intake_number</th>\n",
       "      <th>time_in_shelter</th>\n",
       "      <th>time_in_shelter_days</th>\n",
       "    </tr>\n",
       "  </thead>\n",
       "  <tbody>\n",
       "    <tr>\n",
       "      <th>0</th>\n",
       "      <td>10 years</td>\n",
       "      <td>A006100</td>\n",
       "      <td>2007-07-09 00:00:00</td>\n",
       "      <td>NaN</td>\n",
       "      <td>Return to Owner</td>\n",
       "      <td>Neutered Male</td>\n",
       "      <td>3650</td>\n",
       "      <td>10.0</td>\n",
       "      <td>(7.5, 10.0]</td>\n",
       "      <td>2017-12-07 14:07:00</td>\n",
       "      <td>...</td>\n",
       "      <td>(7.5, 10.0]</td>\n",
       "      <td>2017-12-07 00:00:00</td>\n",
       "      <td>12</td>\n",
       "      <td>2017</td>\n",
       "      <td>2017-12</td>\n",
       "      <td>Thursday</td>\n",
       "      <td>14</td>\n",
       "      <td>1.0</td>\n",
       "      <td>0 days 14:07:00.000000000</td>\n",
       "      <td>0.588194</td>\n",
       "    </tr>\n",
       "    <tr>\n",
       "      <th>1</th>\n",
       "      <td>7 years</td>\n",
       "      <td>A006100</td>\n",
       "      <td>2007-07-09 00:00:00</td>\n",
       "      <td>NaN</td>\n",
       "      <td>Return to Owner</td>\n",
       "      <td>Neutered Male</td>\n",
       "      <td>2555</td>\n",
       "      <td>7.0</td>\n",
       "      <td>(5.0, 7.5]</td>\n",
       "      <td>2014-12-20 16:35:00</td>\n",
       "      <td>...</td>\n",
       "      <td>(5.0, 7.5]</td>\n",
       "      <td>2014-12-19 10:21:00</td>\n",
       "      <td>12</td>\n",
       "      <td>2014</td>\n",
       "      <td>2014-12</td>\n",
       "      <td>Friday</td>\n",
       "      <td>10</td>\n",
       "      <td>2.0</td>\n",
       "      <td>1 days 06:14:00.000000000</td>\n",
       "      <td>1.259722</td>\n",
       "    </tr>\n",
       "    <tr>\n",
       "      <th>2</th>\n",
       "      <td>6 years</td>\n",
       "      <td>A006100</td>\n",
       "      <td>2007-07-09 00:00:00</td>\n",
       "      <td>NaN</td>\n",
       "      <td>Return to Owner</td>\n",
       "      <td>Neutered Male</td>\n",
       "      <td>2190</td>\n",
       "      <td>6.0</td>\n",
       "      <td>(5.0, 7.5]</td>\n",
       "      <td>2014-03-08 17:10:00</td>\n",
       "      <td>...</td>\n",
       "      <td>(5.0, 7.5]</td>\n",
       "      <td>2014-03-07 14:26:00</td>\n",
       "      <td>3</td>\n",
       "      <td>2014</td>\n",
       "      <td>2014-03</td>\n",
       "      <td>Friday</td>\n",
       "      <td>14</td>\n",
       "      <td>3.0</td>\n",
       "      <td>1 days 02:44:00.000000000</td>\n",
       "      <td>1.113889</td>\n",
       "    </tr>\n",
       "    <tr>\n",
       "      <th>3</th>\n",
       "      <td>10 years</td>\n",
       "      <td>A047759</td>\n",
       "      <td>2004-04-02 00:00:00</td>\n",
       "      <td>Partner</td>\n",
       "      <td>Transfer</td>\n",
       "      <td>Neutered Male</td>\n",
       "      <td>3650</td>\n",
       "      <td>10.0</td>\n",
       "      <td>(7.5, 10.0]</td>\n",
       "      <td>2014-04-07 15:12:00</td>\n",
       "      <td>...</td>\n",
       "      <td>(7.5, 10.0]</td>\n",
       "      <td>2014-04-02 15:55:00</td>\n",
       "      <td>4</td>\n",
       "      <td>2014</td>\n",
       "      <td>2014-04</td>\n",
       "      <td>Wednesday</td>\n",
       "      <td>15</td>\n",
       "      <td>1.0</td>\n",
       "      <td>4 days 23:17:00.000000000</td>\n",
       "      <td>4.970139</td>\n",
       "    </tr>\n",
       "    <tr>\n",
       "      <th>4</th>\n",
       "      <td>16 years</td>\n",
       "      <td>A134067</td>\n",
       "      <td>1997-10-16 00:00:00</td>\n",
       "      <td>NaN</td>\n",
       "      <td>Return to Owner</td>\n",
       "      <td>Neutered Male</td>\n",
       "      <td>5840</td>\n",
       "      <td>16.0</td>\n",
       "      <td>(15.0, 17.5]</td>\n",
       "      <td>2013-11-16 11:54:00</td>\n",
       "      <td>...</td>\n",
       "      <td>(15.0, 17.5]</td>\n",
       "      <td>2013-11-16 09:02:00</td>\n",
       "      <td>11</td>\n",
       "      <td>2013</td>\n",
       "      <td>2013-11</td>\n",
       "      <td>Saturday</td>\n",
       "      <td>9</td>\n",
       "      <td>1.0</td>\n",
       "      <td>0 days 02:52:00.000000000</td>\n",
       "      <td>0.119444</td>\n",
       "    </tr>\n",
       "  </tbody>\n",
       "</table>\n",
       "<p>5 rows × 41 columns</p>\n",
       "</div>"
      ],
      "text/plain": [
       "  age_upon_outcome animal_id_outcome        date_of_birth outcome_subtype  \\\n",
       "0         10 years           A006100  2007-07-09 00:00:00             NaN   \n",
       "1          7 years           A006100  2007-07-09 00:00:00             NaN   \n",
       "2          6 years           A006100  2007-07-09 00:00:00             NaN   \n",
       "3         10 years           A047759  2004-04-02 00:00:00         Partner   \n",
       "4         16 years           A134067  1997-10-16 00:00:00             NaN   \n",
       "\n",
       "      outcome_type sex_upon_outcome  age_upon_outcome_(days)  \\\n",
       "0  Return to Owner    Neutered Male                     3650   \n",
       "1  Return to Owner    Neutered Male                     2555   \n",
       "2  Return to Owner    Neutered Male                     2190   \n",
       "3         Transfer    Neutered Male                     3650   \n",
       "4  Return to Owner    Neutered Male                     5840   \n",
       "\n",
       "   age_upon_outcome_(years) age_upon_outcome_age_group     outcome_datetime  \\\n",
       "0                      10.0                (7.5, 10.0]  2017-12-07 14:07:00   \n",
       "1                       7.0                 (5.0, 7.5]  2014-12-20 16:35:00   \n",
       "2                       6.0                 (5.0, 7.5]  2014-03-08 17:10:00   \n",
       "3                      10.0                (7.5, 10.0]  2014-04-07 15:12:00   \n",
       "4                      16.0               (15.0, 17.5]  2013-11-16 11:54:00   \n",
       "\n",
       "   ...  age_upon_intake_age_group      intake_datetime intake_month  \\\n",
       "0  ...                (7.5, 10.0]  2017-12-07 00:00:00           12   \n",
       "1  ...                 (5.0, 7.5]  2014-12-19 10:21:00           12   \n",
       "2  ...                 (5.0, 7.5]  2014-03-07 14:26:00            3   \n",
       "3  ...                (7.5, 10.0]  2014-04-02 15:55:00            4   \n",
       "4  ...               (15.0, 17.5]  2013-11-16 09:02:00           11   \n",
       "\n",
       "  intake_year  intake_monthyear  intake_weekday  intake_hour  intake_number  \\\n",
       "0        2017           2017-12        Thursday           14            1.0   \n",
       "1        2014           2014-12          Friday           10            2.0   \n",
       "2        2014           2014-03          Friday           14            3.0   \n",
       "3        2014           2014-04       Wednesday           15            1.0   \n",
       "4        2013           2013-11        Saturday            9            1.0   \n",
       "\n",
       "             time_in_shelter time_in_shelter_days  \n",
       "0  0 days 14:07:00.000000000             0.588194  \n",
       "1  1 days 06:14:00.000000000             1.259722  \n",
       "2  1 days 02:44:00.000000000             1.113889  \n",
       "3  4 days 23:17:00.000000000             4.970139  \n",
       "4  0 days 02:52:00.000000000             0.119444  \n",
       "\n",
       "[5 rows x 41 columns]"
      ]
     },
     "execution_count": 6,
     "metadata": {},
     "output_type": "execute_result"
    }
   ],
   "source": [
    "#only select dogs\n",
    "austin_data = austin_raw_data[austin_raw_data['animal_type'] == 'Dog']\n",
    "austin_data.head()"
   ]
  },
  {
   "cell_type": "code",
   "execution_count": 7,
   "metadata": {},
   "outputs": [
    {
     "data": {
      "text/plain": [
       "array(['Dog'], dtype=object)"
      ]
     },
     "execution_count": 7,
     "metadata": {},
     "output_type": "execute_result"
    }
   ],
   "source": [
    "austin_data['animal_type'].unique()"
   ]
  },
  {
   "cell_type": "code",
   "execution_count": 8,
   "metadata": {},
   "outputs": [],
   "source": [
    "#drop redundant, irrelevant or columns missing many values (outcome_subtype)\n",
    "new_columns = ['outcome_type', 'animal_id_intake', 'age_upon_outcome_(years)','outcome_datetime','outcome_monthyear',  'animal_type', 'breed', 'color',\n",
    "       'intake_condition', 'intake_type', 'sex_upon_outcome', 'age_upon_intake_(years)','intake_datetime', 'intake_monthyear',\n",
    "       'time_in_shelter_days'] "
   ]
  },
  {
   "cell_type": "code",
   "execution_count": 9,
   "metadata": {},
   "outputs": [
    {
     "data": {
      "text/html": [
       "<div>\n",
       "<style scoped>\n",
       "    .dataframe tbody tr th:only-of-type {\n",
       "        vertical-align: middle;\n",
       "    }\n",
       "\n",
       "    .dataframe tbody tr th {\n",
       "        vertical-align: top;\n",
       "    }\n",
       "\n",
       "    .dataframe thead th {\n",
       "        text-align: right;\n",
       "    }\n",
       "</style>\n",
       "<table border=\"1\" class=\"dataframe\">\n",
       "  <thead>\n",
       "    <tr style=\"text-align: right;\">\n",
       "      <th></th>\n",
       "      <th>outcome_type</th>\n",
       "      <th>animal_id_intake</th>\n",
       "      <th>age_upon_outcome_(years)</th>\n",
       "      <th>outcome_datetime</th>\n",
       "      <th>outcome_monthyear</th>\n",
       "      <th>animal_type</th>\n",
       "      <th>breed</th>\n",
       "      <th>color</th>\n",
       "      <th>intake_condition</th>\n",
       "      <th>intake_type</th>\n",
       "      <th>sex_upon_outcome</th>\n",
       "      <th>age_upon_intake_(years)</th>\n",
       "      <th>intake_datetime</th>\n",
       "      <th>intake_monthyear</th>\n",
       "      <th>time_in_shelter_days</th>\n",
       "    </tr>\n",
       "  </thead>\n",
       "  <tbody>\n",
       "    <tr>\n",
       "      <th>0</th>\n",
       "      <td>Return to Owner</td>\n",
       "      <td>A006100</td>\n",
       "      <td>10.0</td>\n",
       "      <td>2017-12-07 14:07:00</td>\n",
       "      <td>2017-12</td>\n",
       "      <td>Dog</td>\n",
       "      <td>Spinone Italiano Mix</td>\n",
       "      <td>Yellow/White</td>\n",
       "      <td>Normal</td>\n",
       "      <td>Stray</td>\n",
       "      <td>Neutered Male</td>\n",
       "      <td>10.0</td>\n",
       "      <td>2017-12-07 00:00:00</td>\n",
       "      <td>2017-12</td>\n",
       "      <td>0.588194</td>\n",
       "    </tr>\n",
       "    <tr>\n",
       "      <th>1</th>\n",
       "      <td>Return to Owner</td>\n",
       "      <td>A006100</td>\n",
       "      <td>7.0</td>\n",
       "      <td>2014-12-20 16:35:00</td>\n",
       "      <td>2014-12</td>\n",
       "      <td>Dog</td>\n",
       "      <td>Spinone Italiano Mix</td>\n",
       "      <td>Yellow/White</td>\n",
       "      <td>Normal</td>\n",
       "      <td>Public Assist</td>\n",
       "      <td>Neutered Male</td>\n",
       "      <td>7.0</td>\n",
       "      <td>2014-12-19 10:21:00</td>\n",
       "      <td>2014-12</td>\n",
       "      <td>1.259722</td>\n",
       "    </tr>\n",
       "    <tr>\n",
       "      <th>2</th>\n",
       "      <td>Return to Owner</td>\n",
       "      <td>A006100</td>\n",
       "      <td>6.0</td>\n",
       "      <td>2014-03-08 17:10:00</td>\n",
       "      <td>2014-03</td>\n",
       "      <td>Dog</td>\n",
       "      <td>Spinone Italiano Mix</td>\n",
       "      <td>Yellow/White</td>\n",
       "      <td>Normal</td>\n",
       "      <td>Public Assist</td>\n",
       "      <td>Neutered Male</td>\n",
       "      <td>6.0</td>\n",
       "      <td>2014-03-07 14:26:00</td>\n",
       "      <td>2014-03</td>\n",
       "      <td>1.113889</td>\n",
       "    </tr>\n",
       "    <tr>\n",
       "      <th>3</th>\n",
       "      <td>Transfer</td>\n",
       "      <td>A047759</td>\n",
       "      <td>10.0</td>\n",
       "      <td>2014-04-07 15:12:00</td>\n",
       "      <td>2014-04</td>\n",
       "      <td>Dog</td>\n",
       "      <td>Dachshund</td>\n",
       "      <td>Tricolor</td>\n",
       "      <td>Normal</td>\n",
       "      <td>Owner Surrender</td>\n",
       "      <td>Neutered Male</td>\n",
       "      <td>10.0</td>\n",
       "      <td>2014-04-02 15:55:00</td>\n",
       "      <td>2014-04</td>\n",
       "      <td>4.970139</td>\n",
       "    </tr>\n",
       "    <tr>\n",
       "      <th>4</th>\n",
       "      <td>Return to Owner</td>\n",
       "      <td>A134067</td>\n",
       "      <td>16.0</td>\n",
       "      <td>2013-11-16 11:54:00</td>\n",
       "      <td>2013-11</td>\n",
       "      <td>Dog</td>\n",
       "      <td>Shetland Sheepdog</td>\n",
       "      <td>Brown/White</td>\n",
       "      <td>Injured</td>\n",
       "      <td>Public Assist</td>\n",
       "      <td>Neutered Male</td>\n",
       "      <td>16.0</td>\n",
       "      <td>2013-11-16 09:02:00</td>\n",
       "      <td>2013-11</td>\n",
       "      <td>0.119444</td>\n",
       "    </tr>\n",
       "  </tbody>\n",
       "</table>\n",
       "</div>"
      ],
      "text/plain": [
       "      outcome_type animal_id_intake  age_upon_outcome_(years)  \\\n",
       "0  Return to Owner          A006100                      10.0   \n",
       "1  Return to Owner          A006100                       7.0   \n",
       "2  Return to Owner          A006100                       6.0   \n",
       "3         Transfer          A047759                      10.0   \n",
       "4  Return to Owner          A134067                      16.0   \n",
       "\n",
       "      outcome_datetime outcome_monthyear animal_type                 breed  \\\n",
       "0  2017-12-07 14:07:00           2017-12         Dog  Spinone Italiano Mix   \n",
       "1  2014-12-20 16:35:00           2014-12         Dog  Spinone Italiano Mix   \n",
       "2  2014-03-08 17:10:00           2014-03         Dog  Spinone Italiano Mix   \n",
       "3  2014-04-07 15:12:00           2014-04         Dog             Dachshund   \n",
       "4  2013-11-16 11:54:00           2013-11         Dog     Shetland Sheepdog   \n",
       "\n",
       "          color intake_condition      intake_type sex_upon_outcome  \\\n",
       "0  Yellow/White           Normal            Stray    Neutered Male   \n",
       "1  Yellow/White           Normal    Public Assist    Neutered Male   \n",
       "2  Yellow/White           Normal    Public Assist    Neutered Male   \n",
       "3      Tricolor           Normal  Owner Surrender    Neutered Male   \n",
       "4   Brown/White          Injured    Public Assist    Neutered Male   \n",
       "\n",
       "   age_upon_intake_(years)      intake_datetime intake_monthyear  \\\n",
       "0                     10.0  2017-12-07 00:00:00          2017-12   \n",
       "1                      7.0  2014-12-19 10:21:00          2014-12   \n",
       "2                      6.0  2014-03-07 14:26:00          2014-03   \n",
       "3                     10.0  2014-04-02 15:55:00          2014-04   \n",
       "4                     16.0  2013-11-16 09:02:00          2013-11   \n",
       "\n",
       "   time_in_shelter_days  \n",
       "0              0.588194  \n",
       "1              1.259722  \n",
       "2              1.113889  \n",
       "3              4.970139  \n",
       "4              0.119444  "
      ]
     },
     "execution_count": 9,
     "metadata": {},
     "output_type": "execute_result"
    }
   ],
   "source": [
    "austin_data = austin_data.loc[:, new_columns]\n",
    "austin_data.head()"
   ]
  },
  {
   "cell_type": "code",
   "execution_count": 10,
   "metadata": {},
   "outputs": [
    {
     "data": {
      "text/plain": [
       "(45366, 15)"
      ]
     },
     "execution_count": 10,
     "metadata": {},
     "output_type": "execute_result"
    }
   ],
   "source": [
    "austin_data.shape"
   ]
  },
  {
   "cell_type": "markdown",
   "metadata": {},
   "source": [
    "# 2. Null values, data types, and value counts"
   ]
  },
  {
   "cell_type": "code",
   "execution_count": 11,
   "metadata": {},
   "outputs": [
    {
     "data": {
      "text/plain": [
       "outcome_type                 object\n",
       "animal_id_intake             object\n",
       "age_upon_outcome_(years)    float64\n",
       "outcome_datetime             object\n",
       "outcome_monthyear            object\n",
       "animal_type                  object\n",
       "breed                        object\n",
       "color                        object\n",
       "intake_condition             object\n",
       "intake_type                  object\n",
       "sex_upon_outcome             object\n",
       "age_upon_intake_(years)     float64\n",
       "intake_datetime              object\n",
       "intake_monthyear             object\n",
       "time_in_shelter_days        float64\n",
       "dtype: object"
      ]
     },
     "execution_count": 11,
     "metadata": {},
     "output_type": "execute_result"
    }
   ],
   "source": [
    "austin_data.dtypes"
   ]
  },
  {
   "cell_type": "code",
   "execution_count": 12,
   "metadata": {},
   "outputs": [
    {
     "data": {
      "text/plain": [
       "array([1.00000000e+01, 7.00000000e+00, 6.00000000e+00, 1.60000000e+01,\n",
       "       1.50000000e+01, 1.80000000e+01, 1.40000000e+01, 1.70000000e+01,\n",
       "       1.30000000e+01, 1.20000000e+01, 1.10000000e+01, 9.00000000e+00,\n",
       "       8.00000000e+00, 3.00000000e+00, 1.90000000e+01, 5.00000000e+00,\n",
       "       2.00000000e+01, 4.00000000e+00, 1.00000000e+00, 9.04109589e-01,\n",
       "       8.21917808e-01, 2.00000000e+00, 7.39726027e-01, 5.75342466e-01,\n",
       "       6.57534247e-01, 4.10958904e-01, 4.93150685e-01, 3.28767123e-01,\n",
       "       1.64383562e-01, 2.46575342e-01, 8.21917808e-02, 7.67123288e-02,\n",
       "       1.91780822e-02, 0.00000000e+00, 9.58904110e-02, 5.47945205e-03,\n",
       "       3.83561644e-02, 2.73972603e-03, 1.36986301e-02, 1.64383562e-02,\n",
       "       5.75342466e-02, 1.09589041e-02, 8.21917808e-03])"
      ]
     },
     "execution_count": 12,
     "metadata": {},
     "output_type": "execute_result"
    }
   ],
   "source": [
    "austin_data['age_upon_outcome_(years)'].unique()"
   ]
  },
  {
   "cell_type": "code",
   "execution_count": 13,
   "metadata": {},
   "outputs": [],
   "source": [
    "#rounding age columns\n",
    "austin_data.loc[:,['age_upon_outcome_(years)', 'age_upon_intake_(years)']] = austin_data.loc[:,['age_upon_outcome_(years)', 'age_upon_intake_(years)']].round(1)"
   ]
  },
  {
   "cell_type": "code",
   "execution_count": 14,
   "metadata": {},
   "outputs": [
    {
     "data": {
      "text/plain": [
       "array([10. ,  7. ,  6. , 16. , 15. , 18. , 14. , 17. , 13. , 12. , 11. ,\n",
       "        9. ,  8. ,  3. , 19. ,  5. , 20. ,  4. ,  1. ,  0.9,  0.8,  2. ,\n",
       "        0.7,  0.6,  0.4,  0.5,  0.3,  0.2,  0.1,  0. ])"
      ]
     },
     "execution_count": 14,
     "metadata": {},
     "output_type": "execute_result"
    }
   ],
   "source": [
    "austin_data['age_upon_outcome_(years)'].unique()"
   ]
  },
  {
   "cell_type": "code",
   "execution_count": 15,
   "metadata": {},
   "outputs": [],
   "source": [
    "#changing age to int\n",
    "#austin_data[['age_upon_outcome_(years)', 'age_upon_intake_(years)']] = austin_data[['age_upon_outcome_(years)', 'age_upon_intake_(years)']].astype(int)"
   ]
  },
  {
   "cell_type": "code",
   "execution_count": 16,
   "metadata": {
    "scrolled": true
   },
   "outputs": [
    {
     "data": {
      "text/plain": [
       "Adoption           20581\n",
       "Return to Owner    13273\n",
       "Transfer            9697\n",
       "Euthanasia          1502\n",
       "Rto-Adopt            143\n",
       "Died                 142\n",
       "Missing               16\n",
       "Disposal              10\n",
       "Name: outcome_type, dtype: int64"
      ]
     },
     "execution_count": 16,
     "metadata": {},
     "output_type": "execute_result"
    }
   ],
   "source": [
    "austin_data['outcome_type'].value_counts()"
   ]
  },
  {
   "cell_type": "code",
   "execution_count": 17,
   "metadata": {},
   "outputs": [],
   "source": [
    "#dropping everything but adoption to avoid bias\n",
    "austin_data = austin_data[austin_data['outcome_type'] == 'Adoption']"
   ]
  },
  {
   "cell_type": "code",
   "execution_count": 18,
   "metadata": {},
   "outputs": [
    {
     "data": {
      "text/plain": [
       "Index([], dtype='object')"
      ]
     },
     "execution_count": 18,
     "metadata": {},
     "output_type": "execute_result"
    }
   ],
   "source": [
    "#finding null values\n",
    "austin_data.columns[austin_data.isna().any()]"
   ]
  },
  {
   "cell_type": "markdown",
   "metadata": {},
   "source": [
    "# 4. Cleaning and noise reduction"
   ]
  },
  {
   "cell_type": "code",
   "execution_count": 19,
   "metadata": {},
   "outputs": [
    {
     "data": {
      "text/plain": [
       "1377"
      ]
     },
     "execution_count": 19,
     "metadata": {},
     "output_type": "execute_result"
    }
   ],
   "source": [
    "#checking out breed column\n",
    "austin_data['breed'].nunique()"
   ]
  },
  {
   "cell_type": "code",
   "execution_count": 20,
   "metadata": {},
   "outputs": [
    {
     "data": {
      "text/plain": [
       "Labrador Retriever Mix           2368\n",
       "Pit Bull Mix                     2324\n",
       "Chihuahua Shorthair Mix          2270\n",
       "German Shepherd Mix               922\n",
       "Australian Cattle Dog Mix         607\n",
       "Dachshund Mix                     390\n",
       "Border Collie Mix                 352\n",
       "Boxer Mix                         306\n",
       "Miniature Poodle Mix              275\n",
       "Catahoula Mix                     250\n",
       "Australian Shepherd Mix           219\n",
       "Jack Russell Terrier Mix          215\n",
       "Cairn Terrier Mix                 209\n",
       "Staffordshire Mix                 206\n",
       "Rat Terrier Mix                   205\n",
       "Pointer Mix                       197\n",
       "Chihuahua Longhair Mix            188\n",
       "Siberian Husky Mix                187\n",
       "Yorkshire Terrier Mix             182\n",
       "Beagle Mix                        173\n",
       "Miniature Schnauzer Mix           172\n",
       "Black Mouth Cur Mix               154\n",
       "Anatol Shepherd Mix               146\n",
       "Australian Kelpie Mix             141\n",
       "Great Pyrenees Mix                139\n",
       "Chihuahua Shorthair/Dachshund     137\n",
       "American Bulldog Mix              133\n",
       "Plott Hound Mix                   133\n",
       "Rottweiler Mix                    125\n",
       "Dachshund/Chihuahua Shorthair     106\n",
       "Name: breed, dtype: int64"
      ]
     },
     "execution_count": 20,
     "metadata": {},
     "output_type": "execute_result"
    }
   ],
   "source": [
    "#the majority are followed by 'mix' \n",
    "austin_data['breed'].value_counts().head(30)"
   ]
  },
  {
   "cell_type": "code",
   "execution_count": 21,
   "metadata": {},
   "outputs": [
    {
     "data": {
      "text/plain": [
       "186"
      ]
     },
     "execution_count": 21,
     "metadata": {},
     "output_type": "execute_result"
    }
   ],
   "source": [
    "#taking only the first breed listed \n",
    "austin_data.loc[:,'breed'] = austin_data.loc[:,'breed'].astype(str)\n",
    "austin_data.loc[:,'new_breed'] = austin_data.loc[:,'breed'].str.split(\"/\").str[0]\n",
    "austin_data.loc[:,'new_breed'] = austin_data.loc[:,'new_breed'].str.replace(' Mix', '')\n",
    "austin_data['new_breed'].nunique()"
   ]
  },
  {
   "cell_type": "code",
   "execution_count": 22,
   "metadata": {},
   "outputs": [
    {
     "data": {
      "text/plain": [
       "Labrador Retriever       3095\n",
       "Chihuahua Shorthair      2727\n",
       "Pit Bull                 2516\n",
       "German Shepherd          1229\n",
       "Australian Cattle Dog     785\n",
       "Dachshund                 620\n",
       "Border Collie             493\n",
       "Boxer                     434\n",
       "Miniature Poodle          349\n",
       "Catahoula                 335\n",
       "Name: new_breed, dtype: int64"
      ]
     },
     "execution_count": 22,
     "metadata": {},
     "output_type": "execute_result"
    }
   ],
   "source": [
    "austin_data['new_breed'].value_counts().head(10)"
   ]
  },
  {
   "cell_type": "code",
   "execution_count": 23,
   "metadata": {
    "scrolled": true
   },
   "outputs": [
    {
     "data": {
      "text/plain": [
       "array(['Black/Tan', 'Tan/Black', 'Sable/White', 'Black/Brown', 'Tricolor',\n",
       "       'Black/Brown Brindle', 'Brown', 'Black/White', 'Brown/Black',\n",
       "       'Tan', 'Black', 'Blue', 'Brown/White', 'Red/Black', 'White/Tan',\n",
       "       'White/Brown', 'White/Brown Merle', 'White/Gray',\n",
       "       'Blue Tick/Brown', 'Chocolate', 'White/Tricolor', 'Tan/Buff',\n",
       "       'Red/White', 'Chocolate/White', 'Brown Brindle/White',\n",
       "       'Black Brindle/White', 'Cream/Black', 'White', 'Sable',\n",
       "       'Tan/White', 'Buff', 'Buff/White', 'Gold', 'Black/Tricolor',\n",
       "       'White/Black', 'White/Red Merle', 'Blue/White', 'Gray/Black',\n",
       "       'Brown Brindle', 'White/Chocolate', 'Blue Merle', 'Red',\n",
       "       'Chocolate/Tan', 'Cream/White', 'Brown Brindle/Tan',\n",
       "       'White/Brown Brindle', 'White/Buff', 'Brown/Tan', 'Cream/Yellow',\n",
       "       'Gray/White', 'Gray/Gold', 'Fawn/White', 'Black Tiger/White',\n",
       "       'Red Tick/Red', 'Yellow', 'Brown Merle/White', 'Black Brindle',\n",
       "       'Gray', 'Black Smoke/White', 'Cream', 'Blue Tiger/White',\n",
       "       'Brown/Red Tick', 'Yellow Brindle/White', 'White/Red',\n",
       "       'Blue Merle/Tan', 'Brown/Brown Brindle', 'Gray/Tricolor',\n",
       "       'Apricot', 'White/Apricot', 'Red/Tan', 'Blue Merle/White',\n",
       "       'Silver/Tan', 'Red Merle', 'Gold/Brown', 'Tan/Tan', 'Black/Orange',\n",
       "       'Gray/Cream', 'White/Brown Tiger', 'Fawn', 'Yellow/White',\n",
       "       'Black/Red', 'White/Blue Cream', 'Red/Brown', 'Cream/Gray',\n",
       "       'Red Merle/White', 'Brown Merle', 'Brown/Tricolor', 'Brown/Red',\n",
       "       'Fawn/Black', 'Silver/Black', 'Gold/White', 'Red Tick',\n",
       "       'White/Cream', 'Sable/Tan', 'Sable/Black', 'Black/Black Brindle',\n",
       "       'Tan/Cream', 'Blue Merle/Cream', 'Gray/Tan', 'Chocolate/Tricolor',\n",
       "       'White/Blue', 'White/Red Tick', 'Blue Tick/Black', 'White/Orange',\n",
       "       'Black/Gray', 'Blue Merle/Brown', 'Blue Merle/Black',\n",
       "       'Black/Silver', 'Red Tick/Tan', 'Red Tick/Brown Merle', 'Silver',\n",
       "       'Apricot/White', 'Brown Brindle/Blue Cream', 'Red/Tricolor',\n",
       "       'Red Merle/Black', 'Blue Tick/White', 'Blue Tick',\n",
       "       'Black/Blue Merle', 'Liver/White', 'Gray/Brown', 'Tan/Brown',\n",
       "       'White/Yellow Brindle', 'White/Black Brindle', 'Tan/Gray',\n",
       "       'Sable/Red Merle', 'Blue/Brown Brindle', 'Blue Merle/Tricolor',\n",
       "       'Blue Tick/Tan', 'Black Brindle/Brown', 'Black/Cream', 'Cream/Red',\n",
       "       'White/White', 'Ruddy/Cream', 'White/Silver', 'Red Tick/White',\n",
       "       'Red/Cream', 'Chocolate/Brown', 'Brown/Red Merle', 'Blue/Tricolor',\n",
       "       'Brown Merle/Black', 'Blue/Tan', 'Tricolor/White', 'Tricolor/Tan',\n",
       "       'Black Smoke/Black', 'Buff/Black', 'Black Smoke', 'Brown/Gray',\n",
       "       'Black/Buff', 'Sable/Brown', 'Yellow Brindle', 'Buff/Tan',\n",
       "       'Gold/Yellow', 'Blue Tick/Red Tick', 'Red/Red Merle',\n",
       "       'Red/Red Tick', 'Blue Merle/Red', 'Red Tick/Black', 'Tan/Tricolor',\n",
       "       'Gold/Black', 'Tan/Red', 'Tricolor/Brown', 'Buff/Brown',\n",
       "       'White/Liver', 'Brown/Silver', 'Blue Merle/Red Merle',\n",
       "       'Buff/Yellow', 'Red/Silver', 'Fawn/Brown', 'Red Tick/Brown',\n",
       "       'Fawn/Brown Brindle', 'Chocolate/Brown Brindle', 'White/Pink',\n",
       "       'Chocolate/Red Tick', 'Cream/Red Tick', 'Cream/Tan',\n",
       "       'Chocolate/Cream', 'Black/Blue Tick', 'Fawn/Blue', 'Brown/Cream',\n",
       "       'Tan/Silver', 'Orange/Tan', 'Yellow Brindle/Blue', 'Blue Tick/Red',\n",
       "       'Blue/Black', 'Fawn/Tan', 'Black/Yellow Brindle',\n",
       "       'Brown Brindle/Black', 'Tricolor/Black', 'Blue/Cream', 'Gold/Tan',\n",
       "       'Blue Merle/Blue Merle', 'Chocolate/Black', 'Brown Tiger/White',\n",
       "       'Tricolor/Blue', 'Blue Merle/Brown Brindle', 'Silver/Brown',\n",
       "       'Silver/White', 'Liver Tick', 'Brown Brindle/Brown Brindle',\n",
       "       'Brown Brindle/Red Tick', 'Liver', 'Sable/Red', 'Chocolate/Gold',\n",
       "       'Brown/Chocolate', 'Silver/Chocolate', 'Blue/Yellow Brindle',\n",
       "       'Gray/Red', 'Gray/Buff', 'Fawn/Chocolate', 'Tan/Blue', 'Fawn/Gray',\n",
       "       'Blue Tiger', 'Gold/Cream', 'Red/Red', 'Liver/Tan',\n",
       "       'Brown Brindle/Blue Tick', 'Brown/Buff', 'Brown Merle/Blue Merle',\n",
       "       'Tan/Red Tick', 'Sable/Buff', 'Black/Yellow', 'Silver/Cream',\n",
       "       'Sable/Gray', 'Cream/Brown', 'Tricolor/Brown Merle', 'Brown Tiger',\n",
       "       'Silver/Gray', 'Brown Merle/Tan', 'Sable/Cream', 'Black/Black',\n",
       "       'Brown Brindle/Brown', 'White/Yellow', 'Brown/Yellow',\n",
       "       'Chocolate/Yellow', 'Blue/Brown', 'White/Blue Tick',\n",
       "       'Cream/Silver', 'White/Blue Merle', 'Black Smoke/Blue Tick',\n",
       "       'Gold/Gold', 'Brown/Brown', 'White/Black Smoke',\n",
       "       'Tricolor/Brown Brindle', 'Black Brindle/Black', 'Tan/Yellow',\n",
       "       'Red/Yellow', 'Blue/Gray', 'Yellow/Cream', 'White/Fawn', 'Agouti',\n",
       "       'Blue Cream/White', 'Yellow/Tan', 'Brown Tiger/Brown', 'Buff/Gray',\n",
       "       'Red Tick/Brown Brindle', 'Black/Blue', 'Brown Merle/Brown',\n",
       "       'Gold/Gray'], dtype=object)"
      ]
     },
     "execution_count": 23,
     "metadata": {},
     "output_type": "execute_result"
    }
   ],
   "source": [
    "#checking out colors\n",
    "austin_data['color'].unique()"
   ]
  },
  {
   "cell_type": "code",
   "execution_count": 24,
   "metadata": {},
   "outputs": [
    {
     "name": "stdout",
     "output_type": "stream",
     "text": [
      "35 258\n"
     ]
    }
   ],
   "source": [
    "#taking only the first color listed assuming that is the primary color\n",
    "austin_data.loc[:,'color'] = austin_data.loc[:,'color'].astype(str)\n",
    "austin_data.loc[:,'new_color'] = austin_data.loc[:,'color'].str.split(\"/\").str[0]\n",
    "\n",
    "print(austin_data['new_color'].nunique(), austin_data['color'].nunique())"
   ]
  },
  {
   "cell_type": "code",
   "execution_count": 25,
   "metadata": {},
   "outputs": [],
   "source": [
    "df = austin_data\n",
    "#group colors that are the same (brown = chocolate = liver, yellow = fawn, etc.)\n",
    "df['new_color'] = df['new_color'].astype(str)\n",
    "df['new_color'] = df['new_color'].str.replace('Chocolate', 'Brown')\n",
    "df['new_color'] = df['new_color'].str.replace('Liver', 'Brown')\n",
    "df['new_color'] = df['new_color'].str.replace('Fawn', 'Yellow')\n",
    "df['new_color'] = df['new_color'].str.replace('Silver', 'Gray')\n",
    "df['new_color'] = df['new_color'].str.replace('Cream', 'White')"
   ]
  },
  {
   "cell_type": "code",
   "execution_count": 26,
   "metadata": {},
   "outputs": [
    {
     "name": "stdout",
     "output_type": "stream",
     "text": [
      "(20581, 17)\n",
      "16628\n"
     ]
    }
   ],
   "source": [
    "#what breeds make up roughly 80% of the rows\n",
    "print(df.shape)\n",
    "print(df['new_breed'].value_counts().head(27).sum())"
   ]
  },
  {
   "cell_type": "code",
   "execution_count": 27,
   "metadata": {},
   "outputs": [
    {
     "name": "stdout",
     "output_type": "stream",
     "text": [
      "16628\n"
     ]
    },
    {
     "data": {
      "text/plain": [
       "(16628, 17)"
      ]
     },
     "execution_count": 27,
     "metadata": {},
     "output_type": "execute_result"
    }
   ],
   "source": [
    "#taking 80% of the data by dropping the least common breeds to reduce noise(drop approx 5,840 rows)\n",
    "print(df['new_breed'].value_counts().sort_values(ascending=False).head(27).sum())#top 27 represent 80%\n",
    "top27 = df['new_breed'].value_counts().sort_values(ascending=False).head(27).index.tolist()\n",
    "df = df[df['new_breed'].isin(top27)] #new df \n",
    "df.shape\n"
   ]
  },
  {
   "cell_type": "code",
   "execution_count": 28,
   "metadata": {},
   "outputs": [
    {
     "data": {
      "text/plain": [
       "Black            4584\n",
       "White            2890\n",
       "Brown            2553\n",
       "Tan              2105\n",
       "Brown Brindle     833\n",
       "Tricolor          792\n",
       "Red               623\n",
       "Blue              591\n",
       "Yellow            379\n",
       "Sable             313\n",
       "Buff              179\n",
       "Gray              166\n",
       "Name: new_color, dtype: int64"
      ]
     },
     "execution_count": 28,
     "metadata": {},
     "output_type": "execute_result"
    }
   ],
   "source": [
    "#what colors make up the majority of rows\n",
    "df['new_color'].value_counts().head(12)"
   ]
  },
  {
   "cell_type": "code",
   "execution_count": 29,
   "metadata": {},
   "outputs": [
    {
     "data": {
      "text/plain": [
       "array(['Black', 'Tan', 'Sable', 'Tricolor', 'Brown', 'Blue', 'Red',\n",
       "       'White', 'Brown Brindle', 'Buff', 'Yellow', 'Gray'], dtype=object)"
      ]
     },
     "execution_count": 29,
     "metadata": {},
     "output_type": "execute_result"
    }
   ],
   "source": [
    "#drop colors that make up less than 4% of the data\n",
    "\n",
    "colors = ['Black', 'Blue', 'Brown', 'Brown Brindle', 'Buff', 'Gray', 'Red', 'Sable', 'Tan', 'Tricolor', 'White', 'Yellow']\n",
    "df = df[df['new_color'].isin(colors)]\n",
    "df['new_color'].unique() #checking all the colors left\n"
   ]
  },
  {
   "cell_type": "code",
   "execution_count": 30,
   "metadata": {},
   "outputs": [],
   "source": [
    "#drop original color and breed columns\n",
    "df = df.drop(columns=['breed' ,'color'])"
   ]
  },
  {
   "cell_type": "code",
   "execution_count": 31,
   "metadata": {},
   "outputs": [
    {
     "data": {
      "text/plain": [
       "27"
      ]
     },
     "execution_count": 31,
     "metadata": {},
     "output_type": "execute_result"
    }
   ],
   "source": [
    "df['new_breed'].nunique()"
   ]
  },
  {
   "cell_type": "code",
   "execution_count": 32,
   "metadata": {},
   "outputs": [
    {
     "data": {
      "text/plain": [
       "12"
      ]
     },
     "execution_count": 32,
     "metadata": {},
     "output_type": "execute_result"
    }
   ],
   "source": [
    "df['new_color'].nunique()"
   ]
  },
  {
   "cell_type": "markdown",
   "metadata": {},
   "source": [
    "# 5. Converting str to int and dummie variables"
   ]
  },
  {
   "cell_type": "markdown",
   "metadata": {},
   "source": [
    "converting categorical variables to integers to prepare for modelling "
   ]
  },
  {
   "cell_type": "code",
   "execution_count": 33,
   "metadata": {},
   "outputs": [],
   "source": [
    "#create function to form dictonary to create int variables\n",
    "def create_dict(items):\n",
    "        return {v: i for i, v in enumerate(items, 0)}"
   ]
  },
  {
   "cell_type": "code",
   "execution_count": 34,
   "metadata": {},
   "outputs": [],
   "source": [
    "#create variable to apply function to\n",
    "condition = df['intake_condition'].unique().tolist()"
   ]
  },
  {
   "cell_type": "code",
   "execution_count": 35,
   "metadata": {},
   "outputs": [
    {
     "data": {
      "text/plain": [
       "{'Normal': 0,\n",
       " 'Aged': 1,\n",
       " 'Sick': 2,\n",
       " 'Injured': 3,\n",
       " 'Other': 4,\n",
       " 'Pregnant': 5,\n",
       " 'Nursing': 6,\n",
       " 'Feral': 7}"
      ]
     },
     "execution_count": 35,
     "metadata": {},
     "output_type": "execute_result"
    }
   ],
   "source": [
    "#make dict\n",
    "create_dict(condition)"
   ]
  },
  {
   "cell_type": "code",
   "execution_count": 36,
   "metadata": {},
   "outputs": [
    {
     "data": {
      "text/html": [
       "<div>\n",
       "<style scoped>\n",
       "    .dataframe tbody tr th:only-of-type {\n",
       "        vertical-align: middle;\n",
       "    }\n",
       "\n",
       "    .dataframe tbody tr th {\n",
       "        vertical-align: top;\n",
       "    }\n",
       "\n",
       "    .dataframe thead th {\n",
       "        text-align: right;\n",
       "    }\n",
       "</style>\n",
       "<table border=\"1\" class=\"dataframe\">\n",
       "  <thead>\n",
       "    <tr style=\"text-align: right;\">\n",
       "      <th></th>\n",
       "      <th>outcome_type</th>\n",
       "      <th>animal_id_intake</th>\n",
       "      <th>age_upon_outcome_(years)</th>\n",
       "      <th>outcome_datetime</th>\n",
       "      <th>outcome_monthyear</th>\n",
       "      <th>animal_type</th>\n",
       "      <th>intake_condition</th>\n",
       "      <th>intake_type</th>\n",
       "      <th>sex_upon_outcome</th>\n",
       "      <th>age_upon_intake_(years)</th>\n",
       "      <th>intake_datetime</th>\n",
       "      <th>intake_monthyear</th>\n",
       "      <th>time_in_shelter_days</th>\n",
       "      <th>new_breed</th>\n",
       "      <th>new_color</th>\n",
       "      <th>intake_cond_int</th>\n",
       "    </tr>\n",
       "  </thead>\n",
       "  <tbody>\n",
       "    <tr>\n",
       "      <th>12</th>\n",
       "      <td>Adoption</td>\n",
       "      <td>A200922</td>\n",
       "      <td>16.0</td>\n",
       "      <td>2013-11-22 09:44:00</td>\n",
       "      <td>2013-11</td>\n",
       "      <td>Dog</td>\n",
       "      <td>Normal</td>\n",
       "      <td>Owner Surrender</td>\n",
       "      <td>Neutered Male</td>\n",
       "      <td>16.0</td>\n",
       "      <td>2013-10-03 15:47:00</td>\n",
       "      <td>2013-10</td>\n",
       "      <td>49.747917</td>\n",
       "      <td>Dachshund</td>\n",
       "      <td>Black</td>\n",
       "      <td>0</td>\n",
       "    </tr>\n",
       "    <tr>\n",
       "      <th>14</th>\n",
       "      <td>Adoption</td>\n",
       "      <td>A210457</td>\n",
       "      <td>17.0</td>\n",
       "      <td>2016-10-07 12:34:00</td>\n",
       "      <td>2016-10</td>\n",
       "      <td>Dog</td>\n",
       "      <td>Aged</td>\n",
       "      <td>Public Assist</td>\n",
       "      <td>Neutered Male</td>\n",
       "      <td>17.0</td>\n",
       "      <td>2016-09-28 12:05:00</td>\n",
       "      <td>2016-09</td>\n",
       "      <td>9.020139</td>\n",
       "      <td>Chihuahua Shorthair</td>\n",
       "      <td>Tan</td>\n",
       "      <td>1</td>\n",
       "    </tr>\n",
       "    <tr>\n",
       "      <th>22</th>\n",
       "      <td>Adoption</td>\n",
       "      <td>A226069</td>\n",
       "      <td>15.0</td>\n",
       "      <td>2015-10-29 15:00:00</td>\n",
       "      <td>2015-10</td>\n",
       "      <td>Dog</td>\n",
       "      <td>Normal</td>\n",
       "      <td>Stray</td>\n",
       "      <td>Neutered Male</td>\n",
       "      <td>15.0</td>\n",
       "      <td>2015-10-06 12:29:00</td>\n",
       "      <td>2015-10</td>\n",
       "      <td>23.104861</td>\n",
       "      <td>Labrador Retriever</td>\n",
       "      <td>Sable</td>\n",
       "      <td>0</td>\n",
       "    </tr>\n",
       "    <tr>\n",
       "      <th>32</th>\n",
       "      <td>Adoption</td>\n",
       "      <td>A249087</td>\n",
       "      <td>15.0</td>\n",
       "      <td>2016-11-15 10:37:00</td>\n",
       "      <td>2016-11</td>\n",
       "      <td>Dog</td>\n",
       "      <td>Normal</td>\n",
       "      <td>Stray</td>\n",
       "      <td>Spayed Female</td>\n",
       "      <td>15.0</td>\n",
       "      <td>2016-08-17 14:05:00</td>\n",
       "      <td>2016-08</td>\n",
       "      <td>89.855556</td>\n",
       "      <td>German Shepherd</td>\n",
       "      <td>Black</td>\n",
       "      <td>0</td>\n",
       "    </tr>\n",
       "    <tr>\n",
       "      <th>48</th>\n",
       "      <td>Adoption</td>\n",
       "      <td>A274546</td>\n",
       "      <td>11.0</td>\n",
       "      <td>2013-11-16 12:24:00</td>\n",
       "      <td>2013-11</td>\n",
       "      <td>Dog</td>\n",
       "      <td>Normal</td>\n",
       "      <td>Stray</td>\n",
       "      <td>Spayed Female</td>\n",
       "      <td>11.0</td>\n",
       "      <td>2013-11-13 18:16:00</td>\n",
       "      <td>2013-11</td>\n",
       "      <td>2.755556</td>\n",
       "      <td>Pointer</td>\n",
       "      <td>Tricolor</td>\n",
       "      <td>0</td>\n",
       "    </tr>\n",
       "  </tbody>\n",
       "</table>\n",
       "</div>"
      ],
      "text/plain": [
       "   outcome_type animal_id_intake  age_upon_outcome_(years)  \\\n",
       "12     Adoption          A200922                      16.0   \n",
       "14     Adoption          A210457                      17.0   \n",
       "22     Adoption          A226069                      15.0   \n",
       "32     Adoption          A249087                      15.0   \n",
       "48     Adoption          A274546                      11.0   \n",
       "\n",
       "       outcome_datetime outcome_monthyear animal_type intake_condition  \\\n",
       "12  2013-11-22 09:44:00           2013-11         Dog           Normal   \n",
       "14  2016-10-07 12:34:00           2016-10         Dog             Aged   \n",
       "22  2015-10-29 15:00:00           2015-10         Dog           Normal   \n",
       "32  2016-11-15 10:37:00           2016-11         Dog           Normal   \n",
       "48  2013-11-16 12:24:00           2013-11         Dog           Normal   \n",
       "\n",
       "        intake_type sex_upon_outcome  age_upon_intake_(years)  \\\n",
       "12  Owner Surrender    Neutered Male                     16.0   \n",
       "14    Public Assist    Neutered Male                     17.0   \n",
       "22            Stray    Neutered Male                     15.0   \n",
       "32            Stray    Spayed Female                     15.0   \n",
       "48            Stray    Spayed Female                     11.0   \n",
       "\n",
       "        intake_datetime intake_monthyear  time_in_shelter_days  \\\n",
       "12  2013-10-03 15:47:00          2013-10             49.747917   \n",
       "14  2016-09-28 12:05:00          2016-09              9.020139   \n",
       "22  2015-10-06 12:29:00          2015-10             23.104861   \n",
       "32  2016-08-17 14:05:00          2016-08             89.855556   \n",
       "48  2013-11-13 18:16:00          2013-11              2.755556   \n",
       "\n",
       "              new_breed new_color  intake_cond_int  \n",
       "12            Dachshund     Black                0  \n",
       "14  Chihuahua Shorthair       Tan                1  \n",
       "22   Labrador Retriever     Sable                0  \n",
       "32      German Shepherd     Black                0  \n",
       "48              Pointer  Tricolor                0  "
      ]
     },
     "execution_count": 36,
     "metadata": {},
     "output_type": "execute_result"
    }
   ],
   "source": [
    "#map to new column\n",
    "df['intake_cond_int']=df['intake_condition'].map(create_dict(condition))\n",
    "df.head()"
   ]
  },
  {
   "cell_type": "code",
   "execution_count": 37,
   "metadata": {},
   "outputs": [
    {
     "data": {
      "text/html": [
       "<div>\n",
       "<style scoped>\n",
       "    .dataframe tbody tr th:only-of-type {\n",
       "        vertical-align: middle;\n",
       "    }\n",
       "\n",
       "    .dataframe tbody tr th {\n",
       "        vertical-align: top;\n",
       "    }\n",
       "\n",
       "    .dataframe thead th {\n",
       "        text-align: right;\n",
       "    }\n",
       "</style>\n",
       "<table border=\"1\" class=\"dataframe\">\n",
       "  <thead>\n",
       "    <tr style=\"text-align: right;\">\n",
       "      <th></th>\n",
       "      <th>outcome_type</th>\n",
       "      <th>animal_id_intake</th>\n",
       "      <th>age_upon_outcome_(years)</th>\n",
       "      <th>outcome_datetime</th>\n",
       "      <th>outcome_monthyear</th>\n",
       "      <th>animal_type</th>\n",
       "      <th>intake_condition</th>\n",
       "      <th>intake_type</th>\n",
       "      <th>sex_upon_outcome</th>\n",
       "      <th>age_upon_intake_(years)</th>\n",
       "      <th>intake_datetime</th>\n",
       "      <th>intake_monthyear</th>\n",
       "      <th>time_in_shelter_days</th>\n",
       "      <th>new_breed</th>\n",
       "      <th>new_color</th>\n",
       "      <th>intake_cond_int</th>\n",
       "      <th>intake_type_int</th>\n",
       "    </tr>\n",
       "  </thead>\n",
       "  <tbody>\n",
       "    <tr>\n",
       "      <th>12</th>\n",
       "      <td>Adoption</td>\n",
       "      <td>A200922</td>\n",
       "      <td>16.0</td>\n",
       "      <td>2013-11-22 09:44:00</td>\n",
       "      <td>2013-11</td>\n",
       "      <td>Dog</td>\n",
       "      <td>Normal</td>\n",
       "      <td>Owner Surrender</td>\n",
       "      <td>Neutered Male</td>\n",
       "      <td>16.0</td>\n",
       "      <td>2013-10-03 15:47:00</td>\n",
       "      <td>2013-10</td>\n",
       "      <td>49.747917</td>\n",
       "      <td>Dachshund</td>\n",
       "      <td>Black</td>\n",
       "      <td>0</td>\n",
       "      <td>0</td>\n",
       "    </tr>\n",
       "    <tr>\n",
       "      <th>14</th>\n",
       "      <td>Adoption</td>\n",
       "      <td>A210457</td>\n",
       "      <td>17.0</td>\n",
       "      <td>2016-10-07 12:34:00</td>\n",
       "      <td>2016-10</td>\n",
       "      <td>Dog</td>\n",
       "      <td>Aged</td>\n",
       "      <td>Public Assist</td>\n",
       "      <td>Neutered Male</td>\n",
       "      <td>17.0</td>\n",
       "      <td>2016-09-28 12:05:00</td>\n",
       "      <td>2016-09</td>\n",
       "      <td>9.020139</td>\n",
       "      <td>Chihuahua Shorthair</td>\n",
       "      <td>Tan</td>\n",
       "      <td>1</td>\n",
       "      <td>1</td>\n",
       "    </tr>\n",
       "    <tr>\n",
       "      <th>22</th>\n",
       "      <td>Adoption</td>\n",
       "      <td>A226069</td>\n",
       "      <td>15.0</td>\n",
       "      <td>2015-10-29 15:00:00</td>\n",
       "      <td>2015-10</td>\n",
       "      <td>Dog</td>\n",
       "      <td>Normal</td>\n",
       "      <td>Stray</td>\n",
       "      <td>Neutered Male</td>\n",
       "      <td>15.0</td>\n",
       "      <td>2015-10-06 12:29:00</td>\n",
       "      <td>2015-10</td>\n",
       "      <td>23.104861</td>\n",
       "      <td>Labrador Retriever</td>\n",
       "      <td>Sable</td>\n",
       "      <td>0</td>\n",
       "      <td>2</td>\n",
       "    </tr>\n",
       "    <tr>\n",
       "      <th>32</th>\n",
       "      <td>Adoption</td>\n",
       "      <td>A249087</td>\n",
       "      <td>15.0</td>\n",
       "      <td>2016-11-15 10:37:00</td>\n",
       "      <td>2016-11</td>\n",
       "      <td>Dog</td>\n",
       "      <td>Normal</td>\n",
       "      <td>Stray</td>\n",
       "      <td>Spayed Female</td>\n",
       "      <td>15.0</td>\n",
       "      <td>2016-08-17 14:05:00</td>\n",
       "      <td>2016-08</td>\n",
       "      <td>89.855556</td>\n",
       "      <td>German Shepherd</td>\n",
       "      <td>Black</td>\n",
       "      <td>0</td>\n",
       "      <td>2</td>\n",
       "    </tr>\n",
       "    <tr>\n",
       "      <th>48</th>\n",
       "      <td>Adoption</td>\n",
       "      <td>A274546</td>\n",
       "      <td>11.0</td>\n",
       "      <td>2013-11-16 12:24:00</td>\n",
       "      <td>2013-11</td>\n",
       "      <td>Dog</td>\n",
       "      <td>Normal</td>\n",
       "      <td>Stray</td>\n",
       "      <td>Spayed Female</td>\n",
       "      <td>11.0</td>\n",
       "      <td>2013-11-13 18:16:00</td>\n",
       "      <td>2013-11</td>\n",
       "      <td>2.755556</td>\n",
       "      <td>Pointer</td>\n",
       "      <td>Tricolor</td>\n",
       "      <td>0</td>\n",
       "      <td>2</td>\n",
       "    </tr>\n",
       "  </tbody>\n",
       "</table>\n",
       "</div>"
      ],
      "text/plain": [
       "   outcome_type animal_id_intake  age_upon_outcome_(years)  \\\n",
       "12     Adoption          A200922                      16.0   \n",
       "14     Adoption          A210457                      17.0   \n",
       "22     Adoption          A226069                      15.0   \n",
       "32     Adoption          A249087                      15.0   \n",
       "48     Adoption          A274546                      11.0   \n",
       "\n",
       "       outcome_datetime outcome_monthyear animal_type intake_condition  \\\n",
       "12  2013-11-22 09:44:00           2013-11         Dog           Normal   \n",
       "14  2016-10-07 12:34:00           2016-10         Dog             Aged   \n",
       "22  2015-10-29 15:00:00           2015-10         Dog           Normal   \n",
       "32  2016-11-15 10:37:00           2016-11         Dog           Normal   \n",
       "48  2013-11-16 12:24:00           2013-11         Dog           Normal   \n",
       "\n",
       "        intake_type sex_upon_outcome  age_upon_intake_(years)  \\\n",
       "12  Owner Surrender    Neutered Male                     16.0   \n",
       "14    Public Assist    Neutered Male                     17.0   \n",
       "22            Stray    Neutered Male                     15.0   \n",
       "32            Stray    Spayed Female                     15.0   \n",
       "48            Stray    Spayed Female                     11.0   \n",
       "\n",
       "        intake_datetime intake_monthyear  time_in_shelter_days  \\\n",
       "12  2013-10-03 15:47:00          2013-10             49.747917   \n",
       "14  2016-09-28 12:05:00          2016-09              9.020139   \n",
       "22  2015-10-06 12:29:00          2015-10             23.104861   \n",
       "32  2016-08-17 14:05:00          2016-08             89.855556   \n",
       "48  2013-11-13 18:16:00          2013-11              2.755556   \n",
       "\n",
       "              new_breed new_color  intake_cond_int  intake_type_int  \n",
       "12            Dachshund     Black                0                0  \n",
       "14  Chihuahua Shorthair       Tan                1                1  \n",
       "22   Labrador Retriever     Sable                0                2  \n",
       "32      German Shepherd     Black                0                2  \n",
       "48              Pointer  Tricolor                0                2  "
      ]
     },
     "execution_count": 37,
     "metadata": {},
     "output_type": "execute_result"
    }
   ],
   "source": [
    "#intake type to int\n",
    "intake_type = df['intake_type'].unique().tolist()\n",
    "create_dict(intake_type)\n",
    "df['intake_type_int']=df['intake_type'].map(create_dict(intake_type))\n",
    "df.head()"
   ]
  },
  {
   "cell_type": "code",
   "execution_count": 38,
   "metadata": {},
   "outputs": [
    {
     "data": {
      "text/plain": [
       "array(['Neutered Male', 'Spayed Female', 'Intact Female', 'Intact Male'],\n",
       "      dtype=object)"
      ]
     },
     "execution_count": 38,
     "metadata": {},
     "output_type": "execute_result"
    }
   ],
   "source": [
    "df['sex_upon_outcome'].unique()"
   ]
  },
  {
   "cell_type": "code",
   "execution_count": 39,
   "metadata": {},
   "outputs": [
    {
     "data": {
      "text/html": [
       "<div>\n",
       "<style scoped>\n",
       "    .dataframe tbody tr th:only-of-type {\n",
       "        vertical-align: middle;\n",
       "    }\n",
       "\n",
       "    .dataframe tbody tr th {\n",
       "        vertical-align: top;\n",
       "    }\n",
       "\n",
       "    .dataframe thead th {\n",
       "        text-align: right;\n",
       "    }\n",
       "</style>\n",
       "<table border=\"1\" class=\"dataframe\">\n",
       "  <thead>\n",
       "    <tr style=\"text-align: right;\">\n",
       "      <th></th>\n",
       "      <th>outcome_type</th>\n",
       "      <th>animal_id_intake</th>\n",
       "      <th>age_upon_outcome_(years)</th>\n",
       "      <th>outcome_datetime</th>\n",
       "      <th>outcome_monthyear</th>\n",
       "      <th>animal_type</th>\n",
       "      <th>intake_condition</th>\n",
       "      <th>intake_type</th>\n",
       "      <th>sex_upon_outcome</th>\n",
       "      <th>age_upon_intake_(years)</th>\n",
       "      <th>intake_datetime</th>\n",
       "      <th>intake_monthyear</th>\n",
       "      <th>time_in_shelter_days</th>\n",
       "      <th>new_breed</th>\n",
       "      <th>new_color</th>\n",
       "      <th>intake_cond_int</th>\n",
       "      <th>intake_type_int</th>\n",
       "      <th>sex_upon_outcome_int</th>\n",
       "    </tr>\n",
       "  </thead>\n",
       "  <tbody>\n",
       "    <tr>\n",
       "      <th>12</th>\n",
       "      <td>Adoption</td>\n",
       "      <td>A200922</td>\n",
       "      <td>16.0</td>\n",
       "      <td>2013-11-22 09:44:00</td>\n",
       "      <td>2013-11</td>\n",
       "      <td>Dog</td>\n",
       "      <td>Normal</td>\n",
       "      <td>Owner Surrender</td>\n",
       "      <td>Neutered Male</td>\n",
       "      <td>16.0</td>\n",
       "      <td>2013-10-03 15:47:00</td>\n",
       "      <td>2013-10</td>\n",
       "      <td>49.747917</td>\n",
       "      <td>Dachshund</td>\n",
       "      <td>Black</td>\n",
       "      <td>0</td>\n",
       "      <td>0</td>\n",
       "      <td>0</td>\n",
       "    </tr>\n",
       "    <tr>\n",
       "      <th>14</th>\n",
       "      <td>Adoption</td>\n",
       "      <td>A210457</td>\n",
       "      <td>17.0</td>\n",
       "      <td>2016-10-07 12:34:00</td>\n",
       "      <td>2016-10</td>\n",
       "      <td>Dog</td>\n",
       "      <td>Aged</td>\n",
       "      <td>Public Assist</td>\n",
       "      <td>Neutered Male</td>\n",
       "      <td>17.0</td>\n",
       "      <td>2016-09-28 12:05:00</td>\n",
       "      <td>2016-09</td>\n",
       "      <td>9.020139</td>\n",
       "      <td>Chihuahua Shorthair</td>\n",
       "      <td>Tan</td>\n",
       "      <td>1</td>\n",
       "      <td>1</td>\n",
       "      <td>0</td>\n",
       "    </tr>\n",
       "    <tr>\n",
       "      <th>22</th>\n",
       "      <td>Adoption</td>\n",
       "      <td>A226069</td>\n",
       "      <td>15.0</td>\n",
       "      <td>2015-10-29 15:00:00</td>\n",
       "      <td>2015-10</td>\n",
       "      <td>Dog</td>\n",
       "      <td>Normal</td>\n",
       "      <td>Stray</td>\n",
       "      <td>Neutered Male</td>\n",
       "      <td>15.0</td>\n",
       "      <td>2015-10-06 12:29:00</td>\n",
       "      <td>2015-10</td>\n",
       "      <td>23.104861</td>\n",
       "      <td>Labrador Retriever</td>\n",
       "      <td>Sable</td>\n",
       "      <td>0</td>\n",
       "      <td>2</td>\n",
       "      <td>0</td>\n",
       "    </tr>\n",
       "    <tr>\n",
       "      <th>32</th>\n",
       "      <td>Adoption</td>\n",
       "      <td>A249087</td>\n",
       "      <td>15.0</td>\n",
       "      <td>2016-11-15 10:37:00</td>\n",
       "      <td>2016-11</td>\n",
       "      <td>Dog</td>\n",
       "      <td>Normal</td>\n",
       "      <td>Stray</td>\n",
       "      <td>Spayed Female</td>\n",
       "      <td>15.0</td>\n",
       "      <td>2016-08-17 14:05:00</td>\n",
       "      <td>2016-08</td>\n",
       "      <td>89.855556</td>\n",
       "      <td>German Shepherd</td>\n",
       "      <td>Black</td>\n",
       "      <td>0</td>\n",
       "      <td>2</td>\n",
       "      <td>1</td>\n",
       "    </tr>\n",
       "    <tr>\n",
       "      <th>48</th>\n",
       "      <td>Adoption</td>\n",
       "      <td>A274546</td>\n",
       "      <td>11.0</td>\n",
       "      <td>2013-11-16 12:24:00</td>\n",
       "      <td>2013-11</td>\n",
       "      <td>Dog</td>\n",
       "      <td>Normal</td>\n",
       "      <td>Stray</td>\n",
       "      <td>Spayed Female</td>\n",
       "      <td>11.0</td>\n",
       "      <td>2013-11-13 18:16:00</td>\n",
       "      <td>2013-11</td>\n",
       "      <td>2.755556</td>\n",
       "      <td>Pointer</td>\n",
       "      <td>Tricolor</td>\n",
       "      <td>0</td>\n",
       "      <td>2</td>\n",
       "      <td>1</td>\n",
       "    </tr>\n",
       "  </tbody>\n",
       "</table>\n",
       "</div>"
      ],
      "text/plain": [
       "   outcome_type animal_id_intake  age_upon_outcome_(years)  \\\n",
       "12     Adoption          A200922                      16.0   \n",
       "14     Adoption          A210457                      17.0   \n",
       "22     Adoption          A226069                      15.0   \n",
       "32     Adoption          A249087                      15.0   \n",
       "48     Adoption          A274546                      11.0   \n",
       "\n",
       "       outcome_datetime outcome_monthyear animal_type intake_condition  \\\n",
       "12  2013-11-22 09:44:00           2013-11         Dog           Normal   \n",
       "14  2016-10-07 12:34:00           2016-10         Dog             Aged   \n",
       "22  2015-10-29 15:00:00           2015-10         Dog           Normal   \n",
       "32  2016-11-15 10:37:00           2016-11         Dog           Normal   \n",
       "48  2013-11-16 12:24:00           2013-11         Dog           Normal   \n",
       "\n",
       "        intake_type sex_upon_outcome  age_upon_intake_(years)  \\\n",
       "12  Owner Surrender    Neutered Male                     16.0   \n",
       "14    Public Assist    Neutered Male                     17.0   \n",
       "22            Stray    Neutered Male                     15.0   \n",
       "32            Stray    Spayed Female                     15.0   \n",
       "48            Stray    Spayed Female                     11.0   \n",
       "\n",
       "        intake_datetime intake_monthyear  time_in_shelter_days  \\\n",
       "12  2013-10-03 15:47:00          2013-10             49.747917   \n",
       "14  2016-09-28 12:05:00          2016-09              9.020139   \n",
       "22  2015-10-06 12:29:00          2015-10             23.104861   \n",
       "32  2016-08-17 14:05:00          2016-08             89.855556   \n",
       "48  2013-11-13 18:16:00          2013-11              2.755556   \n",
       "\n",
       "              new_breed new_color  intake_cond_int  intake_type_int  \\\n",
       "12            Dachshund     Black                0                0   \n",
       "14  Chihuahua Shorthair       Tan                1                1   \n",
       "22   Labrador Retriever     Sable                0                2   \n",
       "32      German Shepherd     Black                0                2   \n",
       "48              Pointer  Tricolor                0                2   \n",
       "\n",
       "    sex_upon_outcome_int  \n",
       "12                     0  \n",
       "14                     0  \n",
       "22                     0  \n",
       "32                     1  \n",
       "48                     1  "
      ]
     },
     "execution_count": 39,
     "metadata": {},
     "output_type": "execute_result"
    }
   ],
   "source": [
    "sex_upon_outcome = df['sex_upon_outcome'].unique().tolist()\n",
    "create_dict(sex_upon_outcome)\n",
    "df['sex_upon_outcome_int']=df['sex_upon_outcome'].map(create_dict(sex_upon_outcome))\n",
    "df.head()"
   ]
  },
  {
   "cell_type": "code",
   "execution_count": 48,
   "metadata": {},
   "outputs": [
    {
     "data": {
      "image/png": "[encoded data removed]",
      "text/plain": [
       "<Figure size 432x288 with 1 Axes>"
      ]
     },
     "metadata": {},
     "output_type": "display_data"
    },
    {
     "data": {
      "text/plain": [
       "<Figure size 576x288 with 0 Axes>"
      ]
     },
     "metadata": {},
     "output_type": "display_data"
    }
   ],
   "source": [
    "_ = sns.histplot( x=  df['age_upon_outcome_(years)'], bins=19)\n",
    "plt.figure(figsize=(8, 4))\n",
    "_.set(title = 'Age Distribution', xlabel='Age (years)', )\n",
    "plt.show()"
   ]
  },
  {
   "cell_type": "code",
   "execution_count": null,
   "metadata": {},
   "outputs": [],
   "source": []
  },
  {
   "cell_type": "code",
   "execution_count": 41,
   "metadata": {},
   "outputs": [
    {
     "data": {
      "text/plain": [
       "(16008, 18)"
      ]
     },
     "execution_count": 41,
     "metadata": {},
     "output_type": "execute_result"
    }
   ],
   "source": [
    "df.shape"
   ]
  },
  {
   "cell_type": "code",
   "execution_count": 42,
   "metadata": {},
   "outputs": [
    {
     "data": {
      "text/html": [
       "<div>\n",
       "<style scoped>\n",
       "    .dataframe tbody tr th:only-of-type {\n",
       "        vertical-align: middle;\n",
       "    }\n",
       "\n",
       "    .dataframe tbody tr th {\n",
       "        vertical-align: top;\n",
       "    }\n",
       "\n",
       "    .dataframe thead th {\n",
       "        text-align: right;\n",
       "    }\n",
       "</style>\n",
       "<table border=\"1\" class=\"dataframe\">\n",
       "  <thead>\n",
       "    <tr style=\"text-align: right;\">\n",
       "      <th></th>\n",
       "      <th>outcome_type</th>\n",
       "      <th>animal_id_intake</th>\n",
       "      <th>age_upon_outcome_(years)</th>\n",
       "      <th>outcome_datetime</th>\n",
       "      <th>outcome_monthyear</th>\n",
       "      <th>animal_type</th>\n",
       "      <th>intake_condition</th>\n",
       "      <th>intake_type</th>\n",
       "      <th>sex_upon_outcome</th>\n",
       "      <th>age_upon_intake_(years)</th>\n",
       "      <th>intake_datetime</th>\n",
       "      <th>intake_monthyear</th>\n",
       "      <th>time_in_shelter_days</th>\n",
       "      <th>new_breed</th>\n",
       "      <th>new_color</th>\n",
       "      <th>intake_cond_int</th>\n",
       "      <th>intake_type_int</th>\n",
       "      <th>sex_upon_outcome_int</th>\n",
       "    </tr>\n",
       "  </thead>\n",
       "  <tbody>\n",
       "    <tr>\n",
       "      <th>204</th>\n",
       "      <td>Adoption</td>\n",
       "      <td>A378348</td>\n",
       "      <td>9.0</td>\n",
       "      <td>2014-04-23 07:43:00</td>\n",
       "      <td>2014-04</td>\n",
       "      <td>Dog</td>\n",
       "      <td>Normal</td>\n",
       "      <td>Owner Surrender</td>\n",
       "      <td>Neutered Male</td>\n",
       "      <td>9.0</td>\n",
       "      <td>2014-01-25 14:38:00</td>\n",
       "      <td>2014-01</td>\n",
       "      <td>87.711806</td>\n",
       "      <td>German Shepherd</td>\n",
       "      <td>Black</td>\n",
       "      <td>0</td>\n",
       "      <td>0</td>\n",
       "      <td>0</td>\n",
       "    </tr>\n",
       "    <tr>\n",
       "      <th>205</th>\n",
       "      <td>Adoption</td>\n",
       "      <td>A378348</td>\n",
       "      <td>9.0</td>\n",
       "      <td>2014-01-19 13:39:00</td>\n",
       "      <td>2014-01</td>\n",
       "      <td>Dog</td>\n",
       "      <td>Normal</td>\n",
       "      <td>Owner Surrender</td>\n",
       "      <td>Neutered Male</td>\n",
       "      <td>9.0</td>\n",
       "      <td>2013-12-12 11:07:00</td>\n",
       "      <td>2013-12</td>\n",
       "      <td>38.105556</td>\n",
       "      <td>German Shepherd</td>\n",
       "      <td>Black</td>\n",
       "      <td>0</td>\n",
       "      <td>0</td>\n",
       "      <td>0</td>\n",
       "    </tr>\n",
       "    <tr>\n",
       "      <th>231</th>\n",
       "      <td>Adoption</td>\n",
       "      <td>A390222</td>\n",
       "      <td>9.0</td>\n",
       "      <td>2013-12-15 17:10:00</td>\n",
       "      <td>2013-12</td>\n",
       "      <td>Dog</td>\n",
       "      <td>Normal</td>\n",
       "      <td>Owner Surrender</td>\n",
       "      <td>Spayed Female</td>\n",
       "      <td>9.0</td>\n",
       "      <td>2013-12-08 17:04:00</td>\n",
       "      <td>2013-12</td>\n",
       "      <td>7.004167</td>\n",
       "      <td>Jack Russell Terrier</td>\n",
       "      <td>White</td>\n",
       "      <td>0</td>\n",
       "      <td>0</td>\n",
       "      <td>1</td>\n",
       "    </tr>\n",
       "    <tr>\n",
       "      <th>232</th>\n",
       "      <td>Adoption</td>\n",
       "      <td>A390222</td>\n",
       "      <td>9.0</td>\n",
       "      <td>2013-12-08 15:16:00</td>\n",
       "      <td>2013-12</td>\n",
       "      <td>Dog</td>\n",
       "      <td>Normal</td>\n",
       "      <td>Owner Surrender</td>\n",
       "      <td>Spayed Female</td>\n",
       "      <td>9.0</td>\n",
       "      <td>2013-12-04 18:24:00</td>\n",
       "      <td>2013-12</td>\n",
       "      <td>3.869444</td>\n",
       "      <td>Jack Russell Terrier</td>\n",
       "      <td>White</td>\n",
       "      <td>0</td>\n",
       "      <td>0</td>\n",
       "      <td>1</td>\n",
       "    </tr>\n",
       "    <tr>\n",
       "      <th>319</th>\n",
       "      <td>Adoption</td>\n",
       "      <td>A438287</td>\n",
       "      <td>14.0</td>\n",
       "      <td>2018-01-13 17:54:00</td>\n",
       "      <td>2018-01</td>\n",
       "      <td>Dog</td>\n",
       "      <td>Normal</td>\n",
       "      <td>Owner Surrender</td>\n",
       "      <td>Spayed Female</td>\n",
       "      <td>14.0</td>\n",
       "      <td>2018-01-08 12:03:00</td>\n",
       "      <td>2018-01</td>\n",
       "      <td>5.243750</td>\n",
       "      <td>Chihuahua Shorthair</td>\n",
       "      <td>Tan</td>\n",
       "      <td>0</td>\n",
       "      <td>0</td>\n",
       "      <td>1</td>\n",
       "    </tr>\n",
       "  </tbody>\n",
       "</table>\n",
       "</div>"
      ],
      "text/plain": [
       "    outcome_type animal_id_intake  age_upon_outcome_(years)  \\\n",
       "204     Adoption          A378348                       9.0   \n",
       "205     Adoption          A378348                       9.0   \n",
       "231     Adoption          A390222                       9.0   \n",
       "232     Adoption          A390222                       9.0   \n",
       "319     Adoption          A438287                      14.0   \n",
       "\n",
       "        outcome_datetime outcome_monthyear animal_type intake_condition  \\\n",
       "204  2014-04-23 07:43:00           2014-04         Dog           Normal   \n",
       "205  2014-01-19 13:39:00           2014-01         Dog           Normal   \n",
       "231  2013-12-15 17:10:00           2013-12         Dog           Normal   \n",
       "232  2013-12-08 15:16:00           2013-12         Dog           Normal   \n",
       "319  2018-01-13 17:54:00           2018-01         Dog           Normal   \n",
       "\n",
       "         intake_type sex_upon_outcome  age_upon_intake_(years)  \\\n",
       "204  Owner Surrender    Neutered Male                      9.0   \n",
       "205  Owner Surrender    Neutered Male                      9.0   \n",
       "231  Owner Surrender    Spayed Female                      9.0   \n",
       "232  Owner Surrender    Spayed Female                      9.0   \n",
       "319  Owner Surrender    Spayed Female                     14.0   \n",
       "\n",
       "         intake_datetime intake_monthyear  time_in_shelter_days  \\\n",
       "204  2014-01-25 14:38:00          2014-01             87.711806   \n",
       "205  2013-12-12 11:07:00          2013-12             38.105556   \n",
       "231  2013-12-08 17:04:00          2013-12              7.004167   \n",
       "232  2013-12-04 18:24:00          2013-12              3.869444   \n",
       "319  2018-01-08 12:03:00          2018-01              5.243750   \n",
       "\n",
       "                new_breed new_color  intake_cond_int  intake_type_int  \\\n",
       "204       German Shepherd     Black                0                0   \n",
       "205       German Shepherd     Black                0                0   \n",
       "231  Jack Russell Terrier     White                0                0   \n",
       "232  Jack Russell Terrier     White                0                0   \n",
       "319   Chihuahua Shorthair       Tan                0                0   \n",
       "\n",
       "     sex_upon_outcome_int  \n",
       "204                     0  \n",
       "205                     0  \n",
       "231                     1  \n",
       "232                     1  \n",
       "319                     1  "
      ]
     },
     "execution_count": 42,
     "metadata": {},
     "output_type": "execute_result"
    }
   ],
   "source": [
    "#animal IDs have duplicates.. are they the same dog or is this a mistake?\n",
    "duplicates = df[df['animal_id_intake'].duplicated(keep=False)==True]\n",
    "duplicates.head() #they are the same dog--I will keep the duplicates because they were adopted\n"
   ]
  },
  {
   "cell_type": "code",
   "execution_count": null,
   "metadata": {},
   "outputs": [],
   "source": []
  },
  {
   "cell_type": "code",
   "execution_count": 43,
   "metadata": {},
   "outputs": [
    {
     "data": {
      "text/html": [
       "<div>\n",
       "<style scoped>\n",
       "    .dataframe tbody tr th:only-of-type {\n",
       "        vertical-align: middle;\n",
       "    }\n",
       "\n",
       "    .dataframe tbody tr th {\n",
       "        vertical-align: top;\n",
       "    }\n",
       "\n",
       "    .dataframe thead th {\n",
       "        text-align: right;\n",
       "    }\n",
       "</style>\n",
       "<table border=\"1\" class=\"dataframe\">\n",
       "  <thead>\n",
       "    <tr style=\"text-align: right;\">\n",
       "      <th></th>\n",
       "      <th>outcome_type</th>\n",
       "      <th>animal_id_intake</th>\n",
       "      <th>age_upon_outcome_(years)</th>\n",
       "      <th>outcome_datetime</th>\n",
       "      <th>outcome_monthyear</th>\n",
       "      <th>animal_type</th>\n",
       "      <th>intake_condition</th>\n",
       "      <th>intake_type</th>\n",
       "      <th>sex_upon_outcome</th>\n",
       "      <th>age_upon_intake_(years)</th>\n",
       "      <th>intake_datetime</th>\n",
       "      <th>intake_monthyear</th>\n",
       "      <th>time_in_shelter_days</th>\n",
       "      <th>new_breed</th>\n",
       "      <th>new_color</th>\n",
       "      <th>intake_cond_int</th>\n",
       "      <th>intake_type_int</th>\n",
       "      <th>sex_upon_outcome_int</th>\n",
       "      <th>new_breed_int</th>\n",
       "      <th>new_color_int</th>\n",
       "    </tr>\n",
       "  </thead>\n",
       "  <tbody>\n",
       "    <tr>\n",
       "      <th>12</th>\n",
       "      <td>Adoption</td>\n",
       "      <td>A200922</td>\n",
       "      <td>16.0</td>\n",
       "      <td>2013-11-22 09:44:00</td>\n",
       "      <td>2013-11</td>\n",
       "      <td>Dog</td>\n",
       "      <td>Normal</td>\n",
       "      <td>Owner Surrender</td>\n",
       "      <td>Neutered Male</td>\n",
       "      <td>16.0</td>\n",
       "      <td>2013-10-03 15:47:00</td>\n",
       "      <td>2013-10</td>\n",
       "      <td>49.747917</td>\n",
       "      <td>Dachshund</td>\n",
       "      <td>Black</td>\n",
       "      <td>0</td>\n",
       "      <td>0</td>\n",
       "      <td>0</td>\n",
       "      <td>0</td>\n",
       "      <td>0</td>\n",
       "    </tr>\n",
       "    <tr>\n",
       "      <th>14</th>\n",
       "      <td>Adoption</td>\n",
       "      <td>A210457</td>\n",
       "      <td>17.0</td>\n",
       "      <td>2016-10-07 12:34:00</td>\n",
       "      <td>2016-10</td>\n",
       "      <td>Dog</td>\n",
       "      <td>Aged</td>\n",
       "      <td>Public Assist</td>\n",
       "      <td>Neutered Male</td>\n",
       "      <td>17.0</td>\n",
       "      <td>2016-09-28 12:05:00</td>\n",
       "      <td>2016-09</td>\n",
       "      <td>9.020139</td>\n",
       "      <td>Chihuahua Shorthair</td>\n",
       "      <td>Tan</td>\n",
       "      <td>1</td>\n",
       "      <td>1</td>\n",
       "      <td>0</td>\n",
       "      <td>1</td>\n",
       "      <td>1</td>\n",
       "    </tr>\n",
       "    <tr>\n",
       "      <th>22</th>\n",
       "      <td>Adoption</td>\n",
       "      <td>A226069</td>\n",
       "      <td>15.0</td>\n",
       "      <td>2015-10-29 15:00:00</td>\n",
       "      <td>2015-10</td>\n",
       "      <td>Dog</td>\n",
       "      <td>Normal</td>\n",
       "      <td>Stray</td>\n",
       "      <td>Neutered Male</td>\n",
       "      <td>15.0</td>\n",
       "      <td>2015-10-06 12:29:00</td>\n",
       "      <td>2015-10</td>\n",
       "      <td>23.104861</td>\n",
       "      <td>Labrador Retriever</td>\n",
       "      <td>Sable</td>\n",
       "      <td>0</td>\n",
       "      <td>2</td>\n",
       "      <td>0</td>\n",
       "      <td>2</td>\n",
       "      <td>2</td>\n",
       "    </tr>\n",
       "    <tr>\n",
       "      <th>32</th>\n",
       "      <td>Adoption</td>\n",
       "      <td>A249087</td>\n",
       "      <td>15.0</td>\n",
       "      <td>2016-11-15 10:37:00</td>\n",
       "      <td>2016-11</td>\n",
       "      <td>Dog</td>\n",
       "      <td>Normal</td>\n",
       "      <td>Stray</td>\n",
       "      <td>Spayed Female</td>\n",
       "      <td>15.0</td>\n",
       "      <td>2016-08-17 14:05:00</td>\n",
       "      <td>2016-08</td>\n",
       "      <td>89.855556</td>\n",
       "      <td>German Shepherd</td>\n",
       "      <td>Black</td>\n",
       "      <td>0</td>\n",
       "      <td>2</td>\n",
       "      <td>1</td>\n",
       "      <td>3</td>\n",
       "      <td>0</td>\n",
       "    </tr>\n",
       "    <tr>\n",
       "      <th>48</th>\n",
       "      <td>Adoption</td>\n",
       "      <td>A274546</td>\n",
       "      <td>11.0</td>\n",
       "      <td>2013-11-16 12:24:00</td>\n",
       "      <td>2013-11</td>\n",
       "      <td>Dog</td>\n",
       "      <td>Normal</td>\n",
       "      <td>Stray</td>\n",
       "      <td>Spayed Female</td>\n",
       "      <td>11.0</td>\n",
       "      <td>2013-11-13 18:16:00</td>\n",
       "      <td>2013-11</td>\n",
       "      <td>2.755556</td>\n",
       "      <td>Pointer</td>\n",
       "      <td>Tricolor</td>\n",
       "      <td>0</td>\n",
       "      <td>2</td>\n",
       "      <td>1</td>\n",
       "      <td>4</td>\n",
       "      <td>3</td>\n",
       "    </tr>\n",
       "  </tbody>\n",
       "</table>\n",
       "</div>"
      ],
      "text/plain": [
       "   outcome_type animal_id_intake  age_upon_outcome_(years)  \\\n",
       "12     Adoption          A200922                      16.0   \n",
       "14     Adoption          A210457                      17.0   \n",
       "22     Adoption          A226069                      15.0   \n",
       "32     Adoption          A249087                      15.0   \n",
       "48     Adoption          A274546                      11.0   \n",
       "\n",
       "       outcome_datetime outcome_monthyear animal_type intake_condition  \\\n",
       "12  2013-11-22 09:44:00           2013-11         Dog           Normal   \n",
       "14  2016-10-07 12:34:00           2016-10         Dog             Aged   \n",
       "22  2015-10-29 15:00:00           2015-10         Dog           Normal   \n",
       "32  2016-11-15 10:37:00           2016-11         Dog           Normal   \n",
       "48  2013-11-16 12:24:00           2013-11         Dog           Normal   \n",
       "\n",
       "        intake_type sex_upon_outcome  age_upon_intake_(years)  \\\n",
       "12  Owner Surrender    Neutered Male                     16.0   \n",
       "14    Public Assist    Neutered Male                     17.0   \n",
       "22            Stray    Neutered Male                     15.0   \n",
       "32            Stray    Spayed Female                     15.0   \n",
       "48            Stray    Spayed Female                     11.0   \n",
       "\n",
       "        intake_datetime intake_monthyear  time_in_shelter_days  \\\n",
       "12  2013-10-03 15:47:00          2013-10             49.747917   \n",
       "14  2016-09-28 12:05:00          2016-09              9.020139   \n",
       "22  2015-10-06 12:29:00          2015-10             23.104861   \n",
       "32  2016-08-17 14:05:00          2016-08             89.855556   \n",
       "48  2013-11-13 18:16:00          2013-11              2.755556   \n",
       "\n",
       "              new_breed new_color  intake_cond_int  intake_type_int  \\\n",
       "12            Dachshund     Black                0                0   \n",
       "14  Chihuahua Shorthair       Tan                1                1   \n",
       "22   Labrador Retriever     Sable                0                2   \n",
       "32      German Shepherd     Black                0                2   \n",
       "48              Pointer  Tricolor                0                2   \n",
       "\n",
       "    sex_upon_outcome_int  new_breed_int  new_color_int  \n",
       "12                     0              0              0  \n",
       "14                     0              1              1  \n",
       "22                     0              2              2  \n",
       "32                     1              3              0  \n",
       "48                     1              4              3  "
      ]
     },
     "execution_count": 43,
     "metadata": {},
     "output_type": "execute_result"
    }
   ],
   "source": [
    "#breed and color coulmns to int (for visualizations)\n",
    "new_breed_int = df['new_breed'].unique().tolist()\n",
    "create_dict(new_breed_int)\n",
    "df['new_breed_int']=df['new_breed'].map(create_dict(new_breed_int))\n",
    "\n",
    "new_color_int = df['new_color'].unique().tolist()\n",
    "create_dict(new_color_int)\n",
    "df['new_color_int']=df['new_color'].map(create_dict(new_color_int))\n",
    "df.head()"
   ]
  },
  {
   "cell_type": "code",
   "execution_count": 44,
   "metadata": {},
   "outputs": [
    {
     "data": {
      "text/plain": [
       "Index(['outcome_type', 'animal_id_intake', 'age_upon_outcome_(years)',\n",
       "       'outcome_datetime', 'outcome_monthyear', 'animal_type',\n",
       "       'intake_condition', 'intake_type', 'sex_upon_outcome',\n",
       "       'age_upon_intake_(years)', 'intake_datetime', 'intake_monthyear',\n",
       "       'time_in_shelter_days', 'new_breed', 'new_color', 'intake_cond_int',\n",
       "       'intake_type_int', 'sex_upon_outcome_int', 'new_breed_int',\n",
       "       'new_color_int'],\n",
       "      dtype='object')"
      ]
     },
     "execution_count": 44,
     "metadata": {},
     "output_type": "execute_result"
    }
   ],
   "source": [
    "df.columns"
   ]
  },
  {
   "cell_type": "code",
   "execution_count": 45,
   "metadata": {},
   "outputs": [
    {
     "data": {
      "text/plain": [
       "<matplotlib.axes._subplots.AxesSubplot at 0x7fdd4ce178e0>"
      ]
     },
     "execution_count": 45,
     "metadata": {},
     "output_type": "execute_result"
    },
    {
     "data": {
      "image/png": "[encoded data removed]",
      "text/plain": [
       "<Figure size 432x288 with 2 Axes>"
      ]
     },
     "metadata": {},
     "output_type": "display_data"
    }
   ],
   "source": [
    "#heatmap looking for any correlated data\n",
    "plot_data = df[['new_breed_int', 'new_color_int','age_upon_outcome_(years)', 'intake_cond_int', 'time_in_shelter_days']]\n",
    "sns.set_theme(style=\"ticks\")\n",
    "\n",
    "sns.heatmap(plot_data.corr(), annot=True) \n",
    "#looks like age and time in shelter have slight correlation\n",
    "#breed and color also have a slight correlation--to be expected"
   ]
  },
  {
   "cell_type": "code",
   "execution_count": 46,
   "metadata": {},
   "outputs": [
    {
     "data": {
      "text/plain": [
       "<matplotlib.axes._subplots.AxesSubplot at 0x7fdd4c732460>"
      ]
     },
     "execution_count": 46,
     "metadata": {},
     "output_type": "execute_result"
    },
    {
     "data": {
      "image/png": "[encoded data removed]",
      "text/plain": [
       "<Figure size 432x288 with 1 Axes>"
      ]
     },
     "metadata": {},
     "output_type": "display_data"
    }
   ],
   "source": [
    "sns.scatterplot(x = df['age_upon_outcome_(years)'], y=df['time_in_shelter_days'])"
   ]
  },
  {
   "cell_type": "code",
   "execution_count": 47,
   "metadata": {},
   "outputs": [
    {
     "data": {
      "text/plain": [
       "<seaborn.axisgrid.PairGrid at 0x7fdd4e221910>"
      ]
     },
     "execution_count": 47,
     "metadata": {},
     "output_type": "execute_result"
    },
    {
     "data": {
      "image/png": "[encoded data removed]",
      "text/plain": [
       "<Figure size 720x720 with 20 Axes>"
      ]
     },
     "metadata": {},
     "output_type": "display_data"
    }
   ],
   "source": [
    "plot_data = df[['outcome_type', 'new_color_int', 'new_breed_int','age_upon_outcome_(years)', 'time_in_shelter_days']]\n",
    "sns.set_theme(style=\"ticks\")\n",
    "\n",
    "sns.pairplot(plot_data)"
   ]
  },
  {
   "cell_type": "code",
   "execution_count": 48,
   "metadata": {},
   "outputs": [],
   "source": [
    "#create dummy variables\n",
    "df = pd.get_dummies(df, columns=['new_breed', 'new_color'], prefix=['breed', 'color'])\n"
   ]
  },
  {
   "cell_type": "code",
   "execution_count": 49,
   "metadata": {},
   "outputs": [
    {
     "data": {
      "text/plain": [
       "Index(['outcome_type', 'animal_id_intake', 'age_upon_outcome_(years)',\n",
       "       'outcome_datetime', 'outcome_monthyear', 'animal_type',\n",
       "       'intake_condition', 'intake_type', 'sex_upon_outcome',\n",
       "       'age_upon_intake_(years)', 'intake_datetime', 'intake_monthyear',\n",
       "       'time_in_shelter_days', 'intake_cond_int', 'intake_type_int',\n",
       "       'sex_upon_outcome_int', 'new_breed_int', 'new_color_int',\n",
       "       'breed_Anatol Shepherd', 'breed_Australian Cattle Dog',\n",
       "       'breed_Australian Kelpie', 'breed_Australian Shepherd', 'breed_Beagle',\n",
       "       'breed_Black Mouth Cur', 'breed_Border Collie', 'breed_Boxer',\n",
       "       'breed_Cairn Terrier', 'breed_Catahoula', 'breed_Chihuahua Longhair',\n",
       "       'breed_Chihuahua Shorthair', 'breed_Dachshund', 'breed_German Shepherd',\n",
       "       'breed_Great Pyrenees', 'breed_Jack Russell Terrier',\n",
       "       'breed_Labrador Retriever', 'breed_Miniature Poodle',\n",
       "       'breed_Miniature Schnauzer', 'breed_Pit Bull', 'breed_Plott Hound',\n",
       "       'breed_Pointer', 'breed_Rat Terrier', 'breed_Rottweiler',\n",
       "       'breed_Siberian Husky', 'breed_Staffordshire',\n",
       "       'breed_Yorkshire Terrier', 'color_Black', 'color_Blue', 'color_Brown',\n",
       "       'color_Brown Brindle', 'color_Buff', 'color_Gray', 'color_Red',\n",
       "       'color_Sable', 'color_Tan', 'color_Tricolor', 'color_White',\n",
       "       'color_Yellow'],\n",
       "      dtype='object')"
      ]
     },
     "execution_count": 49,
     "metadata": {},
     "output_type": "execute_result"
    }
   ],
   "source": [
    "df.columns"
   ]
  },
  {
   "cell_type": "code",
   "execution_count": 50,
   "metadata": {},
   "outputs": [
    {
     "data": {
      "text/plain": [
       "1.0     3686\n",
       "2.0     2743\n",
       "0.1     1468\n",
       "0.2     1463\n",
       "3.0     1118\n",
       "0.7      702\n",
       "4.0      585\n",
       "0.3      524\n",
       "0.4      520\n",
       "5.0      508\n",
       "0.6      355\n",
       "6.0      340\n",
       "0.5      339\n",
       "0.0      315\n",
       "7.0      260\n",
       "8.0      252\n",
       "0.8      209\n",
       "0.9      161\n",
       "10.0     147\n",
       "9.0      140\n",
       "12.0      74\n",
       "11.0      52\n",
       "13.0      21\n",
       "15.0      12\n",
       "14.0       8\n",
       "16.0       4\n",
       "17.0       1\n",
       "18.0       1\n",
       "Name: age_upon_intake_(years), dtype: int64"
      ]
     },
     "execution_count": 50,
     "metadata": {},
     "output_type": "execute_result"
    }
   ],
   "source": [
    "df['age_upon_intake_(years)'].value_counts()"
   ]
  },
  {
   "cell_type": "code",
   "execution_count": 51,
   "metadata": {},
   "outputs": [
    {
     "data": {
      "image/png": "[encoded data removed]",
      "text/plain": [
       "<Figure size 432x288 with 1 Axes>"
      ]
     },
     "metadata": {},
     "output_type": "display_data"
    }
   ],
   "source": [
    "a = df[df['outcome_type'] == 'Adoption']['age_upon_outcome_(years)']\n",
    "data = df[df['outcome_type'] == 'Adoption'] ['time_in_shelter_days']\n",
    "plt.plot(a, data, marker = '.', linestyle='none')\n",
    "plt.xlabel('age')\n",
    "plt.ylabel('time in shelter')\n",
    "plt.show()"
   ]
  },
  {
   "cell_type": "code",
   "execution_count": 55,
   "metadata": {},
   "outputs": [
    {
     "data": {
      "text/plain": [
       "<matplotlib.axes._subplots.AxesSubplot at 0x7f4195f6ea90>"
      ]
     },
     "execution_count": 55,
     "metadata": {},
     "output_type": "execute_result"
    },
    {
     "data": {
      "image/png": "[encoded data removed]",
      "text/plain": [
       "<Figure size 432x288 with 1 Axes>"
      ]
     },
     "metadata": {},
     "output_type": "display_data"
    }
   ],
   "source": [
    "sns.histplot(data=df, x = 'time_in_shelter_days')"
   ]
  },
  {
   "cell_type": "code",
   "execution_count": 53,
   "metadata": {},
   "outputs": [
    {
     "data": {
      "text/html": [
       "<div>\n",
       "<style scoped>\n",
       "    .dataframe tbody tr th:only-of-type {\n",
       "        vertical-align: middle;\n",
       "    }\n",
       "\n",
       "    .dataframe tbody tr th {\n",
       "        vertical-align: top;\n",
       "    }\n",
       "\n",
       "    .dataframe thead th {\n",
       "        text-align: right;\n",
       "    }\n",
       "</style>\n",
       "<table border=\"1\" class=\"dataframe\">\n",
       "  <thead>\n",
       "    <tr style=\"text-align: right;\">\n",
       "      <th></th>\n",
       "      <th>intake_type_int</th>\n",
       "      <th>sex_upon_outcome_int</th>\n",
       "    </tr>\n",
       "  </thead>\n",
       "  <tbody>\n",
       "    <tr>\n",
       "      <th>12</th>\n",
       "      <td>0</td>\n",
       "      <td>0</td>\n",
       "    </tr>\n",
       "    <tr>\n",
       "      <th>14</th>\n",
       "      <td>1</td>\n",
       "      <td>0</td>\n",
       "    </tr>\n",
       "    <tr>\n",
       "      <th>22</th>\n",
       "      <td>2</td>\n",
       "      <td>0</td>\n",
       "    </tr>\n",
       "    <tr>\n",
       "      <th>32</th>\n",
       "      <td>2</td>\n",
       "      <td>1</td>\n",
       "    </tr>\n",
       "    <tr>\n",
       "      <th>48</th>\n",
       "      <td>2</td>\n",
       "      <td>1</td>\n",
       "    </tr>\n",
       "  </tbody>\n",
       "</table>\n",
       "</div>"
      ],
      "text/plain": [
       "    intake_type_int  sex_upon_outcome_int\n",
       "12                0                     0\n",
       "14                1                     0\n",
       "22                2                     0\n",
       "32                2                     1\n",
       "48                2                     1"
      ]
     },
     "execution_count": 53,
     "metadata": {},
     "output_type": "execute_result"
    }
   ],
   "source": [
    "df[['intake_type_int', 'sex_upon_outcome_int']].head()"
   ]
  },
  {
   "cell_type": "code",
   "execution_count": null,
   "metadata": {},
   "outputs": [],
   "source": []
  },
  {
   "cell_type": "code",
   "execution_count": 54,
   "metadata": {},
   "outputs": [],
   "source": [
    "df.to_csv('dog_adoption2')"
   ]
  },
  {
   "cell_type": "code",
   "execution_count": null,
   "metadata": {},
   "outputs": [],
   "source": []
  },
  {
   "cell_type": "code",
   "execution_count": null,
   "metadata": {},
   "outputs": [],
   "source": []
  }
 ],
 "metadata": {
  "kernelspec": {
   "display_name": "Python 3",
   "language": "python",
   "name": "python3"
  },
  "language_info": {
   "codemirror_mode": {
    "name": "ipython",
    "version": 3
   },
   "file_extension": ".py",
   "mimetype": "text/x-python",
   "name": "python",
   "nbconvert_exporter": "python",
   "pygments_lexer": "ipython3",
   "version": "3.8.3"
  }
 },
 "nbformat": 4,
 "nbformat_minor": 4
}
