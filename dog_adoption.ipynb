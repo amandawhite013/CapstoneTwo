{
 "cells": [
  {
   "cell_type": "code",
   "execution_count": 1,
   "metadata": {},
   "outputs": [],
   "source": [
    "# https://www.kaggle.com/aaronschlegel/austin-animal-center-shelter-outcomes-and"
   ]
  },
  {
   "cell_type": "code",
   "execution_count": 2,
   "metadata": {},
   "outputs": [],
   "source": [
    "import pandas as pd\n",
    "import datetime\n",
    "import seaborn as sns\n",
    "import matplotlib.pyplot as plt"
   ]
  },
  {
   "cell_type": "code",
   "execution_count": 3,
   "metadata": {},
   "outputs": [],
   "source": [
    "#Only using data from one large shelter so that adoption policies and strategies are the same \n",
    "austin_raw_data = pd.read_csv('raw_data/aac_intakes_outcomes.csv')"
   ]
  },
  {
   "cell_type": "markdown",
   "metadata": {},
   "source": [
    "# 1. Selecting columns and dogs as animal type"
   ]
  },
  {
   "cell_type": "code",
   "execution_count": 4,
   "metadata": {
    "scrolled": false
   },
   "outputs": [
    {
     "data": {
      "text/plain": [
       "Index(['age_upon_outcome', 'animal_id_outcome', 'date_of_birth',\n",
       "       'outcome_subtype', 'outcome_type', 'sex_upon_outcome',\n",
       "       'age_upon_outcome_(days)', 'age_upon_outcome_(years)',\n",
       "       'age_upon_outcome_age_group', 'outcome_datetime', 'outcome_month',\n",
       "       'outcome_year', 'outcome_monthyear', 'outcome_weekday', 'outcome_hour',\n",
       "       'outcome_number', 'dob_year', 'dob_month', 'dob_monthyear',\n",
       "       'age_upon_intake', 'animal_id_intake', 'animal_type', 'breed', 'color',\n",
       "       'found_location', 'intake_condition', 'intake_type', 'sex_upon_intake',\n",
       "       'count', 'age_upon_intake_(days)', 'age_upon_intake_(years)',\n",
       "       'age_upon_intake_age_group', 'intake_datetime', 'intake_month',\n",
       "       'intake_year', 'intake_monthyear', 'intake_weekday', 'intake_hour',\n",
       "       'intake_number', 'time_in_shelter', 'time_in_shelter_days'],\n",
       "      dtype='object')"
      ]
     },
     "execution_count": 4,
     "metadata": {},
     "output_type": "execute_result"
    }
   ],
   "source": [
    "austin_raw_data.columns"
   ]
  },
  {
   "cell_type": "code",
   "execution_count": null,
   "metadata": {},
   "outputs": [],
   "source": []
  },
  {
   "cell_type": "code",
   "execution_count": 5,
   "metadata": {},
   "outputs": [
    {
     "data": {
      "text/plain": [
       "array(['Dog', 'Cat', 'Other', 'Bird'], dtype=object)"
      ]
     },
     "execution_count": 5,
     "metadata": {},
     "output_type": "execute_result"
    }
   ],
   "source": [
    "#how many animal types are included?\n",
    "austin_raw_data['animal_type'].unique()"
   ]
  },
  {
   "cell_type": "code",
   "execution_count": 6,
   "metadata": {},
   "outputs": [
    {
     "data": {
      "text/html": [
       "<div>\n",
       "<style scoped>\n",
       "    .dataframe tbody tr th:only-of-type {\n",
       "        vertical-align: middle;\n",
       "    }\n",
       "\n",
       "    .dataframe tbody tr th {\n",
       "        vertical-align: top;\n",
       "    }\n",
       "\n",
       "    .dataframe thead th {\n",
       "        text-align: right;\n",
       "    }\n",
       "</style>\n",
       "<table border=\"1\" class=\"dataframe\">\n",
       "  <thead>\n",
       "    <tr style=\"text-align: right;\">\n",
       "      <th></th>\n",
       "      <th>age_upon_outcome</th>\n",
       "      <th>animal_id_outcome</th>\n",
       "      <th>date_of_birth</th>\n",
       "      <th>outcome_subtype</th>\n",
       "      <th>outcome_type</th>\n",
       "      <th>sex_upon_outcome</th>\n",
       "      <th>age_upon_outcome_(days)</th>\n",
       "      <th>age_upon_outcome_(years)</th>\n",
       "      <th>age_upon_outcome_age_group</th>\n",
       "      <th>outcome_datetime</th>\n",
       "      <th>...</th>\n",
       "      <th>age_upon_intake_age_group</th>\n",
       "      <th>intake_datetime</th>\n",
       "      <th>intake_month</th>\n",
       "      <th>intake_year</th>\n",
       "      <th>intake_monthyear</th>\n",
       "      <th>intake_weekday</th>\n",
       "      <th>intake_hour</th>\n",
       "      <th>intake_number</th>\n",
       "      <th>time_in_shelter</th>\n",
       "      <th>time_in_shelter_days</th>\n",
       "    </tr>\n",
       "  </thead>\n",
       "  <tbody>\n",
       "    <tr>\n",
       "      <th>0</th>\n",
       "      <td>10 years</td>\n",
       "      <td>A006100</td>\n",
       "      <td>2007-07-09 00:00:00</td>\n",
       "      <td>NaN</td>\n",
       "      <td>Return to Owner</td>\n",
       "      <td>Neutered Male</td>\n",
       "      <td>3650</td>\n",
       "      <td>10.0</td>\n",
       "      <td>(7.5, 10.0]</td>\n",
       "      <td>2017-12-07 14:07:00</td>\n",
       "      <td>...</td>\n",
       "      <td>(7.5, 10.0]</td>\n",
       "      <td>2017-12-07 00:00:00</td>\n",
       "      <td>12</td>\n",
       "      <td>2017</td>\n",
       "      <td>2017-12</td>\n",
       "      <td>Thursday</td>\n",
       "      <td>14</td>\n",
       "      <td>1.0</td>\n",
       "      <td>0 days 14:07:00.000000000</td>\n",
       "      <td>0.588194</td>\n",
       "    </tr>\n",
       "    <tr>\n",
       "      <th>1</th>\n",
       "      <td>7 years</td>\n",
       "      <td>A006100</td>\n",
       "      <td>2007-07-09 00:00:00</td>\n",
       "      <td>NaN</td>\n",
       "      <td>Return to Owner</td>\n",
       "      <td>Neutered Male</td>\n",
       "      <td>2555</td>\n",
       "      <td>7.0</td>\n",
       "      <td>(5.0, 7.5]</td>\n",
       "      <td>2014-12-20 16:35:00</td>\n",
       "      <td>...</td>\n",
       "      <td>(5.0, 7.5]</td>\n",
       "      <td>2014-12-19 10:21:00</td>\n",
       "      <td>12</td>\n",
       "      <td>2014</td>\n",
       "      <td>2014-12</td>\n",
       "      <td>Friday</td>\n",
       "      <td>10</td>\n",
       "      <td>2.0</td>\n",
       "      <td>1 days 06:14:00.000000000</td>\n",
       "      <td>1.259722</td>\n",
       "    </tr>\n",
       "    <tr>\n",
       "      <th>2</th>\n",
       "      <td>6 years</td>\n",
       "      <td>A006100</td>\n",
       "      <td>2007-07-09 00:00:00</td>\n",
       "      <td>NaN</td>\n",
       "      <td>Return to Owner</td>\n",
       "      <td>Neutered Male</td>\n",
       "      <td>2190</td>\n",
       "      <td>6.0</td>\n",
       "      <td>(5.0, 7.5]</td>\n",
       "      <td>2014-03-08 17:10:00</td>\n",
       "      <td>...</td>\n",
       "      <td>(5.0, 7.5]</td>\n",
       "      <td>2014-03-07 14:26:00</td>\n",
       "      <td>3</td>\n",
       "      <td>2014</td>\n",
       "      <td>2014-03</td>\n",
       "      <td>Friday</td>\n",
       "      <td>14</td>\n",
       "      <td>3.0</td>\n",
       "      <td>1 days 02:44:00.000000000</td>\n",
       "      <td>1.113889</td>\n",
       "    </tr>\n",
       "    <tr>\n",
       "      <th>3</th>\n",
       "      <td>10 years</td>\n",
       "      <td>A047759</td>\n",
       "      <td>2004-04-02 00:00:00</td>\n",
       "      <td>Partner</td>\n",
       "      <td>Transfer</td>\n",
       "      <td>Neutered Male</td>\n",
       "      <td>3650</td>\n",
       "      <td>10.0</td>\n",
       "      <td>(7.5, 10.0]</td>\n",
       "      <td>2014-04-07 15:12:00</td>\n",
       "      <td>...</td>\n",
       "      <td>(7.5, 10.0]</td>\n",
       "      <td>2014-04-02 15:55:00</td>\n",
       "      <td>4</td>\n",
       "      <td>2014</td>\n",
       "      <td>2014-04</td>\n",
       "      <td>Wednesday</td>\n",
       "      <td>15</td>\n",
       "      <td>1.0</td>\n",
       "      <td>4 days 23:17:00.000000000</td>\n",
       "      <td>4.970139</td>\n",
       "    </tr>\n",
       "    <tr>\n",
       "      <th>4</th>\n",
       "      <td>16 years</td>\n",
       "      <td>A134067</td>\n",
       "      <td>1997-10-16 00:00:00</td>\n",
       "      <td>NaN</td>\n",
       "      <td>Return to Owner</td>\n",
       "      <td>Neutered Male</td>\n",
       "      <td>5840</td>\n",
       "      <td>16.0</td>\n",
       "      <td>(15.0, 17.5]</td>\n",
       "      <td>2013-11-16 11:54:00</td>\n",
       "      <td>...</td>\n",
       "      <td>(15.0, 17.5]</td>\n",
       "      <td>2013-11-16 09:02:00</td>\n",
       "      <td>11</td>\n",
       "      <td>2013</td>\n",
       "      <td>2013-11</td>\n",
       "      <td>Saturday</td>\n",
       "      <td>9</td>\n",
       "      <td>1.0</td>\n",
       "      <td>0 days 02:52:00.000000000</td>\n",
       "      <td>0.119444</td>\n",
       "    </tr>\n",
       "  </tbody>\n",
       "</table>\n",
       "<p>5 rows × 41 columns</p>\n",
       "</div>"
      ],
      "text/plain": [
       "  age_upon_outcome animal_id_outcome        date_of_birth outcome_subtype  \\\n",
       "0         10 years           A006100  2007-07-09 00:00:00             NaN   \n",
       "1          7 years           A006100  2007-07-09 00:00:00             NaN   \n",
       "2          6 years           A006100  2007-07-09 00:00:00             NaN   \n",
       "3         10 years           A047759  2004-04-02 00:00:00         Partner   \n",
       "4         16 years           A134067  1997-10-16 00:00:00             NaN   \n",
       "\n",
       "      outcome_type sex_upon_outcome  age_upon_outcome_(days)  \\\n",
       "0  Return to Owner    Neutered Male                     3650   \n",
       "1  Return to Owner    Neutered Male                     2555   \n",
       "2  Return to Owner    Neutered Male                     2190   \n",
       "3         Transfer    Neutered Male                     3650   \n",
       "4  Return to Owner    Neutered Male                     5840   \n",
       "\n",
       "   age_upon_outcome_(years) age_upon_outcome_age_group     outcome_datetime  \\\n",
       "0                      10.0                (7.5, 10.0]  2017-12-07 14:07:00   \n",
       "1                       7.0                 (5.0, 7.5]  2014-12-20 16:35:00   \n",
       "2                       6.0                 (5.0, 7.5]  2014-03-08 17:10:00   \n",
       "3                      10.0                (7.5, 10.0]  2014-04-07 15:12:00   \n",
       "4                      16.0               (15.0, 17.5]  2013-11-16 11:54:00   \n",
       "\n",
       "   ...  age_upon_intake_age_group      intake_datetime intake_month  \\\n",
       "0  ...                (7.5, 10.0]  2017-12-07 00:00:00           12   \n",
       "1  ...                 (5.0, 7.5]  2014-12-19 10:21:00           12   \n",
       "2  ...                 (5.0, 7.5]  2014-03-07 14:26:00            3   \n",
       "3  ...                (7.5, 10.0]  2014-04-02 15:55:00            4   \n",
       "4  ...               (15.0, 17.5]  2013-11-16 09:02:00           11   \n",
       "\n",
       "  intake_year  intake_monthyear  intake_weekday  intake_hour  intake_number  \\\n",
       "0        2017           2017-12        Thursday           14            1.0   \n",
       "1        2014           2014-12          Friday           10            2.0   \n",
       "2        2014           2014-03          Friday           14            3.0   \n",
       "3        2014           2014-04       Wednesday           15            1.0   \n",
       "4        2013           2013-11        Saturday            9            1.0   \n",
       "\n",
       "             time_in_shelter time_in_shelter_days  \n",
       "0  0 days 14:07:00.000000000             0.588194  \n",
       "1  1 days 06:14:00.000000000             1.259722  \n",
       "2  1 days 02:44:00.000000000             1.113889  \n",
       "3  4 days 23:17:00.000000000             4.970139  \n",
       "4  0 days 02:52:00.000000000             0.119444  \n",
       "\n",
       "[5 rows x 41 columns]"
      ]
     },
     "execution_count": 6,
     "metadata": {},
     "output_type": "execute_result"
    }
   ],
   "source": [
    "#only select dogs\n",
    "austin_data = austin_raw_data[austin_raw_data['animal_type'] == 'Dog']\n",
    "austin_data.head()"
   ]
  },
  {
   "cell_type": "code",
   "execution_count": 7,
   "metadata": {},
   "outputs": [],
   "source": [
    "#drop redundant, irrelevant or columns missing many values \n",
    "new_columns = ['outcome_type', 'animal_id_intake',\n",
    "        'age_upon_outcome_(years)',\n",
    "       'outcome_datetime',\n",
    "       'outcome_monthyear',  'animal_type', 'breed', 'color',\n",
    "       'intake_condition', 'intake_type', 'sex_upon_outcome',\n",
    "       'age_upon_intake_(years)',\n",
    "        'intake_datetime', \n",
    "        'intake_monthyear', \n",
    "       'intake_number', 'time_in_shelter_days'] "
   ]
  },
  {
   "cell_type": "code",
   "execution_count": 8,
   "metadata": {},
   "outputs": [
    {
     "data": {
      "text/html": [
       "<div>\n",
       "<style scoped>\n",
       "    .dataframe tbody tr th:only-of-type {\n",
       "        vertical-align: middle;\n",
       "    }\n",
       "\n",
       "    .dataframe tbody tr th {\n",
       "        vertical-align: top;\n",
       "    }\n",
       "\n",
       "    .dataframe thead th {\n",
       "        text-align: right;\n",
       "    }\n",
       "</style>\n",
       "<table border=\"1\" class=\"dataframe\">\n",
       "  <thead>\n",
       "    <tr style=\"text-align: right;\">\n",
       "      <th></th>\n",
       "      <th>outcome_type</th>\n",
       "      <th>animal_id_intake</th>\n",
       "      <th>age_upon_outcome_(years)</th>\n",
       "      <th>outcome_datetime</th>\n",
       "      <th>outcome_monthyear</th>\n",
       "      <th>animal_type</th>\n",
       "      <th>breed</th>\n",
       "      <th>color</th>\n",
       "      <th>intake_condition</th>\n",
       "      <th>intake_type</th>\n",
       "      <th>sex_upon_outcome</th>\n",
       "      <th>age_upon_intake_(years)</th>\n",
       "      <th>intake_datetime</th>\n",
       "      <th>intake_monthyear</th>\n",
       "      <th>intake_number</th>\n",
       "      <th>time_in_shelter_days</th>\n",
       "    </tr>\n",
       "  </thead>\n",
       "  <tbody>\n",
       "    <tr>\n",
       "      <th>0</th>\n",
       "      <td>Return to Owner</td>\n",
       "      <td>A006100</td>\n",
       "      <td>10.0</td>\n",
       "      <td>2017-12-07 14:07:00</td>\n",
       "      <td>2017-12</td>\n",
       "      <td>Dog</td>\n",
       "      <td>Spinone Italiano Mix</td>\n",
       "      <td>Yellow/White</td>\n",
       "      <td>Normal</td>\n",
       "      <td>Stray</td>\n",
       "      <td>Neutered Male</td>\n",
       "      <td>10.0</td>\n",
       "      <td>2017-12-07 00:00:00</td>\n",
       "      <td>2017-12</td>\n",
       "      <td>1.0</td>\n",
       "      <td>0.588194</td>\n",
       "    </tr>\n",
       "    <tr>\n",
       "      <th>1</th>\n",
       "      <td>Return to Owner</td>\n",
       "      <td>A006100</td>\n",
       "      <td>7.0</td>\n",
       "      <td>2014-12-20 16:35:00</td>\n",
       "      <td>2014-12</td>\n",
       "      <td>Dog</td>\n",
       "      <td>Spinone Italiano Mix</td>\n",
       "      <td>Yellow/White</td>\n",
       "      <td>Normal</td>\n",
       "      <td>Public Assist</td>\n",
       "      <td>Neutered Male</td>\n",
       "      <td>7.0</td>\n",
       "      <td>2014-12-19 10:21:00</td>\n",
       "      <td>2014-12</td>\n",
       "      <td>2.0</td>\n",
       "      <td>1.259722</td>\n",
       "    </tr>\n",
       "    <tr>\n",
       "      <th>2</th>\n",
       "      <td>Return to Owner</td>\n",
       "      <td>A006100</td>\n",
       "      <td>6.0</td>\n",
       "      <td>2014-03-08 17:10:00</td>\n",
       "      <td>2014-03</td>\n",
       "      <td>Dog</td>\n",
       "      <td>Spinone Italiano Mix</td>\n",
       "      <td>Yellow/White</td>\n",
       "      <td>Normal</td>\n",
       "      <td>Public Assist</td>\n",
       "      <td>Neutered Male</td>\n",
       "      <td>6.0</td>\n",
       "      <td>2014-03-07 14:26:00</td>\n",
       "      <td>2014-03</td>\n",
       "      <td>3.0</td>\n",
       "      <td>1.113889</td>\n",
       "    </tr>\n",
       "    <tr>\n",
       "      <th>3</th>\n",
       "      <td>Transfer</td>\n",
       "      <td>A047759</td>\n",
       "      <td>10.0</td>\n",
       "      <td>2014-04-07 15:12:00</td>\n",
       "      <td>2014-04</td>\n",
       "      <td>Dog</td>\n",
       "      <td>Dachshund</td>\n",
       "      <td>Tricolor</td>\n",
       "      <td>Normal</td>\n",
       "      <td>Owner Surrender</td>\n",
       "      <td>Neutered Male</td>\n",
       "      <td>10.0</td>\n",
       "      <td>2014-04-02 15:55:00</td>\n",
       "      <td>2014-04</td>\n",
       "      <td>1.0</td>\n",
       "      <td>4.970139</td>\n",
       "    </tr>\n",
       "    <tr>\n",
       "      <th>4</th>\n",
       "      <td>Return to Owner</td>\n",
       "      <td>A134067</td>\n",
       "      <td>16.0</td>\n",
       "      <td>2013-11-16 11:54:00</td>\n",
       "      <td>2013-11</td>\n",
       "      <td>Dog</td>\n",
       "      <td>Shetland Sheepdog</td>\n",
       "      <td>Brown/White</td>\n",
       "      <td>Injured</td>\n",
       "      <td>Public Assist</td>\n",
       "      <td>Neutered Male</td>\n",
       "      <td>16.0</td>\n",
       "      <td>2013-11-16 09:02:00</td>\n",
       "      <td>2013-11</td>\n",
       "      <td>1.0</td>\n",
       "      <td>0.119444</td>\n",
       "    </tr>\n",
       "  </tbody>\n",
       "</table>\n",
       "</div>"
      ],
      "text/plain": [
       "      outcome_type animal_id_intake  age_upon_outcome_(years)  \\\n",
       "0  Return to Owner          A006100                      10.0   \n",
       "1  Return to Owner          A006100                       7.0   \n",
       "2  Return to Owner          A006100                       6.0   \n",
       "3         Transfer          A047759                      10.0   \n",
       "4  Return to Owner          A134067                      16.0   \n",
       "\n",
       "      outcome_datetime outcome_monthyear animal_type                 breed  \\\n",
       "0  2017-12-07 14:07:00           2017-12         Dog  Spinone Italiano Mix   \n",
       "1  2014-12-20 16:35:00           2014-12         Dog  Spinone Italiano Mix   \n",
       "2  2014-03-08 17:10:00           2014-03         Dog  Spinone Italiano Mix   \n",
       "3  2014-04-07 15:12:00           2014-04         Dog             Dachshund   \n",
       "4  2013-11-16 11:54:00           2013-11         Dog     Shetland Sheepdog   \n",
       "\n",
       "          color intake_condition      intake_type sex_upon_outcome  \\\n",
       "0  Yellow/White           Normal            Stray    Neutered Male   \n",
       "1  Yellow/White           Normal    Public Assist    Neutered Male   \n",
       "2  Yellow/White           Normal    Public Assist    Neutered Male   \n",
       "3      Tricolor           Normal  Owner Surrender    Neutered Male   \n",
       "4   Brown/White          Injured    Public Assist    Neutered Male   \n",
       "\n",
       "   age_upon_intake_(years)      intake_datetime intake_monthyear  \\\n",
       "0                     10.0  2017-12-07 00:00:00          2017-12   \n",
       "1                      7.0  2014-12-19 10:21:00          2014-12   \n",
       "2                      6.0  2014-03-07 14:26:00          2014-03   \n",
       "3                     10.0  2014-04-02 15:55:00          2014-04   \n",
       "4                     16.0  2013-11-16 09:02:00          2013-11   \n",
       "\n",
       "   intake_number  time_in_shelter_days  \n",
       "0            1.0              0.588194  \n",
       "1            2.0              1.259722  \n",
       "2            3.0              1.113889  \n",
       "3            1.0              4.970139  \n",
       "4            1.0              0.119444  "
      ]
     },
     "execution_count": 8,
     "metadata": {},
     "output_type": "execute_result"
    }
   ],
   "source": [
    "austin_data = austin_data.loc[:, new_columns]\n",
    "austin_data.head()"
   ]
  },
  {
   "cell_type": "code",
   "execution_count": 9,
   "metadata": {},
   "outputs": [
    {
     "data": {
      "text/plain": [
       "(45366, 16)"
      ]
     },
     "execution_count": 9,
     "metadata": {},
     "output_type": "execute_result"
    }
   ],
   "source": [
    "austin_data.shape"
   ]
  },
  {
   "cell_type": "code",
   "execution_count": null,
   "metadata": {},
   "outputs": [],
   "source": []
  },
  {
   "cell_type": "markdown",
   "metadata": {},
   "source": [
    "# 2. Null values, data types, and value counts"
   ]
  },
  {
   "cell_type": "code",
   "execution_count": 10,
   "metadata": {},
   "outputs": [
    {
     "data": {
      "text/plain": [
       "Index(['outcome_type', 'sex_upon_outcome'], dtype='object')"
      ]
     },
     "execution_count": 10,
     "metadata": {},
     "output_type": "execute_result"
    }
   ],
   "source": [
    "#finding null values\n",
    "austin_data.columns[austin_data.isna().any()]"
   ]
  },
  {
   "cell_type": "code",
   "execution_count": null,
   "metadata": {},
   "outputs": [],
   "source": []
  },
  {
   "cell_type": "code",
   "execution_count": 11,
   "metadata": {},
   "outputs": [
    {
     "data": {
      "text/plain": [
       "outcome_type                 object\n",
       "animal_id_intake             object\n",
       "age_upon_outcome_(years)    float64\n",
       "outcome_datetime             object\n",
       "outcome_monthyear            object\n",
       "animal_type                  object\n",
       "breed                        object\n",
       "color                        object\n",
       "intake_condition             object\n",
       "intake_type                  object\n",
       "sex_upon_outcome             object\n",
       "age_upon_intake_(years)     float64\n",
       "intake_datetime              object\n",
       "intake_monthyear             object\n",
       "intake_number               float64\n",
       "time_in_shelter_days        float64\n",
       "dtype: object"
      ]
     },
     "execution_count": 11,
     "metadata": {},
     "output_type": "execute_result"
    }
   ],
   "source": [
    "austin_data.dtypes"
   ]
  },
  {
   "cell_type": "code",
   "execution_count": 12,
   "metadata": {},
   "outputs": [
    {
     "data": {
      "text/plain": [
       "array([1.00000000e+01, 7.00000000e+00, 6.00000000e+00, 1.60000000e+01,\n",
       "       1.50000000e+01, 1.80000000e+01, 1.40000000e+01, 1.70000000e+01,\n",
       "       1.30000000e+01, 1.20000000e+01, 1.10000000e+01, 9.00000000e+00,\n",
       "       8.00000000e+00, 3.00000000e+00, 1.90000000e+01, 5.00000000e+00,\n",
       "       2.00000000e+01, 4.00000000e+00, 1.00000000e+00, 9.04109589e-01,\n",
       "       8.21917808e-01, 2.00000000e+00, 7.39726027e-01, 5.75342466e-01,\n",
       "       6.57534247e-01, 4.10958904e-01, 4.93150685e-01, 3.28767123e-01,\n",
       "       1.64383562e-01, 2.46575342e-01, 8.21917808e-02, 7.67123288e-02,\n",
       "       1.91780822e-02, 0.00000000e+00, 9.58904110e-02, 5.47945205e-03,\n",
       "       3.83561644e-02, 2.73972603e-03, 1.36986301e-02, 1.64383562e-02,\n",
       "       5.75342466e-02, 1.09589041e-02, 8.21917808e-03])"
      ]
     },
     "execution_count": 12,
     "metadata": {},
     "output_type": "execute_result"
    }
   ],
   "source": [
    "austin_data['age_upon_outcome_(years)'].unique()"
   ]
  },
  {
   "cell_type": "code",
   "execution_count": 13,
   "metadata": {},
   "outputs": [],
   "source": [
    "#changing age to int\n",
    "#austin_data[['age_upon_outcome_(years)', 'age_upon_intake_(years)']] = austin_data[['age_upon_outcome_(years)', 'age_upon_intake_(years)']].astype(int)"
   ]
  },
  {
   "cell_type": "code",
   "execution_count": 14,
   "metadata": {
    "scrolled": true
   },
   "outputs": [
    {
     "data": {
      "text/plain": [
       "Adoption           20581\n",
       "Return to Owner    13273\n",
       "Transfer            9697\n",
       "Euthanasia          1502\n",
       "Rto-Adopt            143\n",
       "Died                 142\n",
       "Missing               16\n",
       "Disposal              10\n",
       "Name: outcome_type, dtype: int64"
      ]
     },
     "execution_count": 14,
     "metadata": {},
     "output_type": "execute_result"
    }
   ],
   "source": [
    "austin_data['outcome_type'].value_counts()"
   ]
  },
  {
   "cell_type": "code",
   "execution_count": 15,
   "metadata": {},
   "outputs": [],
   "source": [
    "#dropping everything but adoption to avoid bias\n",
    "austin_data = austin_raw_data[austin_raw_data['outcome_type'] == 'Adoption']"
   ]
  },
  {
   "cell_type": "code",
   "execution_count": null,
   "metadata": {},
   "outputs": [],
   "source": []
  },
  {
   "cell_type": "code",
   "execution_count": 16,
   "metadata": {},
   "outputs": [
    {
     "data": {
      "text/plain": [
       "1521"
      ]
     },
     "execution_count": 16,
     "metadata": {},
     "output_type": "execute_result"
    }
   ],
   "source": [
    "#checking out breed column\n",
    "austin_data['breed'].nunique()"
   ]
  },
  {
   "cell_type": "code",
   "execution_count": 17,
   "metadata": {},
   "outputs": [
    {
     "data": {
      "text/plain": [
       "Domestic Shorthair Mix       9865\n",
       "Labrador Retriever Mix       2368\n",
       "Pit Bull Mix                 2324\n",
       "Chihuahua Shorthair Mix      2270\n",
       "Domestic Medium Hair Mix     1037\n",
       "German Shepherd Mix           922\n",
       "Australian Cattle Dog Mix     607\n",
       "Domestic Longhair Mix         578\n",
       "Siamese Mix                   455\n",
       "Dachshund Mix                 390\n",
       "Border Collie Mix             352\n",
       "Boxer Mix                     306\n",
       "Miniature Poodle Mix          275\n",
       "Catahoula Mix                 250\n",
       "Australian Shepherd Mix       219\n",
       "Jack Russell Terrier Mix      215\n",
       "Cairn Terrier Mix             209\n",
       "Staffordshire Mix             206\n",
       "Rat Terrier Mix               205\n",
       "Pointer Mix                   197\n",
       "Chihuahua Longhair Mix        188\n",
       "Siberian Husky Mix            187\n",
       "Yorkshire Terrier Mix         182\n",
       "Domestic Shorthair            179\n",
       "Beagle Mix                    173\n",
       "Miniature Schnauzer Mix       172\n",
       "Black Mouth Cur Mix           154\n",
       "Anatol Shepherd Mix           146\n",
       "Australian Kelpie Mix         141\n",
       "Great Pyrenees Mix            139\n",
       "Name: breed, dtype: int64"
      ]
     },
     "execution_count": 17,
     "metadata": {},
     "output_type": "execute_result"
    }
   ],
   "source": [
    "#the majority are followed by 'mix' \n",
    "austin_data['breed'].value_counts().head(30)"
   ]
  },
  {
   "cell_type": "code",
   "execution_count": 18,
   "metadata": {},
   "outputs": [
    {
     "name": "stderr",
     "output_type": "stream",
     "text": [
      "/home/amanda/anaconda3/lib/python3.8/site-packages/pandas/core/indexing.py:966: SettingWithCopyWarning: \n",
      "A value is trying to be set on a copy of a slice from a DataFrame.\n",
      "Try using .loc[row_indexer,col_indexer] = value instead\n",
      "\n",
      "See the caveats in the documentation: https://pandas.pydata.org/pandas-docs/stable/user_guide/indexing.html#returning-a-view-versus-a-copy\n",
      "  self.obj[item] = s\n",
      "/home/amanda/anaconda3/lib/python3.8/site-packages/pandas/core/indexing.py:845: SettingWithCopyWarning: \n",
      "A value is trying to be set on a copy of a slice from a DataFrame.\n",
      "Try using .loc[row_indexer,col_indexer] = value instead\n",
      "\n",
      "See the caveats in the documentation: https://pandas.pydata.org/pandas-docs/stable/user_guide/indexing.html#returning-a-view-versus-a-copy\n",
      "  self.obj[key] = _infer_fill_value(value)\n"
     ]
    },
    {
     "data": {
      "text/plain": [
       "276"
      ]
     },
     "execution_count": 18,
     "metadata": {},
     "output_type": "execute_result"
    }
   ],
   "source": [
    "#taking only the first breed listed \n",
    "austin_data.loc[:,'breed'] = austin_data.loc[:,'breed'].astype(str)\n",
    "austin_data.loc[:,'new_breed'] = austin_data.loc[:,'breed'].str.split(\"/\").str[0]\n",
    "austin_data.loc[:,'new_breed'] = austin_data.loc[:,'new_breed'].str.replace(' Mix', '')\n",
    "austin_data['new_breed'].nunique()"
   ]
  },
  {
   "cell_type": "code",
   "execution_count": 19,
   "metadata": {},
   "outputs": [
    {
     "data": {
      "text/plain": [
       "new_breed\n",
       "Domestic Shorthair       9550\n",
       "Labrador Retriever       2752\n",
       "Chihuahua Shorthair      2542\n",
       "Pit Bull                 2156\n",
       "German Shepherd          1072\n",
       "Domestic Medium Hair     1057\n",
       "Australian Cattle Dog     706\n",
       "Dachshund                 580\n",
       "Domestic Longhair         572\n",
       "Siamese                   466\n",
       "Border Collie             437\n",
       "Boxer                     378\n",
       "Miniature Poodle          326\n",
       "Catahoula                 293\n",
       "Jack Russell Terrier      287\n",
       "Australian Shepherd       273\n",
       "Yorkshire Terrier         255\n",
       "Beagle                    250\n",
       "Cairn Terrier             245\n",
       "Rat Terrier               240\n",
       "Name: animal_id_intake, dtype: int64"
      ]
     },
     "execution_count": 19,
     "metadata": {},
     "output_type": "execute_result"
    }
   ],
   "source": [
    "austin_data.groupby('new_breed')['animal_id_intake'].nunique().sort_values(ascending=False).head(20)"
   ]
  },
  {
   "cell_type": "code",
   "execution_count": 20,
   "metadata": {
    "scrolled": true
   },
   "outputs": [
    {
     "data": {
      "text/plain": [
       "Black/White              3738\n",
       "Black                    2692\n",
       "Brown Tabby              1871\n",
       "Tan/White                1163\n",
       "Brown/White              1110\n",
       "                         ... \n",
       "Blue Smoke/Gray             1\n",
       "Blue Tabby/Blue Cream       1\n",
       "Blue/Calico                 1\n",
       "Chocolate/Black             1\n",
       "Tortie Point/Blue           1\n",
       "Name: color, Length: 390, dtype: int64"
      ]
     },
     "execution_count": 20,
     "metadata": {},
     "output_type": "execute_result"
    }
   ],
   "source": [
    "#checking out colors\n",
    "austin_data['color'].value_counts()"
   ]
  },
  {
   "cell_type": "code",
   "execution_count": 21,
   "metadata": {},
   "outputs": [
    {
     "name": "stdout",
     "output_type": "stream",
     "text": [
      "56 390\n"
     ]
    }
   ],
   "source": [
    "#taking only the first color listed assuming that is the primary color\n",
    "austin_data.loc[:,'color'] = austin_data.loc[:,'color'].astype(str)\n",
    "austin_data.loc[:,'new_color'] = austin_data.loc[:,'color'].str.split(\"/\").str[0]\n",
    "\n",
    "print(austin_data['new_color'].nunique(), austin_data['color'].nunique())"
   ]
  },
  {
   "cell_type": "code",
   "execution_count": 22,
   "metadata": {},
   "outputs": [
    {
     "data": {
      "text/plain": [
       "age_upon_outcome              33594\n",
       "animal_id_outcome             33594\n",
       "date_of_birth                 33594\n",
       "outcome_subtype                5841\n",
       "outcome_type                  33594\n",
       "sex_upon_outcome              33594\n",
       "age_upon_outcome_(days)       33594\n",
       "age_upon_outcome_(years)      33594\n",
       "age_upon_outcome_age_group    33594\n",
       "outcome_datetime              33594\n",
       "outcome_month                 33594\n",
       "outcome_year                  33594\n",
       "outcome_monthyear             33594\n",
       "outcome_weekday               33594\n",
       "outcome_hour                  33594\n",
       "outcome_number                33594\n",
       "dob_year                      33594\n",
       "dob_month                     33594\n",
       "dob_monthyear                 33594\n",
       "age_upon_intake               33594\n",
       "animal_id_intake              33594\n",
       "animal_type                   33594\n",
       "breed                         33594\n",
       "color                         33594\n",
       "found_location                33594\n",
       "intake_condition              33594\n",
       "intake_type                   33594\n",
       "sex_upon_intake               33594\n",
       "count                         33594\n",
       "age_upon_intake_(days)        33594\n",
       "age_upon_intake_(years)       33594\n",
       "age_upon_intake_age_group     33594\n",
       "intake_datetime               33594\n",
       "intake_month                  33594\n",
       "intake_year                   33594\n",
       "intake_monthyear              33594\n",
       "intake_weekday                33594\n",
       "intake_hour                   33594\n",
       "intake_number                 33594\n",
       "time_in_shelter               33594\n",
       "time_in_shelter_days          33594\n",
       "new_breed                     33594\n",
       "new_color                     33594\n",
       "dtype: int64"
      ]
     },
     "execution_count": 22,
     "metadata": {},
     "output_type": "execute_result"
    }
   ],
   "source": [
    "austin_data.count()"
   ]
  },
  {
   "cell_type": "markdown",
   "metadata": {},
   "source": []
  },
  {
   "cell_type": "code",
   "execution_count": null,
   "metadata": {},
   "outputs": [],
   "source": []
  },
  {
   "cell_type": "markdown",
   "metadata": {},
   "source": [
    "# 4. Convert str variables to int"
   ]
  },
  {
   "cell_type": "code",
   "execution_count": 23,
   "metadata": {},
   "outputs": [],
   "source": [
    "#create function to form dictonary to create int variables\n",
    "def create_dict(items):\n",
    "        return {v: i for i, v in enumerate(items, 0)}"
   ]
  },
  {
   "cell_type": "code",
   "execution_count": 24,
   "metadata": {},
   "outputs": [
    {
     "ename": "NameError",
     "evalue": "name 'df' is not defined",
     "output_type": "error",
     "traceback": [
      "\u001b[0;31m---------------------------------------------------------------------------\u001b[0m",
      "\u001b[0;31mNameError\u001b[0m                                 Traceback (most recent call last)",
      "\u001b[0;32m<ipython-input-24-23d97238fa9d>\u001b[0m in \u001b[0;36m<module>\u001b[0;34m\u001b[0m\n\u001b[1;32m      1\u001b[0m \u001b[0;31m#create variable to apply function to\u001b[0m\u001b[0;34m\u001b[0m\u001b[0;34m\u001b[0m\u001b[0;34m\u001b[0m\u001b[0m\n\u001b[0;32m----> 2\u001b[0;31m \u001b[0mcondition\u001b[0m \u001b[0;34m=\u001b[0m \u001b[0mdf\u001b[0m\u001b[0;34m[\u001b[0m\u001b[0;34m'intake_condition'\u001b[0m\u001b[0;34m]\u001b[0m\u001b[0;34m.\u001b[0m\u001b[0munique\u001b[0m\u001b[0;34m(\u001b[0m\u001b[0;34m)\u001b[0m\u001b[0;34m.\u001b[0m\u001b[0mtolist\u001b[0m\u001b[0;34m(\u001b[0m\u001b[0;34m)\u001b[0m\u001b[0;34m\u001b[0m\u001b[0;34m\u001b[0m\u001b[0m\n\u001b[0m",
      "\u001b[0;31mNameError\u001b[0m: name 'df' is not defined"
     ]
    }
   ],
   "source": [
    "#create variable to apply function to\n",
    "condition = df['intake_condition'].unique().tolist()"
   ]
  },
  {
   "cell_type": "code",
   "execution_count": null,
   "metadata": {},
   "outputs": [],
   "source": [
    "#make dict\n",
    "create_dict(condition)"
   ]
  },
  {
   "cell_type": "code",
   "execution_count": null,
   "metadata": {},
   "outputs": [],
   "source": [
    "#map to new column\n",
    "df['intake_cond_int']=df['intake_condition'].map(create_dict(condition))\n",
    "df.head()"
   ]
  },
  {
   "cell_type": "code",
   "execution_count": null,
   "metadata": {},
   "outputs": [],
   "source": [
    "#intake type to int\n",
    "intake_type = df['intake_type'].unique().tolist()\n",
    "create_dict(intake_type)\n",
    "df['intake_type_int']=df['intake_type'].map(create_dict(intake_type))\n",
    "df.head()"
   ]
  },
  {
   "cell_type": "code",
   "execution_count": null,
   "metadata": {},
   "outputs": [],
   "source": [
    "df['sex_upon_outcome'].unique()"
   ]
  },
  {
   "cell_type": "code",
   "execution_count": null,
   "metadata": {},
   "outputs": [],
   "source": [
    "sex_upon_outcome = df['sex_upon_outcome'].unique().tolist()\n",
    "create_dict(sex_upon_outcome)\n",
    "df['sex_upon_outcome_int']=df['sex_upon_outcome'].map(create_dict(sex_upon_outcome))\n",
    "df.head()"
   ]
  },
  {
   "cell_type": "code",
   "execution_count": null,
   "metadata": {},
   "outputs": [],
   "source": []
  },
  {
   "cell_type": "code",
   "execution_count": null,
   "metadata": {},
   "outputs": [],
   "source": []
  },
  {
   "cell_type": "code",
   "execution_count": null,
   "metadata": {},
   "outputs": [],
   "source": [
    "_ = sns.histplot( x=  df['age_upon_outcome_(years)'])\n",
    "plt.figure(figsize=(8, 4))\n",
    "plt.show()"
   ]
  },
  {
   "cell_type": "code",
   "execution_count": null,
   "metadata": {},
   "outputs": [],
   "source": [
    "df.shape"
   ]
  },
  {
   "cell_type": "code",
   "execution_count": null,
   "metadata": {},
   "outputs": [],
   "source": []
  },
  {
   "cell_type": "code",
   "execution_count": null,
   "metadata": {},
   "outputs": [],
   "source": []
  },
  {
   "cell_type": "code",
   "execution_count": null,
   "metadata": {},
   "outputs": [],
   "source": [
    "#animal IDs have duplicates.. are they the same dog or is this a mistake?\n",
    "duplicates = df[df['animal_id_intake'].duplicated(keep=False)==True]\n",
    "duplicates.head() #they are the same dog\n"
   ]
  },
  {
   "cell_type": "code",
   "execution_count": null,
   "metadata": {},
   "outputs": [],
   "source": [
    "#group colors that are the same (brown = chocolate = liver, yellow = fawn, etc.)\n",
    "df['new_color'] = df['new_color'].astype(str)\n",
    "df['new_color'] = df['new_color'].str.replace('Chocolate', 'Brown')\n",
    "df['new_color'] = df['new_color'].str.replace('Liver', 'Brown')\n",
    "df['new_color'] = df['new_color'].str.replace('Fawn', 'Yellow')\n",
    "df['new_color'] = df['new_color'].str.replace('Silver', 'Gray')\n",
    "df['new_color'] = df['new_color'].str.replace('Cream', 'White')\n"
   ]
  },
  {
   "cell_type": "code",
   "execution_count": null,
   "metadata": {},
   "outputs": [],
   "source": [
    "#drop colors that make up less than 1% of the data\n",
    "\n",
    "colors = ['Black', 'Blue', 'Brown', 'Brown Brindle', 'Buff', 'Gray', 'Red', 'Sable', 'Tan', 'Tricolor', 'White', 'Yellow']\n",
    "df = df[df['new_color'].isin(colors)]\n",
    "df['new_color'].unique() #all the colors left"
   ]
  },
  {
   "cell_type": "code",
   "execution_count": null,
   "metadata": {},
   "outputs": [],
   "source": [
    "#taking 80% of the data by dropping the least common breeds to reduce noise(drop approx 5,840 rows)\n",
    "print(df['new_breed'].value_counts().sort_values(ascending=False).head(27).sum())#top 27 represent 80%\n",
    "top27 = df['new_breed'].value_counts().sort_values(ascending=False).head(27).index.tolist()\n",
    "df = df[df['new_breed'].isin(top27)] #new df \n",
    "df.shape\n"
   ]
  },
  {
   "cell_type": "code",
   "execution_count": null,
   "metadata": {},
   "outputs": [],
   "source": [
    "#drop original color and breed columns\n",
    "df = df.drop(columns=['breed' ,'color', 'animal_id_intake', 'intake_number'])"
   ]
  },
  {
   "cell_type": "code",
   "execution_count": null,
   "metadata": {},
   "outputs": [],
   "source": [
    "#breed and color coulmns to int (for visualizations)\n",
    "new_breed_int = df['new_breed'].unique().tolist()\n",
    "create_dict(new_breed_int)\n",
    "df['new_breed_int']=df['new_breed'].map(create_dict(new_breed_int))\n",
    "\n",
    "new_color_int = df['new_color'].unique().tolist()\n",
    "create_dict(new_color_int)\n",
    "df['new_color_int']=df['new_color'].map(create_dict(new_color_int))\n",
    "df.head()"
   ]
  },
  {
   "cell_type": "code",
   "execution_count": null,
   "metadata": {},
   "outputs": [],
   "source": [
    "df.columns"
   ]
  },
  {
   "cell_type": "code",
   "execution_count": null,
   "metadata": {},
   "outputs": [],
   "source": [
    "#heatmap looking for any correlated data\n",
    "plot_data = df[['new_breed_int', 'new_color_int','age_upon_outcome_(years)', 'intake_cond_int', 'time_in_shelter_days']]\n",
    "sns.set_theme(style=\"ticks\")\n",
    "\n",
    "sns.heatmap(plot_data.corr(), annot=True) \n",
    "#looks like age and time in shelter have slight correlation\n",
    "#breed and color also have a slight correlation--to be expected"
   ]
  },
  {
   "cell_type": "code",
   "execution_count": null,
   "metadata": {},
   "outputs": [],
   "source": [
    "sns.scatterplot(x = df['age_upon_outcome_(years)'], y=df['time_in_shelter_days'])"
   ]
  },
  {
   "cell_type": "code",
   "execution_count": null,
   "metadata": {},
   "outputs": [],
   "source": [
    "plot_data = df[['outcome_type', 'new_color_int', 'new_breed_int','age_upon_outcome_(years)', 'time_in_shelter_days']]\n",
    "sns.set_theme(style=\"ticks\")\n",
    "\n",
    "sns.pairplot(plot_data)"
   ]
  },
  {
   "cell_type": "code",
   "execution_count": null,
   "metadata": {},
   "outputs": [],
   "source": [
    "#create dummy variables\n",
    "df = pd.get_dummies(df, columns=['new_breed', 'new_color'], prefix=['breed', 'color'])\n"
   ]
  },
  {
   "cell_type": "code",
   "execution_count": null,
   "metadata": {},
   "outputs": [],
   "source": [
    "df.columns"
   ]
  },
  {
   "cell_type": "code",
   "execution_count": null,
   "metadata": {},
   "outputs": [],
   "source": [
    "df['age_upon_intake_(years)'].value_counts()"
   ]
  },
  {
   "cell_type": "code",
   "execution_count": null,
   "metadata": {},
   "outputs": [],
   "source": [
    "a = df[df['outcome_type'] == 'Adoption']['age_upon_outcome_(years)']\n",
    "data = df[df['outcome_type'] == 'Adoption'] ['time_in_shelter_days']\n",
    "plt.plot(a, data, marker = '.', linestyle='none')\n",
    "plt.xlabel('age')\n",
    "plt.ylabel('time in shelter')\n",
    "plt.show()"
   ]
  },
  {
   "cell_type": "code",
   "execution_count": null,
   "metadata": {},
   "outputs": [],
   "source": [
    "sns.histplot(data=df, x = 'age_upon_outcome_(years)')"
   ]
  },
  {
   "cell_type": "code",
   "execution_count": null,
   "metadata": {},
   "outputs": [],
   "source": [
    "df[['intake_type_int', 'sex_upon_outcome_int', 'outcome_type_int']].head()"
   ]
  },
  {
   "cell_type": "code",
   "execution_count": null,
   "metadata": {},
   "outputs": [],
   "source": []
  },
  {
   "cell_type": "code",
   "execution_count": null,
   "metadata": {},
   "outputs": [],
   "source": [
    "df.to_csv('dog_adoption2')"
   ]
  },
  {
   "cell_type": "code",
   "execution_count": null,
   "metadata": {},
   "outputs": [],
   "source": []
  },
  {
   "cell_type": "code",
   "execution_count": null,
   "metadata": {},
   "outputs": [],
   "source": []
  }
 ],
 "metadata": {
  "kernelspec": {
   "display_name": "Python 3",
   "language": "python",
   "name": "python3"
  },
  "language_info": {
   "codemirror_mode": {
    "name": "ipython",
    "version": 3
   },
   "file_extension": ".py",
   "mimetype": "text/x-python",
   "name": "python",
   "nbconvert_exporter": "python",
   "pygments_lexer": "ipython3",
   "version": "3.8.3"
  }
 },
 "nbformat": 4,
 "nbformat_minor": 4
}
