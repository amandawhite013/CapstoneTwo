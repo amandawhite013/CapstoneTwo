{
 "cells": [
  {
   "cell_type": "markdown",
   "metadata": {},
   "source": [
    "# Preprocessing\n",
    "Dummie variables already created"
   ]
  },
  {
   "cell_type": "code",
   "execution_count": 9,
   "metadata": {},
   "outputs": [],
   "source": [
    "import pandas as pd\n",
    "import numpy as np\n",
    "from sklearn.model_selection import train_test_split\n",
    "import matplotlib.pyplot as plt"
   ]
  },
  {
   "cell_type": "code",
   "execution_count": 3,
   "metadata": {},
   "outputs": [
    {
     "data": {
      "text/plain": [
       "(23298, 58)"
      ]
     },
     "execution_count": 3,
     "metadata": {},
     "output_type": "execute_result"
    }
   ],
   "source": [
    "df = pd.read_csv('dog_adoption2')\n",
    "df.shape"
   ]
  },
  {
   "cell_type": "markdown",
   "metadata": {},
   "source": [
    "Dropping Transfered dogs to capture how long it take for a dog to get adopted. Transfers are likely based on how busy the shelter is and not dependent on a dog's characteristics. "
   ]
  },
  {
   "cell_type": "code",
   "execution_count": 6,
   "metadata": {},
   "outputs": [
    {
     "data": {
      "text/html": [
       "<div>\n",
       "<style scoped>\n",
       "    .dataframe tbody tr th:only-of-type {\n",
       "        vertical-align: middle;\n",
       "    }\n",
       "\n",
       "    .dataframe tbody tr th {\n",
       "        vertical-align: top;\n",
       "    }\n",
       "\n",
       "    .dataframe thead th {\n",
       "        text-align: right;\n",
       "    }\n",
       "</style>\n",
       "<table border=\"1\" class=\"dataframe\">\n",
       "  <thead>\n",
       "    <tr style=\"text-align: right;\">\n",
       "      <th></th>\n",
       "      <th>Unnamed: 0</th>\n",
       "      <th>outcome_type</th>\n",
       "      <th>age_upon_outcome_(years)</th>\n",
       "      <th>outcome_datetime</th>\n",
       "      <th>outcome_monthyear</th>\n",
       "      <th>animal_type</th>\n",
       "      <th>intake_condition</th>\n",
       "      <th>intake_type</th>\n",
       "      <th>sex_upon_outcome</th>\n",
       "      <th>age_upon_intake_(years)</th>\n",
       "      <th>...</th>\n",
       "      <th>color_Brown</th>\n",
       "      <th>color_Brown Brindle</th>\n",
       "      <th>color_Buff</th>\n",
       "      <th>color_Gray</th>\n",
       "      <th>color_Red</th>\n",
       "      <th>color_Sable</th>\n",
       "      <th>color_Tan</th>\n",
       "      <th>color_Tricolor</th>\n",
       "      <th>color_White</th>\n",
       "      <th>color_Yellow</th>\n",
       "    </tr>\n",
       "  </thead>\n",
       "  <tbody>\n",
       "    <tr>\n",
       "      <th>1</th>\n",
       "      <td>12</td>\n",
       "      <td>Adoption</td>\n",
       "      <td>16</td>\n",
       "      <td>2013-11-22 09:44:00</td>\n",
       "      <td>2013-11</td>\n",
       "      <td>Dog</td>\n",
       "      <td>Normal</td>\n",
       "      <td>Owner Surrender</td>\n",
       "      <td>Neutered Male</td>\n",
       "      <td>16</td>\n",
       "      <td>...</td>\n",
       "      <td>0</td>\n",
       "      <td>0</td>\n",
       "      <td>0</td>\n",
       "      <td>0</td>\n",
       "      <td>0</td>\n",
       "      <td>0</td>\n",
       "      <td>0</td>\n",
       "      <td>0</td>\n",
       "      <td>0</td>\n",
       "      <td>0</td>\n",
       "    </tr>\n",
       "    <tr>\n",
       "      <th>2</th>\n",
       "      <td>14</td>\n",
       "      <td>Adoption</td>\n",
       "      <td>17</td>\n",
       "      <td>2016-10-07 12:34:00</td>\n",
       "      <td>2016-10</td>\n",
       "      <td>Dog</td>\n",
       "      <td>Aged</td>\n",
       "      <td>Public Assist</td>\n",
       "      <td>Neutered Male</td>\n",
       "      <td>17</td>\n",
       "      <td>...</td>\n",
       "      <td>0</td>\n",
       "      <td>0</td>\n",
       "      <td>0</td>\n",
       "      <td>0</td>\n",
       "      <td>0</td>\n",
       "      <td>0</td>\n",
       "      <td>1</td>\n",
       "      <td>0</td>\n",
       "      <td>0</td>\n",
       "      <td>0</td>\n",
       "    </tr>\n",
       "    <tr>\n",
       "      <th>3</th>\n",
       "      <td>22</td>\n",
       "      <td>Adoption</td>\n",
       "      <td>15</td>\n",
       "      <td>2015-10-29 15:00:00</td>\n",
       "      <td>2015-10</td>\n",
       "      <td>Dog</td>\n",
       "      <td>Normal</td>\n",
       "      <td>Stray</td>\n",
       "      <td>Neutered Male</td>\n",
       "      <td>15</td>\n",
       "      <td>...</td>\n",
       "      <td>0</td>\n",
       "      <td>0</td>\n",
       "      <td>0</td>\n",
       "      <td>0</td>\n",
       "      <td>0</td>\n",
       "      <td>1</td>\n",
       "      <td>0</td>\n",
       "      <td>0</td>\n",
       "      <td>0</td>\n",
       "      <td>0</td>\n",
       "    </tr>\n",
       "    <tr>\n",
       "      <th>6</th>\n",
       "      <td>32</td>\n",
       "      <td>Adoption</td>\n",
       "      <td>15</td>\n",
       "      <td>2016-11-15 10:37:00</td>\n",
       "      <td>2016-11</td>\n",
       "      <td>Dog</td>\n",
       "      <td>Normal</td>\n",
       "      <td>Stray</td>\n",
       "      <td>Spayed Female</td>\n",
       "      <td>15</td>\n",
       "      <td>...</td>\n",
       "      <td>0</td>\n",
       "      <td>0</td>\n",
       "      <td>0</td>\n",
       "      <td>0</td>\n",
       "      <td>0</td>\n",
       "      <td>0</td>\n",
       "      <td>0</td>\n",
       "      <td>0</td>\n",
       "      <td>0</td>\n",
       "      <td>0</td>\n",
       "    </tr>\n",
       "    <tr>\n",
       "      <th>7</th>\n",
       "      <td>48</td>\n",
       "      <td>Adoption</td>\n",
       "      <td>11</td>\n",
       "      <td>2013-11-16 12:24:00</td>\n",
       "      <td>2013-11</td>\n",
       "      <td>Dog</td>\n",
       "      <td>Normal</td>\n",
       "      <td>Stray</td>\n",
       "      <td>Spayed Female</td>\n",
       "      <td>11</td>\n",
       "      <td>...</td>\n",
       "      <td>0</td>\n",
       "      <td>0</td>\n",
       "      <td>0</td>\n",
       "      <td>0</td>\n",
       "      <td>0</td>\n",
       "      <td>0</td>\n",
       "      <td>0</td>\n",
       "      <td>1</td>\n",
       "      <td>0</td>\n",
       "      <td>0</td>\n",
       "    </tr>\n",
       "  </tbody>\n",
       "</table>\n",
       "<p>5 rows × 58 columns</p>\n",
       "</div>"
      ],
      "text/plain": [
       "   Unnamed: 0 outcome_type  age_upon_outcome_(years)     outcome_datetime  \\\n",
       "1          12     Adoption                        16  2013-11-22 09:44:00   \n",
       "2          14     Adoption                        17  2016-10-07 12:34:00   \n",
       "3          22     Adoption                        15  2015-10-29 15:00:00   \n",
       "6          32     Adoption                        15  2016-11-15 10:37:00   \n",
       "7          48     Adoption                        11  2013-11-16 12:24:00   \n",
       "\n",
       "  outcome_monthyear animal_type intake_condition      intake_type  \\\n",
       "1           2013-11         Dog           Normal  Owner Surrender   \n",
       "2           2016-10         Dog             Aged    Public Assist   \n",
       "3           2015-10         Dog           Normal            Stray   \n",
       "6           2016-11         Dog           Normal            Stray   \n",
       "7           2013-11         Dog           Normal            Stray   \n",
       "\n",
       "  sex_upon_outcome  age_upon_intake_(years)  ... color_Brown  \\\n",
       "1    Neutered Male                       16  ...           0   \n",
       "2    Neutered Male                       17  ...           0   \n",
       "3    Neutered Male                       15  ...           0   \n",
       "6    Spayed Female                       15  ...           0   \n",
       "7    Spayed Female                       11  ...           0   \n",
       "\n",
       "  color_Brown Brindle  color_Buff  color_Gray  color_Red  color_Sable  \\\n",
       "1                   0           0           0          0            0   \n",
       "2                   0           0           0          0            0   \n",
       "3                   0           0           0          0            1   \n",
       "6                   0           0           0          0            0   \n",
       "7                   0           0           0          0            0   \n",
       "\n",
       "   color_Tan  color_Tricolor  color_White  color_Yellow  \n",
       "1          0               0            0             0  \n",
       "2          1               0            0             0  \n",
       "3          0               0            0             0  \n",
       "6          0               0            0             0  \n",
       "7          0               1            0             0  \n",
       "\n",
       "[5 rows x 58 columns]"
      ]
     },
     "execution_count": 6,
     "metadata": {},
     "output_type": "execute_result"
    }
   ],
   "source": [
    "df = df[df['outcome_type']=='Adoption']\n",
    "df.head()"
   ]
  },
  {
   "cell_type": "code",
   "execution_count": 66,
   "metadata": {},
   "outputs": [],
   "source": [
    "#changing time_in_shelter_days to int\n",
    "df['time_in_shelter_days'] = df['time_in_shelter_days'].astype(int)"
   ]
  },
  {
   "cell_type": "markdown",
   "metadata": {},
   "source": [
    " Create bins for time in shelter"
   ]
  },
  {
   "cell_type": "code",
   "execution_count": 67,
   "metadata": {},
   "outputs": [
    {
     "data": {
      "text/plain": [
       "<matplotlib.axes._subplots.AxesSubplot at 0x7f42e24a7d90>"
      ]
     },
     "execution_count": 67,
     "metadata": {},
     "output_type": "execute_result"
    },
    {
     "data": {
      "image/png": "[encoded data removed]",
      "text/plain": [
       "<Figure size 432x288 with 3 Axes>"
      ]
     },
     "metadata": {
      "needs_background": "light"
     },
     "output_type": "display_data"
    }
   ],
   "source": [
    "# time in shleter is not normally distributed\n",
    "time_most = df[df.loc[:,'time_in_shelter_days']  >200 ]\n",
    "time20 = df[df.loc[:,'time_in_shelter_days']<= 20 ]\n",
    "time_mid = df[(df.loc[:, 'time_in_shelter_days']> 20) & (df.loc[:, 'time_in_shelter_days']<200)]\n",
    "\n",
    "\n",
    "fig, axes = plt.subplots(nrows=1, ncols=3)\n",
    "time20['time_in_shelter_days'].plot(ax=axes[0], kind='hist', bins=25)\n",
    "time_mid['time_in_shelter_days'].plot(ax=axes[1], kind='hist', bins=25)\n",
    "time_most['time_in_shelter_days'].plot(ax=axes[2], kind='hist', bins=25)\n"
   ]
  },
  {
   "cell_type": "code",
   "execution_count": 68,
   "metadata": {},
   "outputs": [
    {
     "name": "stdout",
     "output_type": "stream",
     "text": [
      "Percentiles of time in shelter. \n",
      " 10th:3.0, 50th: 7.0, 90th: 61.0\n"
     ]
    }
   ],
   "source": [
    "print('Percentiles of time in shelter. \\n 10th:{}, 50th: {}, 90th: {}'.format(df['time_in_shelter_days'].quantile(q=.10),\n",
    "        df['time_in_shelter_days'].quantile(q=.50), df['time_in_shelter_days'].quantile(q=.90)))"
   ]
  },
  {
   "cell_type": "code",
   "execution_count": 95,
   "metadata": {},
   "outputs": [],
   "source": [
    "#bins = [3, 5, 7, 14, 30, 60]\n",
    "#df['time_in_shelter_binned'] = pd.cut(df['time_in_shelter_days'], bins=bins)\n",
    "labels = ['< 4 days', '4-5 days', '5-10 days', '10-31 days', '31-1268 days']\n",
    "df['time_in_shelter_binned'] = pd.qcut(df['time_in_shelter_days'], 5, labels=labels)"
   ]
  },
  {
   "cell_type": "code",
   "execution_count": 96,
   "metadata": {
    "scrolled": true
   },
   "outputs": [
    {
     "data": {
      "text/plain": [
       "4-5 days        1666\n",
       "10-31 days      3048\n",
       "5-10 days       3098\n",
       "31-1268 days    3154\n",
       "< 4 days        4924\n",
       "Name: time_in_shelter_binned, dtype: int64"
      ]
     },
     "execution_count": 96,
     "metadata": {},
     "output_type": "execute_result"
    }
   ],
   "source": [
    "df['time_in_shelter_binned'].value_counts().sort_values()"
   ]
  },
  {
   "cell_type": "code",
   "execution_count": null,
   "metadata": {},
   "outputs": [],
   "source": []
  },
  {
   "cell_type": "code",
   "execution_count": null,
   "metadata": {},
   "outputs": [],
   "source": [
    "x = \n",
    "y = df['time_in_shelter_binned']"
   ]
  },
  {
   "cell_type": "markdown",
   "metadata": {},
   "source": [
    "Split into train and test data"
   ]
  },
  {
   "cell_type": "code",
   "execution_count": null,
   "metadata": {},
   "outputs": [],
   "source": [
    "x_train, x_test, y_train, y_test = train_test_split(x, y, )"
   ]
  }
 ],
 "metadata": {
  "kernelspec": {
   "display_name": "Python 3",
   "language": "python",
   "name": "python3"
  },
  "language_info": {
   "codemirror_mode": {
    "name": "ipython",
    "version": 3
   },
   "file_extension": ".py",
   "mimetype": "text/x-python",
   "name": "python",
   "nbconvert_exporter": "python",
   "pygments_lexer": "ipython3",
   "version": "3.8.3"
  }
 },
 "nbformat": 4,
 "nbformat_minor": 4
}
